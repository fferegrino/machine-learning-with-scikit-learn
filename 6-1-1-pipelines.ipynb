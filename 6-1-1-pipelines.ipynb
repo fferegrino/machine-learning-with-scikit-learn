{
 "cells": [
  {
   "cell_type": "markdown",
   "id": "a119ff88",
   "metadata": {},
   "source": [
    "# Pipelines (Parte 1)\n",
    "\n",
    "Los pipelines son una secuencia de pasos para procesar información.\n",
    "\n",
    "Así mismo, siguiendo este concepto, un pipeline en Scikit-Learn es una forma de aplicar secuencialmente una lista de transformaciones o predicciones a un conjunto de datos. \n",
    "\n",
    "En lugar de llevar a cabo la ejecución y almacenamiento de cada paso manualmente, los pipelines te permiten organizar el pre-procesamiento, extracción de características y entrenamiento en un solo lugar. Y después, puedes reutilizarlos para cuando tienes que realizar nuevas predicciones.\n",
    "\n",
    "Esto simplifica tu código, dota de consistencia en tus proyectos y hace muy sencilla la tarea de compartir y reutilizar el código.\n",
    "\n",
    "Los pipelines siguen exactamente la misma interfaz que ya hemos visto que comparten muchos objetos en Scikit-Learn"
   ]
  },
  {
   "cell_type": "markdown",
   "id": "bda07262",
   "metadata": {},
   "source": [
    "## La clase <code>Pipeline</code>\n",
    "\n",
    "La clase al rededor de la que se centra todo es la clase <code>Pipeline</code>:"
   ]
  },
  {
   "cell_type": "code",
   "execution_count": null,
   "id": "deeb8091",
   "metadata": {},
   "outputs": [],
   "source": [
    "from sklearn.pipeline import Pipeline"
   ]
  },
  {
   "cell_type": "markdown",
   "id": "6ba8af77",
   "metadata": {},
   "source": [
    "Esta recibe una lista de tuplas de transformadores asociados con un nombre, por ejemplo, vamos a crear un pipeline con dos pasos, uno que escale unas variables y otro que reduzca las dimensiones a un dataset – dos transformaciones que ya vimos en este curso:"
   ]
  },
  {
   "cell_type": "code",
   "execution_count": null,
   "id": "3caeaa3f",
   "metadata": {},
   "outputs": [],
   "source": [
    "from sklearn.preprocessing import StandardScaler\n",
    "from sklearn.decomposition import PCA\n",
    "\n",
    "pipeline = Pipeline([\n",
    "\t('scaler', StandardScaler()),\n",
    "\t('pca', PCA(n_components=2)),\n",
    "])"
   ]
  },
  {
   "cell_type": "markdown",
   "id": "21a695d7",
   "metadata": {},
   "source": [
    "Y ahora vamos a cargar unos datos para demostrar cómo es que funciona – nota que <code>X_train</code> es un una matriz de 4 columnas:"
   ]
  },
  {
   "cell_type": "code",
   "execution_count": null,
   "id": "67493ff6",
   "metadata": {},
   "outputs": [],
   "source": [
    "from utils import load_split_iris\n",
    "\n",
    "X_train, X_test, y_train, y_test = load_split_iris()"
   ]
  },
  {
   "cell_type": "markdown",
   "id": "a48dac08",
   "metadata": {},
   "source": [
    "Con esto, ya podemos entrenar a nuestro pipeline:"
   ]
  },
  {
   "cell_type": "code",
   "execution_count": null,
   "id": "fd8826cc",
   "metadata": {},
   "outputs": [],
   "source": [
    "pipeline.fit(X_train)"
   ]
  },
  {
   "cell_type": "markdown",
   "id": "e450675f",
   "metadata": {},
   "source": [
    "Después podemos transformar nuestros dos conjuntos de datos – si ves los valores resultantes, verás que ahora solo son dos dimensiones gracias a la reducción de dimensiones que agregamos:"
   ]
  },
  {
   "cell_type": "code",
   "execution_count": null,
   "id": "d67c6177",
   "metadata": {},
   "outputs": [],
   "source": [
    "X_train_transformed = pipeline.transform(X_train)\n",
    "X_test_transformed = pipeline.transform(X_test)"
   ]
  },
  {
   "cell_type": "markdown",
   "id": "8f60214c",
   "metadata": {},
   "source": [
    "Y ahora sí, estos datos podemos usarlos en un clasificador, por ejemplo:"
   ]
  },
  {
   "cell_type": "code",
   "execution_count": null,
   "id": "9ae3a5e7",
   "metadata": {},
   "outputs": [],
   "source": [
    "from sklearn.linear_model import LogisticRegression\n",
    "\n",
    "lr = LogisticRegression()\n",
    "\n",
    "lr.fit(X_train_transformed, y_train)\n",
    "y_pred = lr.predict(X_test_transformed)\n",
    "score = lr.score(X_test_transformed, y_test)\n",
    "print(f'Test accuracy: {score:.2f}')"
   ]
  },
  {
   "cell_type": "markdown",
   "id": "a30f8124",
   "metadata": {},
   "source": [
    "¿Excelente no? ahora ya no tenemos que preocuparnos por tener que guardar el scaler y pca por separado. Y ahora podemos utilizar el mismo pipeline cuando pongamos nuestros datos en producción…"
   ]
  },
  {
   "cell_type": "markdown",
   "id": "3fe29a34",
   "metadata": {},
   "source": [
    "## Los pipelines como modelos de machine learning\n",
    "\n",
    "Pero, ¿qué me dirías si te dijera que podemos incluir nuestro modelo como parte del pipeline en lugar de tenerlo por separado?\n",
    "\n",
    " Vamos a definir exactamente eso:"
   ]
  },
  {
   "cell_type": "code",
   "execution_count": null,
   "id": "76c0d599",
   "metadata": {},
   "outputs": [],
   "source": [
    "pipeline = Pipeline([\n",
    "\t('scaler', StandardScaler()),\n",
    "\t('pca', PCA(n_components=2)),\n",
    "\t('lr', LogisticRegression()),\n",
    "])\n",
    "\n",
    "pipeline.fit(X_train, y_train)"
   ]
  },
  {
   "cell_type": "markdown",
   "id": "02c0ecdf",
   "metadata": {},
   "source": [
    "Así como lo vez, el último paso de un <code>Pipeline</code> puede ser un modelo de machine learning. Y luego lo podemos utilizar para predecir nuevos valores:"
   ]
  },
  {
   "cell_type": "code",
   "execution_count": null,
   "id": "2a5a9064",
   "metadata": {},
   "outputs": [],
   "source": [
    "y_pred = pipeline.predict(X_test)\n",
    "score = pipeline.score(X_test, y_test)\n",
    "print(f'Test accuracy: {score:.2f}')"
   ]
  },
  {
   "cell_type": "markdown",
   "id": "d20343aa",
   "metadata": {},
   "source": [
    "## Son compatibles con otras herramientas de Scikit-Learn\n",
    "\n",
    "Los <code>Pipelines</code> también son compatibles con otras herramientas disponibles en Scikit-Learn, por ejemplo las herramientas de validación cruzada que ya vimos previamente:"
   ]
  },
  {
   "cell_type": "code",
   "execution_count": null,
   "id": "18b093af",
   "metadata": {},
   "outputs": [],
   "source": [
    "import numpy as np\n",
    "from sklearn.model_selection import cross_val_score\n",
    "\n",
    "pipeline = Pipeline([\n",
    "\t('scaler', StandardScaler()),\n",
    "\t('pca', PCA(n_components=2)),\n",
    "\t('lr', LogisticRegression()),\n",
    "])\n",
    "\n",
    "cv = 5\n",
    "cv_scores = cross_val_score(pipeline, X_train, y_train, cv=cv)\n",
    "\n",
    "# Mostrar los resultados\n",
    "print(f'Scores de validación cruzada ({cv} folds): {cv_scores}')\n",
    "print(f'Score promedio: {np.mean(cv_scores):0.2f}')"
   ]
  },
  {
   "cell_type": "markdown",
   "id": "7d9370d0",
   "metadata": {},
   "source": [
    "Y también con la búsqueda de hiperparámetros:"
   ]
  },
  {
   "cell_type": "code",
   "execution_count": null,
   "id": "6ae76225",
   "metadata": {},
   "outputs": [],
   "source": [
    "pipeline = Pipeline([\n",
    "    ('scaler', StandardScaler()), # Paso 1: Escalar los datos\n",
    "    ('pca', PCA()),               # Paso 2: Reducción de dimensionalidad\n",
    "    ('lr', LogisticRegression()), # Paso 3: Modelo de regresión logística\n",
    "])\n",
    "\n",
    "param_grid = {\n",
    "    'pca__n_components': [1, 2, 3],\n",
    "    'lr__penalty': ['l1', 'l2', 'elasticnet', None],\n",
    "    'lr__C': np.logspace(-3, 3, 7),\n",
    "}"
   ]
  },
  {
   "cell_type": "markdown",
   "id": "87311e0f",
   "metadata": {},
   "source": [
    "La peculiaridad está en cómo definimos la cuadrícula de parámetros, tienes que ponerle el nombre con el que asociaste el transformador seguido de dos guiones bajos, seguido por el nombre del argumento."
   ]
  },
  {
   "cell_type": "code",
   "execution_count": null,
   "id": "77e10524",
   "metadata": {},
   "outputs": [],
   "source": [
    "from sklearn.model_selection import GridSearchCV\n",
    "\n",
    "grid_search = GridSearchCV(pipeline, param_grid, cv=5, n_jobs=-1)\n",
    "grid_search.fit(X_train, y_train)"
   ]
  },
  {
   "cell_type": "code",
   "execution_count": null,
   "id": "159db332",
   "metadata": {},
   "outputs": [],
   "source": [
    "# Mostrar los resultados\n",
    "print(f'Mejores parámetros: {grid_search.best_params_}')\n",
    "print(f'Mejor puntaje: {grid_search.best_score_:.2f}')"
   ]
  }
 ],
 "metadata": {
  "kernelspec": {
   "display_name": "Python 3 (ipykernel)",
   "language": "python",
   "name": "python3"
  },
  "language_info": {
   "codemirror_mode": {
    "name": "ipython",
    "version": 3
   },
   "file_extension": ".py",
   "mimetype": "text/x-python",
   "name": "python",
   "nbconvert_exporter": "python",
   "pygments_lexer": "ipython3",
   "version": "3.8.11"
  },
  "notion_metadata": {
   "archived": false,
   "cover": null,
   "created_by": {
    "id": "84951847-6e2b-487e-acba-6838f60f1102",
    "object": "user"
   },
   "created_time": "2023-03-14T20:37:00.000Z",
   "icon": null,
   "id": "72d0bbeb-ea5c-4d3c-a1e4-dbd726295b3d",
   "last_edited_by": {
    "id": "84951847-6e2b-487e-acba-6838f60f1102",
    "object": "user"
   },
   "last_edited_time": "2023-04-21T17:09:00.000Z",
   "object": "page",
   "parent": {
    "database_id": "97ecfa4e-50d1-4827-8791-2199c709d680",
    "type": "database_id"
   },
   "properties": {
    "Assign": {
     "id": "%5DtZZ",
     "people": [],
     "type": "people"
    },
    "Code name": {
     "id": "PT%5CP",
     "rich_text": [],
     "type": "rich_text"
    },
    "Name": {
     "id": "title",
     "title": [
      {
       "annotations": {
        "bold": false,
        "code": false,
        "color": "default",
        "italic": false,
        "strikethrough": false,
        "underline": false
       },
       "href": null,
       "plain_text": "6.1.1 Pipelines",
       "text": {
        "content": "6.1.1 Pipelines",
        "link": null
       },
       "type": "text"
      }
     ],
     "type": "title"
    },
    "Order": {
     "id": "k_Cb",
     "number": 7.1,
     "type": "number"
    },
    "Real order": {
     "id": "%7Dn_k",
     "rich_text": [
      {
       "annotations": {
        "bold": false,
        "code": false,
        "color": "default",
        "italic": false,
        "strikethrough": false,
        "underline": false
       },
       "href": null,
       "plain_text": "29 - Pipelines",
       "text": {
        "content": "29 - Pipelines",
        "link": null
       },
       "type": "text"
      }
     ],
     "type": "rich_text"
    },
    "Status": {
     "id": "s%7D%5Ea",
     "status": {
      "color": "green",
      "id": "b6060d48-45e7-42e9-a8a0-8bd803231f7f",
      "name": "Done"
     },
     "type": "status"
    }
   },
   "url": "https://www.notion.so/6-1-1-Pipelines-72d0bbebea5c4d3ca1e4dbd726295b3d"
  }
 },
 "nbformat": 4,
 "nbformat_minor": 5
}
