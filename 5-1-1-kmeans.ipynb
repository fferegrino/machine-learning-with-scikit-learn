{
 "cells": [
  {
   "cell_type": "markdown",
   "id": "1e11f7ed",
   "metadata": {},
   "source": [
    "# k-Means.\n",
    "\n",
    "El algoritmo k-means es un método de clustering o agrupamiento de datos que se utiliza para clasificar conjuntos de datos no etiquetados en grupos o clústeres basados en la similitud de sus características.\n",
    "\n",
    "Se le considera de aprendizaje no supervisado porque no necesita etiquetas para funcionar.\n",
    "\n",
    "En Scikit-learn, la implementación de k-means se encuentra en la clase <code><b>KMeans</b></code>. "
   ]
  },
  {
   "cell_type": "code",
   "execution_count": null,
   "id": "7aabe812",
   "metadata": {},
   "outputs": [],
   "source": [
    "from sklearn.cluster import KMeans"
   ]
  },
  {
   "cell_type": "markdown",
   "id": "ef3c3e32",
   "metadata": {},
   "source": [
    "Esta clase ofrece varias opciones de configuración, como la cantidad de clústeres que se desea encontrar, la inicialización de los centroides y el número máximo de iteraciones. Pero antes de verlas, te voy a enseñar su uso básico con el dataset de Iris (recuerda que son tres tipos de flores):"
   ]
  },
  {
   "cell_type": "code",
   "execution_count": null,
   "id": "4697c0b2",
   "metadata": {},
   "outputs": [],
   "source": [
    "from sklearn.datasets import load_iris\n",
    "\n",
    "iris = load_iris()\n",
    "X = iris.data"
   ]
  },
  {
   "cell_type": "markdown",
   "id": "b1b7d7eb",
   "metadata": {},
   "source": [
    "Para inicializar <code>KMeans</code> es necesario especificar el número de clusteres que queremos obtener, y esta es tal vez una de las debilidades del algoritmo: tienes que especificarle de antemano cuántos clústers necesitas – ya sabes que scikit-learn tiene valores por default para sus argumentos, el valor por default para este argumento es 8, pero nosotros vamos a dejarlo en 3:"
   ]
  },
  {
   "cell_type": "code",
   "execution_count": null,
   "id": "dea59d1e",
   "metadata": {},
   "outputs": [],
   "source": [
    "kmeans = KMeans(n_clusters=3)\n",
    "kmeans.fit(X)"
   ]
  },
  {
   "cell_type": "markdown",
   "id": "a064c74e",
   "metadata": {},
   "source": [
    " > 📢 Además, recuerda que para que k-Means funcione correctamente, los datos deben estar en escalas similares, lo que quiere decir que debes tratar de escalar tus datos antes de introducirlos al modelo."
   ]
  },
  {
   "cell_type": "markdown",
   "id": "97cf69d7",
   "metadata": {},
   "source": [
    "## Atributos\n",
    "\n",
    "Una vez ya entrenado podemos encontrar los clústeres de los datos utilizando el atributo <code>labels_</code>:"
   ]
  },
  {
   "cell_type": "code",
   "execution_count": null,
   "id": "c3e04521",
   "metadata": {},
   "outputs": [],
   "source": [
    "kmeans.labels_"
   ]
  },
  {
   "cell_type": "markdown",
   "id": "19b8260a",
   "metadata": {},
   "source": [
    "También podemos acceder a los centroides que calculo, recuerda que hay tantos centroides como número de clústeres:"
   ]
  },
  {
   "cell_type": "code",
   "execution_count": null,
   "id": "aa8f87db",
   "metadata": {},
   "outputs": [],
   "source": [
    "kmeans.cluster_centers_"
   ]
  },
  {
   "cell_type": "markdown",
   "id": "68d2316a",
   "metadata": {},
   "source": [
    "En este caso, tenemos 3 centroides de 4 dimensiones cada uno porque nuestros datos de entrada eran 4-dimensionales.\n",
    "\n",
    "Pero es mejor visualizado en una gráfica (esta gráfica solamente utiliza un par de las características del dataset):"
   ]
  },
  {
   "cell_type": "code",
   "execution_count": null,
   "id": "6eb591ab",
   "metadata": {},
   "outputs": [],
   "source": [
    "from utils import view_centroids_iris\n",
    "\n",
    "view_centroids_iris(kmeans, X)"
   ]
  },
  {
   "cell_type": "markdown",
   "id": "0ead61d1",
   "metadata": {},
   "source": [
    "Otro de los atributos es la inercia. La inercia mide la dispersión interna de los clusters, es decir qué tan lejos están los puntos del centroide más cercano. En general, el objetivo de k-Means es minimizar este valor. Una vez ya entrenado podemos acceder a esta información a través del atributo:"
   ]
  },
  {
   "cell_type": "code",
   "execution_count": null,
   "id": "1a3ac7a0",
   "metadata": {},
   "outputs": [],
   "source": [
    "kmeans.inertia_"
   ]
  },
  {
   "cell_type": "markdown",
   "id": "56c0c7c4",
   "metadata": {},
   "source": [
    "## Argumentos de <code>kmeans</code>\n",
    "\n",
    "El algoritmo KMeans tiene varios argumentos importantes que se pueden ajustar para obtener los resultados deseados. A continuación, te presento los argumentos más importantes:\n",
    "\n",
    " - <code><b>n_clusters</b></code>: Especifica el número de clústeres que se desean en la solución. Este es el parámetro más importante y debe ser ajustado cuidadosamente.\n",
    "\n",
    " - <code><b>init</b></code>: Especifica el método de inicialización de los centroides de los clústeres. Las opciones son \"k-means++\", \"random\" y un arreglo personalizado, \"k-means++\" es el método predeterminado y se recomienda para la mayoría de los casos.\n",
    "\n",
    " - <code><b>n_init</b></code>: Especifica el número de veces que el algoritmo se ejecutará con diferentes inicializaciones de centroides. La solución final será la mejor de todas las ejecuciones. El valor predeterminado es 10, pero se puede aumentar si se quiere encontrar una solución más precisa.\n",
    "\n",
    " - <code><b>max_iter</b></code>: Especifica el número máximo de iteraciones permitidas antes de que el algoritmo se detenga, incluso si no ha convergido. El valor predeterminado es 300.\n",
    "\n",
    " - <code><b>tol</b></code>: Especifica la tolerancia para la convergencia. Si la distancia entre el centroide y su centroide anterior es menor que <code><b>tol</b></code>, se considera que el algoritmo ha convergido. El valor predeterminado es <code>1e-4</code>."
   ]
  },
  {
   "cell_type": "markdown",
   "id": "4e295508",
   "metadata": {},
   "source": [
    "## Jugando con los argumentos"
   ]
  },
  {
   "cell_type": "code",
   "execution_count": null,
   "id": "3d69e167",
   "metadata": {},
   "outputs": [],
   "source": [
    "from utils import plot_centroids\n",
    "\n",
    "import numpy as np\n",
    "import matplotlib.pyplot as plt\n",
    "from sklearn.datasets import make_blobs\n",
    "\n",
    "X, y = make_blobs(n_samples=300, centers=6, cluster_std=1, random_state=42)\n",
    "\n",
    "plt.scatter(X[:,0],X[:,1], c=y)"
   ]
  },
  {
   "cell_type": "markdown",
   "id": "493717c5",
   "metadata": {},
   "source": [
    "### <code>n_clusters</code>\n",
    "\n",
    "Tal vez los valores más importantes para tunear sean la cantidad de clusters:"
   ]
  },
  {
   "cell_type": "code",
   "execution_count": null,
   "id": "9da9ccf7",
   "metadata": {},
   "outputs": [],
   "source": [
    "# Variando n_clusters\n",
    "n_clusters_list = [2, 3, 4, 5, 6, 7]\n",
    "\n",
    "trained_kmeans = []\n",
    "titles = []\n",
    "for n_clusters in n_clusters_list:\n",
    "    kmeans = KMeans(n_clusters=n_clusters, random_state=42, n_init='auto')\n",
    "    kmeans.fit(X)\n",
    "    trained_kmeans.append(kmeans)\n",
    "    titles.append(f\"n_clusters = {n_clusters}\")\n",
    "plot_centroids(input_features=X, trained_kmeans=trained_kmeans, titles=titles)"
   ]
  },
  {
   "cell_type": "markdown",
   "id": "c3273b85",
   "metadata": {},
   "source": [
    "### Elbow method – la regla del codo\n",
    "\n",
    "La gran mayoría de las veces es imposible visualizar los centroides de nuestros datos (por aquello de la gran dimensionalidad). Pero puedes hacer uso de “la regla del codo”. La del codo es una heurística usada para determinar el número óptimo de clusteres. Consiste en buscar un punto de inflexión en el que la inercia deja de cambiar drásticamente."
   ]
  },
  {
   "cell_type": "code",
   "execution_count": null,
   "id": "d40e0a0a",
   "metadata": {},
   "outputs": [],
   "source": [
    "inertias = [kmeans.inertia_ for kmeans in trained_kmeans]\n",
    "\n",
    "fig, ax = plt.subplots(figsize=(8, 6))\n",
    "ax.plot(n_clusters_list, inertias , marker='o')\n",
    "ax.set_xlabel('Número de clusters')\n",
    "ax.set_ylabel('Inercia')\n",
    "ax.set_title('Regla del codo')"
   ]
  },
  {
   "cell_type": "markdown",
   "id": "65415a1b",
   "metadata": {},
   "source": [
    "Adicionalmente, recuerda que hay otras métricas que ya vimos previamente en el módulo de métricas de agrupamiento."
   ]
  },
  {
   "cell_type": "markdown",
   "id": "1c78538c",
   "metadata": {},
   "source": [
    "### <code>init</code>\n",
    "\n",
    "La forma de inicializar los clusters"
   ]
  },
  {
   "cell_type": "code",
   "execution_count": null,
   "id": "429363bb",
   "metadata": {},
   "outputs": [],
   "source": [
    "init_methods = ['k-means++', 'random', np.array([[-10, -10] for _ in range(6)])]\n",
    "init_titles = ['k-means++', 'random', 'custom']\n",
    "\n",
    "trained_kmeans = []\n",
    "titles = []\n",
    "for title, init in zip(init_titles, init_methods):\n",
    "    kmeans = KMeans(n_clusters=6, init=init, random_state=42, n_init=1)\n",
    "    kmeans.fit(X)\n",
    "    trained_kmeans.append(kmeans)\n",
    "    titles.append(f\"init = {title}\")\n",
    "plot_centroids(input_features=X, trained_kmeans=trained_kmeans, titles=titles)"
   ]
  },
  {
   "cell_type": "markdown",
   "id": "f19f79a7",
   "metadata": {},
   "source": [
    "## <code>max_iter</code>\n",
    "\n",
    "El número máximo de iteraciones"
   ]
  },
  {
   "cell_type": "code",
   "execution_count": null,
   "id": "c58cc939",
   "metadata": {},
   "outputs": [],
   "source": [
    "# Variando max_iter\n",
    "max_iter_list = [1, 2, 3, 4, 5, 300]\n",
    "\n",
    "initial_centroids = np.array([[0, 0] for _ in range(6)])\n",
    "\n",
    "trained_kmeans = []\n",
    "titles = []\n",
    "for max_iter in max_iter_list:\n",
    "    kmeans = KMeans(n_clusters=6, max_iter=max_iter, init=initial_centroids, n_init=1, random_state=42)\n",
    "    kmeans.fit(X)\n",
    "    trained_kmeans.append(kmeans)\n",
    "    titles.append(f'max_iter: {max_iter}')\n",
    "    \n",
    "plot_centroids(input_features=X, trained_kmeans=trained_kmeans, titles=titles)"
   ]
  },
  {
   "cell_type": "markdown",
   "id": "e409aac6",
   "metadata": {},
   "source": [
    "## Kmeans y grandes datasets\n",
    "\n",
    "Kmeans es un algoritmo que funciona bien para datasets de tamaño moderado. Sin embargo se vuelve muy poco eficiente cuando se utiliza para datasets grandes, tanto en número de filas u observaciones, como en número de columnas o features.\n",
    "\n",
    "Dentro de Scikit-Learn existe otro algoritmo llamado Mini-batch k-Means, que en lugar de operar sobre todo el dataset a la vez (como es el caso de kMeans) opera sobre un subconjunto de elementos a la vez.\n",
    "\n",
    " > 📚 De tarea, ¿por qué no lo usas y ves su comportamiento? lo puedes importar de <code>sklearn.cluster</code> como <code>MiniBatchKMeans</code>."
   ]
  },
  {
   "cell_type": "markdown",
   "id": "2da4f1be",
   "metadata": {},
   "source": [
    "## En conclusión\n",
    "\n",
    "KMeans es un algoritmo que puedes usar cuando:\n",
    "\n",
    " 1. Necesitas agrupar datos no etiquetados en función de su similitud, ya que KMeans busca dividir el conjunto de datos en grupos (clusters) compactos y separados.\n",
    "\n",
    " 1. Tienes un conjunto de datos de tamaño moderado y dimensionalidad no muy alta\n",
    "\n",
    " 1. Deseas un algoritmo fácil de implementar y entender\n",
    "\n",
    "Pero deberías tener cuidado de usarlo en:\n",
    "\n",
    " 1. Datos con ruido, valores outliers o datos que se superponen entre diferentes grupos\n",
    "\n",
    " 1. Datos de alta dimensionalidad, ya que KMeans puede verse afectado por la \"maldición de la dimensionalidad\"\n",
    "\n",
    " 1. Conjuntos de datos extremadamente grandes, en cuyo caso podrías considerar el uso de Mini-Batch KMeans u otros algoritmos de clustering más escalables.\n",
    "\n",
    " 1. Situaciones en las que no tienes una idea aproximada del número de clusters, ya que KMeans requiere que especifiques el número de clusters de antemano.\n"
   ]
  },
  {
   "cell_type": "code",
   "execution_count": null,
   "id": "879de299-53f5-44f0-a43d-6a0f320aed5b",
   "metadata": {},
   "outputs": [],
   "source": []
  }
 ],
 "metadata": {
  "kernelspec": {
   "display_name": "Python 3 (ipykernel)",
   "language": "python",
   "name": "python3"
  },
  "language_info": {
   "codemirror_mode": {
    "name": "ipython",
    "version": 3
   },
   "file_extension": ".py",
   "mimetype": "text/x-python",
   "name": "python",
   "nbconvert_exporter": "python",
   "pygments_lexer": "ipython3",
   "version": "3.8.11"
  },
  "notion_metadata": {
   "archived": false,
   "cover": null,
   "created_by": {
    "id": "84951847-6e2b-487e-acba-6838f60f1102",
    "object": "user"
   },
   "created_time": "2023-04-18T20:29:00.000Z",
   "icon": null,
   "id": "1664fcf2-cb08-4147-a2aa-3e633d187d3b",
   "last_edited_by": {
    "id": "84951847-6e2b-487e-acba-6838f60f1102",
    "object": "user"
   },
   "last_edited_time": "2023-04-23T09:31:00.000Z",
   "object": "page",
   "parent": {
    "database_id": "97ecfa4e-50d1-4827-8791-2199c709d680",
    "type": "database_id"
   },
   "properties": {
    "Assign": {
     "id": "%5DtZZ",
     "people": [],
     "type": "people"
    },
    "Code name": {
     "id": "PT%5CP",
     "rich_text": [
      {
       "annotations": {
        "bold": false,
        "code": false,
        "color": "default",
        "italic": false,
        "strikethrough": false,
        "underline": false
       },
       "href": null,
       "plain_text": "kMeans",
       "text": {
        "content": "kMeans",
        "link": null
       },
       "type": "text"
      }
     ],
     "type": "rich_text"
    },
    "Name": {
     "id": "title",
     "title": [
      {
       "annotations": {
        "bold": false,
        "code": false,
        "color": "default",
        "italic": false,
        "strikethrough": false,
        "underline": false
       },
       "href": null,
       "plain_text": "5.1.1 KMeans",
       "text": {
        "content": "5.1.1 KMeans",
        "link": null
       },
       "type": "text"
      }
     ],
     "type": "title"
    },
    "Order": {
     "id": "k_Cb",
     "number": 6.11,
     "type": "number"
    },
    "Real order": {
     "id": "%7Dn_k",
     "rich_text": [
      {
       "annotations": {
        "bold": false,
        "code": false,
        "color": "default",
        "italic": false,
        "strikethrough": false,
        "underline": false
       },
       "href": null,
       "plain_text": "26",
       "text": {
        "content": "26",
        "link": null
       },
       "type": "text"
      }
     ],
     "type": "rich_text"
    },
    "Status": {
     "id": "s%7D%5Ea",
     "status": {
      "color": "green",
      "id": "b6060d48-45e7-42e9-a8a0-8bd803231f7f",
      "name": "Done"
     },
     "type": "status"
    }
   },
   "url": "https://www.notion.so/5-1-1-KMeans-1664fcf2cb084147a2aa3e633d187d3b"
  }
 },
 "nbformat": 4,
 "nbformat_minor": 5
}
