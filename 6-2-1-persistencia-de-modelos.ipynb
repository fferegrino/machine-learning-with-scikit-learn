{
 "cells": [
  {
   "cell_type": "markdown",
   "id": "bf823e7d",
   "metadata": {},
   "source": [
    "# Persistencia de modelos\n",
    "\n",
    "Ya tienes todo listo, estás contento o contenta con tu modelo y todos los vectorizadores y transformadores que entrenaste para hacerlo funcionar. Pero, ¿qué sigue? es hora de guardarlo en el disco para distribuirlo y ponerlo en producción.\n",
    "\n",
    "Para continuar en esta lección, voy a cargar y crear y entrenar un pipeline de scikit learn que para fines prácticos, es un modelo de scikit-learn. Si quieres conocer más detalles, revisa la lección sobre pipelines."
   ]
  },
  {
   "cell_type": "code",
   "execution_count": null,
   "id": "44417c75",
   "metadata": {},
   "outputs": [],
   "source": [
    "import numpy as np\n",
    "from sklearn.linear_model import LinearRegression\n",
    "from sklearn.model_selection import train_test_split\n",
    "from sklearn.metrics import mean_squared_error\n",
    "\n",
    "def load_trained_model():\n",
    "# Generate synthetic data\n",
    "\tnp.random.seed(0)\n",
    "\tX = np.random.rand(100, 1)\n",
    "\ty = 2 * X + 1 + 0.1 * np.random.randn(100, 1)\n",
    "\t\n",
    "\t# Split the data into training and testing sets\n",
    "\tX_train, X_test, y_train, y_test = train_test_split(X, y, test_size=0.2, random_state=42)\n",
    "\t\n",
    "\t# Create a linear regression model\n",
    "\tmodel = LinearRegression()\n",
    "\t\n",
    "\t# Train the model using the training data\n",
    "\tmodel.fit(X_train, y_train)\n",
    "\n",
    "\treturn model\n",
    "\n",
    "model = load_trained_model()"
   ]
  },
  {
   "cell_type": "markdown",
   "id": "9141c6d1",
   "metadata": {},
   "source": [
    "Recuerda que este ya es un modelo entrenado."
   ]
  },
  {
   "cell_type": "markdown",
   "id": "0ffc0aa6",
   "metadata": {},
   "source": [
    "## Pickle\n",
    "\n",
    "Tradicionalmente los modelos eran serializados en disco utilizando <code>pickle</code> la biblioteca por default para serializar objetos en Python.\n",
    "\n",
    "Guardar un modelo es sencillo con pickle, lo que tienes que hacer es:"
   ]
  },
  {
   "cell_type": "code",
   "execution_count": null,
   "id": "7139c6d3",
   "metadata": {},
   "outputs": [],
   "source": [
    "import pickle\n",
    "\n",
    "with open(\"model.pickle\", \"wb\") as wb:\n",
    "\tpickle.dump(model, wb)"
   ]
  },
  {
   "cell_type": "markdown",
   "id": "9b628407",
   "metadata": {},
   "source": [
    "Esto serializará el modelo en el archivo “model.pickle”, este ya es un archivo que podemos compartir con alguien más o poner en producción nosotros mismos. Para leerlo de disco es necesario hacer lo siguiente:"
   ]
  },
  {
   "cell_type": "code",
   "execution_count": null,
   "id": "ab409b96",
   "metadata": {},
   "outputs": [],
   "source": [
    "with open(\"model.pickle\", \"rb\") as rb:\n",
    "\tunpickled_model = pickle.load(rb)"
   ]
  },
  {
   "cell_type": "markdown",
   "id": "18d60d34",
   "metadata": {},
   "source": [
    "Podemos corroborar que sea del tipo que estamos esperando:"
   ]
  },
  {
   "cell_type": "code",
   "execution_count": null,
   "id": "c129b607",
   "metadata": {},
   "outputs": [],
   "source": [
    "type(unpickled_model)"
   ]
  },
  {
   "cell_type": "markdown",
   "id": "259c40b9",
   "metadata": {},
   "source": [
    "Y hacer predicciones sobre nuevos datos:"
   ]
  },
  {
   "cell_type": "code",
   "execution_count": null,
   "id": "98fd3196",
   "metadata": {},
   "outputs": [],
   "source": []
  },
  {
   "cell_type": "markdown",
   "id": "6969d348",
   "metadata": {},
   "source": [
    "### Desventajas\n",
    "\n",
    "Sin embargo, pickle tiene serios fallos de seguridad y no es el modo recomendable de persistir tus modelos ya que al momento de deserializar este permite la ejecución de código de forma arbitraria. Yo te recomiendo que uses pickle si, y solo si, no tienes otra alternativa."
   ]
  },
  {
   "cell_type": "markdown",
   "id": "5372c22f",
   "metadata": {},
   "source": [
    "## Joblib\n",
    "\n",
    "Existe otra biblioteca llamada <code>joblib</code> que está optimizada para serializar grandes arreglos de NumPy. Pero que internamente termina utilizando pickle para muchas de sus tareas, así que comparten los mismos problemas.\n",
    "\n",
    "Yo te voy a mostrar cómo se usa por completitud en este curso:"
   ]
  },
  {
   "cell_type": "code",
   "execution_count": null,
   "id": "b90ddf64",
   "metadata": {},
   "outputs": [],
   "source": [
    "from joblib import dump\n",
    "\n",
    "dump(model, \"model.joblib\")"
   ]
  },
  {
   "cell_type": "markdown",
   "id": "44f0c786",
   "metadata": {},
   "source": [
    "Y para cargarlo, se hace así:"
   ]
  },
  {
   "cell_type": "code",
   "execution_count": null,
   "id": "fd5f3aac",
   "metadata": {},
   "outputs": [],
   "source": [
    "from joblib import load\n",
    "\n",
    "model_joblibbed = load(\"model.joblib\")"
   ]
  },
  {
   "cell_type": "markdown",
   "id": "41b3becb",
   "metadata": {},
   "source": [
    "Revisa el tipo y haz algunas predicciones para que veas que si funciona:"
   ]
  },
  {
   "cell_type": "code",
   "execution_count": null,
   "id": "cee56d0b",
   "metadata": {},
   "outputs": [],
   "source": [
    "type(model_joblibbed)"
   ]
  },
  {
   "cell_type": "markdown",
   "id": "b54078ca",
   "metadata": {},
   "source": [
    "Si bien Joblib es una mejora sobre Pickle, esta mejora es en aspectos de velocidad y tamaño del modelo almacenado, pero nada cambia en el ámbito de seguridad. Es por eso que te recomiendo que no utilices Joblib a menos de que no tengas otra alternativa."
   ]
  },
  {
   "cell_type": "markdown",
   "id": "b972a6db",
   "metadata": {},
   "source": [
    "## Skops\n",
    "\n",
    "Recientemente surgió una nueva biblioteca llamada skops, cuyo objetivo es ayudar a guardar modelos de machine learning y ponerlos en producción. \n",
    "\n",
    "Esta biblioteca forma parte de scikit-learn, sino que es \n",
    "\n",
    "Es sencilla de utilizar:"
   ]
  },
  {
   "cell_type": "code",
   "execution_count": null,
   "id": "43e07084",
   "metadata": {},
   "outputs": [],
   "source": [
    "import skops.io as sio\n",
    "\n",
    "sio.dump(model, \"model.sio\")"
   ]
  },
  {
   "cell_type": "markdown",
   "id": "a99487cb",
   "metadata": {},
   "source": [
    "Y para cargarlo:"
   ]
  },
  {
   "cell_type": "code",
   "execution_count": null,
   "id": "41543f1d",
   "metadata": {},
   "outputs": [],
   "source": [
    "skopted_model = sio.load(\"model.sio\")"
   ]
  },
  {
   "cell_type": "markdown",
   "id": "94499297",
   "metadata": {},
   "source": [
    "Revisa el tipo y haz algunas predicciones para que veas que si funciona:"
   ]
  },
  {
   "cell_type": "code",
   "execution_count": null,
   "id": "4a47af77",
   "metadata": {},
   "outputs": [],
   "source": [
    "type(skopted_model)"
   ]
  },
  {
   "cell_type": "markdown",
   "id": "5c6e4cbb",
   "metadata": {},
   "source": [
    "## Sobre las extensiones\n",
    "\n",
    "En realidad no importan para nada las extensiones que le asignes a tu modelo, puesto que a final de cuentas para leerlos o escribirlos al disco deberás especificar la dirección completa hacia el archivo."
   ]
  },
  {
   "cell_type": "markdown",
   "id": "766f3531",
   "metadata": {},
   "source": [
    "## Otras recomendaciones\n",
    "\n",
    "Guardar los modelos es solo una parte de poner nuestros modelos en producción, otras cosas que debes hacer es \n",
    "\n",
    "Guardar los archivos es solo una parte de poner nuestros modelos en producción. Otras cosas que debes hacer son:\n",
    "\n",
    " 1. <b>Mantener versiones consistentes de las bibliotecas</b>: Asegurarte de utilizar las mismas versiones, o algunas compatibles de scikit-learn y sus dependencias al guardar y cargar los modelos. Esto garantiza la compatibilidad y un comportamiento consistente del modelo.\n",
    "\n",
    " 1. <b>Incluir pasos de preprocesamiento</b>: Guardar los transformadores de preprocesamiento entrenados junto con el modelo. Puedes lograr esto mediante la creación de un pipeline que incluya todos los pasos y guardar todo el pipeline.\n",
    "\n",
    " 1. <b>Documentar tu modelo</b>: Considera documentar el propósito del modelo, las métricas de rendimiento, el conjunto de datos utilizado para el entrenamiento, featur engineering y cualquier otra información relevante. Esta documentación te ayudará a ti y a otros a comprender el contexto, las limitaciones y los casos de uso del modelo.\n",
    "\n",
    " 1. <b>Usar un sistema de control de versiones</b>: Almacena tus modelos guardados y los archivos asociados (por ejemplo, scripts de preprocesamiento de datos, archivos de configuración y documentación) en un sistema de control de versiones como Git. \n",
    "\n",
    " 1. <b>Realizar copias de seguridad de tus modelos</b>: Asegúrate de que tus modelos guardados estén respaldados en un sistema de almacenamiento seguro y confiable. Esto podría implicar guardar modelos en almacenamiento en la nube o utilizar una solución de copia de seguridad dedicada.\n",
    "\n",
    " 1. <b>Asegúrate que el modelo funciona después de guardarlo y abrirlo</b>: Después de guardar un modelo, prueba cargarlo y realizar predicciones para asegurarte de que el proceso de serialización y deserialización funcione según lo esperado. \n",
    "\n",
    "Y pues eso es todo, espero estos consejos te sirvan para poner tu modelo en producción de forma exitosa."
   ]
  }
 ],
 "metadata": {
  "kernelspec": {
   "display_name": "Python 3 (ipykernel)",
   "language": "python",
   "name": "python3"
  },
  "language_info": {
   "codemirror_mode": {
    "name": "ipython",
    "version": 3
   },
   "file_extension": ".py",
   "mimetype": "text/x-python",
   "name": "python",
   "nbconvert_exporter": "python",
   "pygments_lexer": "ipython3",
   "version": "3.8.11"
  },
  "notion_metadata": {
   "archived": false,
   "cover": null,
   "created_by": {
    "id": "84951847-6e2b-487e-acba-6838f60f1102",
    "object": "user"
   },
   "created_time": "2023-03-14T21:00:00.000Z",
   "icon": null,
   "id": "b7fd46d7-5816-4b3b-af09-04840af8c73c",
   "last_edited_by": {
    "id": "84951847-6e2b-487e-acba-6838f60f1102",
    "object": "user"
   },
   "last_edited_time": "2023-04-21T17:09:00.000Z",
   "object": "page",
   "parent": {
    "database_id": "97ecfa4e-50d1-4827-8791-2199c709d680",
    "type": "database_id"
   },
   "properties": {
    "Assign": {
     "id": "%5DtZZ",
     "people": [],
     "type": "people"
    },
    "Code name": {
     "id": "PT%5CP",
     "rich_text": [],
     "type": "rich_text"
    },
    "Name": {
     "id": "title",
     "title": [
      {
       "annotations": {
        "bold": false,
        "code": false,
        "color": "default",
        "italic": false,
        "strikethrough": false,
        "underline": false
       },
       "href": null,
       "plain_text": "6.2.1 Persistencia de modelos",
       "text": {
        "content": "6.2.1 Persistencia de modelos",
        "link": null
       },
       "type": "text"
      }
     ],
     "type": "title"
    },
    "Order": {
     "id": "k_Cb",
     "number": 7.3,
     "type": "number"
    },
    "Real order": {
     "id": "%7Dn_k",
     "rich_text": [
      {
       "annotations": {
        "bold": false,
        "code": false,
        "color": "default",
        "italic": false,
        "strikethrough": false,
        "underline": false
       },
       "href": null,
       "plain_text": "31 - Persistencia",
       "text": {
        "content": "31 - Persistencia",
        "link": null
       },
       "type": "text"
      }
     ],
     "type": "rich_text"
    },
    "Status": {
     "id": "s%7D%5Ea",
     "status": {
      "color": "green",
      "id": "b6060d48-45e7-42e9-a8a0-8bd803231f7f",
      "name": "Done"
     },
     "type": "status"
    }
   },
   "url": "https://www.notion.so/6-2-1-Persistencia-de-modelos-b7fd46d758164b3baf0904840af8c73c"
  }
 },
 "nbformat": 4,
 "nbformat_minor": 5
}
