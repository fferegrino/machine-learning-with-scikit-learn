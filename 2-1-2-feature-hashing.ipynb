{
 "cells": [
  {
   "cell_type": "markdown",
   "id": "0e21c369",
   "metadata": {},
   "source": [
    "# Feature hashing\n",
    "\n",
    "En esta lección te hablaré de cómo es que uno puede lidiar con datos categorícos con alta cardinalidad, es decir, aquellas variables que pueden tomar muchos valores.\n",
    "\n",
    "En machine learning existe una técnica muy conocida llamada <i>feature hashing</i> o acá entre amigos, el <i>hashing trick</i>. Esta técnica consiste en aplicarle una función de hash al valor de una característica para asociarlo con la posición dentro de un arreglo.\n",
    "\n",
    "La idea básica detrás del hashing es convertir una entrada en una forma más compacta y fácil de procesar. En lugar de almacenar una lista completa de todas las características en su forma original, la entrada se transforma en una representación numérica más simple.\n",
    "\n",
    "Vamos a verlo con un ejemplo, comenzamos por crear un arreglo de diccionarios:"
   ]
  },
  {
   "cell_type": "code",
   "execution_count": null,
   "id": "f589e3b2",
   "metadata": {},
   "outputs": [],
   "source": [
    "data = [{'apple': 2, 'banana': 1, 'orange': 3},\n",
    "        {'banana': 4, 'orange': 1},\n",
    "        {'kiwi': 3, 'pineapple': 5}]"
   ]
  },
  {
   "cell_type": "markdown",
   "id": "a79b1fa7",
   "metadata": {},
   "source": [
    "Después importamos la clase <code>FeatureHasher</code> del módulo <code>sklearn.feature_extraction</code>:"
   ]
  },
  {
   "cell_type": "code",
   "execution_count": null,
   "id": "7825e2c0",
   "metadata": {},
   "outputs": [],
   "source": [
    "from sklearn.feature_extraction import FeatureHasher"
   ]
  },
  {
   "cell_type": "markdown",
   "id": "3ea60a62",
   "metadata": {},
   "source": [
    "Y creamos un objeto de la clase, estableciendo el parámetro <code>n_features</code>, que a su vez representará el número de entradas del vector resultante:"
   ]
  },
  {
   "cell_type": "code",
   "execution_count": null,
   "id": "c0c7ba9b",
   "metadata": {},
   "outputs": [],
   "source": [
    "hasher = FeatureHasher(n_features=10)"
   ]
  },
  {
   "cell_type": "markdown",
   "id": "e8c45736",
   "metadata": {},
   "source": [
    "Y después podemos llamar al método <code>fit_transform</code> para transformar en una sola acción nuestro dataset:"
   ]
  },
  {
   "cell_type": "code",
   "execution_count": null,
   "id": "a9a8c61c",
   "metadata": {},
   "outputs": [],
   "source": [
    "hashed_data = hasher.fit_transform(data)"
   ]
  },
  {
   "cell_type": "markdown",
   "id": "33cf8221",
   "metadata": {},
   "source": [
    "El resultado de ejecutar transform con nuestros datos es siempre una matriz dispersa dado el uso que normalmente se le da a la clase <code>FeatureHasher</code>, es por eso que aquí la estoy convirtiendo de vuelta a un arreglo de NumPy utilizando el método <code>todense</code>:"
   ]
  },
  {
   "cell_type": "code",
   "execution_count": null,
   "id": "6d8dcab7",
   "metadata": {},
   "outputs": [],
   "source": [
    "hashed_data.todense()"
   ]
  },
  {
   "cell_type": "markdown",
   "id": "d91b92e1",
   "metadata": {},
   "source": [
    "Si los resultados no son lo que esperabas, te comprendo, a primera vista es difícil interpretar qué está haciendo el hasher. Por el momento, quédate solamente con que obtuvimos vectores de 4 dimensiones, justo como le especificamos en el constructor con <code>n_features</code> igual a 4."
   ]
  },
  {
   "cell_type": "markdown",
   "id": "99109221",
   "metadata": {},
   "source": [
    "## Parámetros extra\n",
    "\n",
    "En el ejemplo anterior, utilizamos diccionarios como valores de entrada, sin embargo también es común el usar cadenas como entradas, para esto podemos establecer el argumento <code>input_type</code> como <code>string</code>:"
   ]
  },
  {
   "cell_type": "code",
   "execution_count": null,
   "id": "1a8fb0fb",
   "metadata": {},
   "outputs": [],
   "source": [
    "hasher = FeatureHasher(n_features=4, input_type='string')\n",
    "hashed_data = hasher.transform([\n",
    "    ['cat', 'dog', 'bird'],\n",
    "    ['cat', 'bird'],\n",
    "    ['fish', 'dog'],\n",
    "])\n",
    "hashed_data.todense()"
   ]
  },
  {
   "cell_type": "markdown",
   "id": "dd90604d",
   "metadata": {},
   "source": [
    "## Explicación de los valores\n",
    "\n",
    "Volviendo a los valores resultantes tan confusos, esto sucede porque cuando hay funciones de hasheo involucradas en un proceso, estamos destinados a sufrir colisiones, particularmente si contamos un un número de características lo suficientemente bajo, como en nuestro caso con <code>n_features</code> igual a 4. Lo cual hace que a valores distintos se les asigne la misma posición dentro del vector. Para mitigar los efectos de esta colisión, <code>FeatureHasher</code> tiene otra función encargada de determinar el signo del valor a sumar, esto con la finalidad de que las colisiones se eliminen entre ellas, es por eso que de pronto también ves valores negativos.\n",
    "\n",
    " > 📚 De tarea, te dejo que experimentes con el valor de <code>n_features</code>, elige un valor suficientemente grande para prevenir colisiones. La recomendación de scikit-learn es que este valor sea una siempre una potencia de dos."
   ]
  },
  {
   "cell_type": "markdown",
   "id": "5fb53637",
   "metadata": {},
   "source": [
    "## Conclusión\n",
    "\n",
    "Si bien el feature hashing es una técnica técnica poderosa utilizada en ML, no es tan benéfica aplicarla en todos los escenarios, en particular cuando tenemos atributos con baja cardinalidad, puesto que como lo vimos en el ejemplo, cuando <code>n_features</code> tiene un valor bajo, usar <i>hashing</i> puede causarnos pérdida de información.\n",
    "\n",
    "En estos casos, pueden ser más apropiadas otras técnicas como la codificación one-hot o label encoding."
   ]
  }
 ],
 "metadata": {
  "kernelspec": {
   "display_name": "Python 3 (ipykernel)",
   "language": "python",
   "name": "python3"
  },
  "language_info": {
   "codemirror_mode": {
    "name": "ipython",
    "version": 3
   },
   "file_extension": ".py",
   "mimetype": "text/x-python",
   "name": "python",
   "nbconvert_exporter": "python",
   "pygments_lexer": "ipython3",
   "version": "3.8.11"
  },
  "notion_metadata": {
   "archived": false,
   "cover": null,
   "created_by": {
    "id": "84951847-6e2b-487e-acba-6838f60f1102",
    "object": "user"
   },
   "created_time": "2023-03-14T19:57:00.000Z",
   "icon": null,
   "id": "d79cbfdd-b35f-4e2c-8820-2e7615d1b589",
   "last_edited_by": {
    "id": "84951847-6e2b-487e-acba-6838f60f1102",
    "object": "user"
   },
   "last_edited_time": "2023-04-21T17:05:00.000Z",
   "object": "page",
   "parent": {
    "database_id": "97ecfa4e-50d1-4827-8791-2199c709d680",
    "type": "database_id"
   },
   "properties": {
    "Assign": {
     "id": "%5DtZZ",
     "people": [],
     "type": "people"
    },
    "Code name": {
     "id": "PT%5CP",
     "rich_text": [],
     "type": "rich_text"
    },
    "Name": {
     "id": "title",
     "title": [
      {
       "annotations": {
        "bold": false,
        "code": false,
        "color": "default",
        "italic": false,
        "strikethrough": false,
        "underline": false
       },
       "href": null,
       "plain_text": "2.1.2 Feature hashing",
       "text": {
        "content": "2.1.2 Feature hashing",
        "link": null
       },
       "type": "text"
      }
     ],
     "type": "title"
    },
    "Order": {
     "id": "k_Cb",
     "number": 3.12,
     "type": "number"
    },
    "Real order": {
     "id": "%7Dn_k",
     "rich_text": [
      {
       "annotations": {
        "bold": false,
        "code": false,
        "color": "default",
        "italic": false,
        "strikethrough": false,
        "underline": false
       },
       "href": null,
       "plain_text": "07",
       "text": {
        "content": "07",
        "link": null
       },
       "type": "text"
      }
     ],
     "type": "rich_text"
    },
    "Status": {
     "id": "s%7D%5Ea",
     "status": {
      "color": "green",
      "id": "b6060d48-45e7-42e9-a8a0-8bd803231f7f",
      "name": "Done"
     },
     "type": "status"
    }
   },
   "url": "https://www.notion.so/2-1-2-Feature-hashing-d79cbfddb35f4e2c88202e7615d1b589"
  }
 },
 "nbformat": 4,
 "nbformat_minor": 5
}
