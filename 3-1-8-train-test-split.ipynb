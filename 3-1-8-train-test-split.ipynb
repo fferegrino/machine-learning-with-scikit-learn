{
 "cells": [
  {
   "cell_type": "markdown",
   "id": "2d04b0c9",
   "metadata": {},
   "source": [
    "# Train-test split\n",
    "\n",
    "Es hora de hablar del que es quizá el método más popular de scikit-learn, aquel que nos ayuda a dividir un dataset en diferentes conjuntos de información.\n",
    "\n",
    "Para este entonces ya deberías tener clara la importancia de realizar esta división, así que no nos detendremos demasiado en el por qué, sino más bien en el cómo.\n",
    "\n",
    "Comenzamos por importar el método"
   ]
  },
  {
   "cell_type": "code",
   "execution_count": null,
   "id": "6a0a619b",
   "metadata": {},
   "outputs": [],
   "source": [
    "from sklearn.model_selection import train_test_split"
   ]
  },
  {
   "cell_type": "markdown",
   "id": "51f7a7a1",
   "metadata": {},
   "source": [
    "En realidad el método es bastante sencillo de utilizar, pero hay algunos trucos que debes tener en cuenta para sacarle el máximo jugo."
   ]
  },
  {
   "cell_type": "markdown",
   "id": "f088a251",
   "metadata": {},
   "source": [
    "### Interfaz\n",
    "\n",
    "Esta función tiene una interfaz un poco peculiar, puesto que está hecho para recibir una cantidad variable de argumentos, para ejemplificar, mira lo siguiente:"
   ]
  },
  {
   "cell_type": "code",
   "execution_count": null,
   "id": "bfeb4857",
   "metadata": {},
   "outputs": [],
   "source": [
    "import numpy as np\n",
    "\n",
    "# Generate some example data\n",
    "X1 = np.arange(0, 100)\n",
    "X2 = np.arange(100, 200)\n",
    "X3 = np.arange(200, 300)\n",
    "\n",
    "print(f\"Shapes: {X1.shape}, {X2.shape}, {X3.shape}\")\n",
    "\n",
    "# Split the data into training and testing sets\n",
    "X1_train, X1_test, X2_train, X2_test, X3_train, X3_test = train_test_split(X1, X2, X3)\n",
    "\n",
    "\n",
    "\n",
    "print(\"Shapes after splitting:\")\n",
    "print(f\"X1_train: {X1_train.shape}, X1_test: {X1_test.shape}\")\n",
    "print(f\"X2_train: {X2_train.shape}, X2_test: {X2_test.shape}\")\n",
    "print(f\"X3_train: {X3_train.shape}, X3_test: {X3_test.shape}\")"
   ]
  },
  {
   "cell_type": "markdown",
   "id": "89ee32ab",
   "metadata": {},
   "source": [
    "Lo más común es que lo veas de la siguiente forma, en donde se le pasa un conjunto de datos y las etiquetas correspondientes:"
   ]
  },
  {
   "cell_type": "code",
   "execution_count": null,
   "id": "6666c4ba",
   "metadata": {},
   "outputs": [],
   "source": [
    "X = np.random.rand(100, 2)\n",
    "y = np.random.randint(0, 2, 100)\n",
    "\n",
    "X_train, X_test, y_train, y_test = train_test_split(X, y)"
   ]
  },
  {
   "cell_type": "markdown",
   "id": "10503ac4",
   "metadata": {},
   "source": [
    "### Argumentos\n",
    "\n",
    "<b>Tamaños de los sets</b>\n",
    "\n",
    "Por default, y sin más argumentos, el tamaño de los datasets estará dividido en 75% para el conjunto de entrenamiento y 25% para el conjunto de prueba.\n",
    "\n",
    "Estos valores son modificables, desde luego, puedes utilizar los parámetros <code>test_size</code> o <code>train_size</code> para modificar el tamaño (recuerda establecer solamente uno), puedes utilizar tanto valores enteros como flotantes.\n",
    "\n",
    "Si utilizas un valor entero, se utilizará ese número exacto, por ejemplo:"
   ]
  },
  {
   "cell_type": "code",
   "execution_count": null,
   "id": "3e166904",
   "metadata": {},
   "outputs": [],
   "source": [
    "X_train, X_test, y_train, y_test = train_test_split(X, y, test_size=10)\n",
    "\n",
    "print(\"Shapes after splitting:\")\n",
    "print(f\"X_train: {X_train.shape}, X_test: {X_test.shape}\")\n",
    "print(f\"y_train: {y_train.shape}, y_test: {y_test.shape}\")"
   ]
  },
  {
   "cell_type": "markdown",
   "id": "6c98a890",
   "metadata": {},
   "source": [
    "Pero también puedes utilizar flotantes, que servirán como porcentajes:"
   ]
  },
  {
   "cell_type": "code",
   "execution_count": null,
   "id": "b47f51e3",
   "metadata": {},
   "outputs": [],
   "source": [
    "X_train, X_test, y_train, y_test = train_test_split(X, y, train_size=0.5)\n",
    "\n",
    "print(\"Shapes after splitting:\")\n",
    "print(f\"X_train: {X_train.shape}, X_test: {X_test.shape}\")\n",
    "print(f\"y_train: {y_train.shape}, y_test: {y_test.shape}\")"
   ]
  },
  {
   "cell_type": "markdown",
   "id": "c1dd0f4f",
   "metadata": {},
   "source": [
    "<b>Semilla aleatoria</b>\n",
    "\n",
    "Por default, la función asigna de forma aleatoria los datos a cualquiera de los dos conjuntos, así que dos ejecuciones no nos entregarán los mismos resultados:"
   ]
  },
  {
   "cell_type": "code",
   "execution_count": null,
   "id": "12800f0e",
   "metadata": {},
   "outputs": [],
   "source": [
    "X1 = np.arange(0, 100)\n",
    "\n",
    "X_train, X_test = train_test_split(X1, train_size=0.5)\n",
    "print(\"First 10 elements of X_train:\", X_train[:10])\n",
    "\n",
    "X_train, X_test = train_test_split(X1, train_size=0.5)\n",
    "print(\"First 10 elements of X_train:\", X_train[:10])"
   ]
  },
  {
   "cell_type": "markdown",
   "id": "37291a6e",
   "metadata": {},
   "source": [
    "Si lo que quieres es reproducibilidad, puedes establecer una semilla aleatoria utilizando el argumento <code>random_state</code>:"
   ]
  },
  {
   "cell_type": "code",
   "execution_count": null,
   "id": "4a28745c",
   "metadata": {},
   "outputs": [],
   "source": [
    "X1 = np.arange(0, 100)\n",
    "\n",
    "X_train, X_test = train_test_split(X1, train_size=0.5, random_state=42)\n",
    "print(\"First 10 elements of X_train:\", X_train[:10])\n",
    "\n",
    "X_train, X_test = train_test_split(X1, train_size=0.5, random_state=42)\n",
    "print(\"First 10 elements of X_train:\", X_train[:10])"
   ]
  },
  {
   "cell_type": "markdown",
   "id": "ff8e6382",
   "metadata": {},
   "source": [
    "<b>Estratificación</b>\n",
    "\n",
    "Cuando estés trabajando con conjuntos de datos desbalanceados (aquellos que cuenten con más datos de una clase que de otras) puedes establecer el argumento <code>stratify</code> para que los datos sean distribuidos equitativamente en los dos sets:"
   ]
  },
  {
   "cell_type": "code",
   "execution_count": null,
   "id": "d2ec1be8",
   "metadata": {},
   "outputs": [],
   "source": [
    "def show_counts(y):\n",
    "    unique, counts = np.unique(y, return_counts=True)\n",
    "    counts = dict(zip(unique, counts))\n",
    "    for class_, count in counts.items():\n",
    "        print(f\"Class {class_}:\\t{count:>5} ({count/len(y)*100:00.2f}%)\")"
   ]
  },
  {
   "cell_type": "markdown",
   "id": "54888d8e",
   "metadata": {},
   "source": [
    "Creamos un dataset de ejemplo, presta atención a las cuentas de las etiquetas de “apple” y “orange”:"
   ]
  },
  {
   "cell_type": "code",
   "execution_count": null,
   "id": "bca850ec",
   "metadata": {},
   "outputs": [],
   "source": [
    "sample_size = 1000\n",
    "X = np.random.rand(sample_size, 2)\n",
    "y = np.random.choice([\"apple\", \"orange\"], sample_size, p=[0.9, 0.1])\n",
    "\n",
    "show_counts(y)"
   ]
  },
  {
   "cell_type": "markdown",
   "id": "0916db44",
   "metadata": {},
   "source": [
    "Si las dividimos sin estratificación, presta atención a lo que sucede con las cuentas:"
   ]
  },
  {
   "cell_type": "code",
   "execution_count": null,
   "id": "1912140a",
   "metadata": {},
   "outputs": [],
   "source": [
    "X_train, X_test, y_train, y_test = train_test_split(X, y, test_size=0.5, random_state=60)\n",
    "\n",
    "show_counts(y_train)\n",
    "show_counts(y_test)"
   ]
  },
  {
   "cell_type": "markdown",
   "id": "7b2343ab",
   "metadata": {},
   "source": [
    "Pero si lo hacemos estratificando con <code>y</code>:"
   ]
  },
  {
   "cell_type": "code",
   "execution_count": null,
   "id": "e5dc474f",
   "metadata": {},
   "outputs": [],
   "source": [
    "X_train, X_test, y_train, y_test = train_test_split(X, y, test_size=0.5, random_state=60, stratify=y)\n",
    "\n",
    "show_counts(y_train)\n",
    "show_counts(y_test)"
   ]
  },
  {
   "cell_type": "markdown",
   "id": "a81c98fa",
   "metadata": {},
   "source": [
    "<b>No aleatorizar</b>\n",
    "\n",
    "Por default, la función separa los datos de forma aleatoria, pero habrá ocasiones en las que esto no es lo ideal, por ejemplo, cuando estés trabajando con datos en series de tiempo. En estos casos el tomar datos de forma aleatoria causaría un problema de <i>data leakage</i>. Scikit-learn nos permite desactivar la aleatorización pasando el argumento <code>shuffle</code> igual a falso:"
   ]
  },
  {
   "cell_type": "code",
   "execution_count": null,
   "id": "40a120b9",
   "metadata": {},
   "outputs": [],
   "source": [
    "X_train, X_test = train_test_split(X, shuffle=False)\n",
    "\n",
    "print(\"First 10 elements of X_train:\", X_train[:10])\n",
    "print(\"First 10 elements of X_test:\", X_test[:10])"
   ]
  },
  {
   "cell_type": "markdown",
   "id": "5c6de790",
   "metadata": {},
   "source": [
    "Pero si lo llamamos como sin <code>shuffle</code>:"
   ]
  },
  {
   "cell_type": "code",
   "execution_count": null,
   "id": "debab5d3",
   "metadata": {},
   "outputs": [],
   "source": [
    "X_train, X_test = train_test_split(X)\n",
    "\n",
    "print(\"First 10 elements of X_train:\", X_train[:10])\n",
    "print(\"First 10 elements of X_test:\", X_test[:10])"
   ]
  },
  {
   "cell_type": "markdown",
   "id": "c635d012",
   "metadata": {},
   "source": [
    "Espero que ahora tengas una comprensión clara del método <code>train_test_split()</code> y cómo ajustar los argumentos para satisfacer las necesidades de tu conjunto de datos. Recuerda que este es un paso importante en la creación de modelos de aprendizaje automático precisos y efectivos."
   ]
  }
 ],
 "metadata": {
  "kernelspec": {
   "display_name": "Python 3 (ipykernel)",
   "language": "python",
   "name": "python3"
  },
  "language_info": {
   "codemirror_mode": {
    "name": "ipython",
    "version": 3
   },
   "file_extension": ".py",
   "mimetype": "text/x-python",
   "name": "python",
   "nbconvert_exporter": "python",
   "pygments_lexer": "ipython3",
   "version": "3.8.11"
  },
  "notion_metadata": {
   "archived": false,
   "cover": null,
   "created_by": {
    "id": "84951847-6e2b-487e-acba-6838f60f1102",
    "object": "user"
   },
   "created_time": "2023-03-14T20:36:00.000Z",
   "icon": null,
   "id": "e892c132-744e-48b6-9e63-ed38a08a6c2a",
   "last_edited_by": {
    "id": "84951847-6e2b-487e-acba-6838f60f1102",
    "object": "user"
   },
   "last_edited_time": "2023-04-21T17:43:00.000Z",
   "object": "page",
   "parent": {
    "database_id": "97ecfa4e-50d1-4827-8791-2199c709d680",
    "type": "database_id"
   },
   "properties": {
    "Assign": {
     "id": "%5DtZZ",
     "people": [],
     "type": "people"
    },
    "Code name": {
     "id": "PT%5CP",
     "rich_text": [],
     "type": "rich_text"
    },
    "Name": {
     "id": "title",
     "title": [
      {
       "annotations": {
        "bold": false,
        "code": false,
        "color": "default",
        "italic": false,
        "strikethrough": false,
        "underline": false
       },
       "href": null,
       "plain_text": "3.1.8 Train-test split",
       "text": {
        "content": "3.1.8 Train-test split",
        "link": null
       },
       "type": "text"
      }
     ],
     "type": "title"
    },
    "Order": {
     "id": "k_Cb",
     "number": 4.5,
     "type": "number"
    },
    "Real order": {
     "id": "%7Dn_k",
     "rich_text": [
      {
       "annotations": {
        "bold": false,
        "code": false,
        "color": "default",
        "italic": false,
        "strikethrough": false,
        "underline": false
       },
       "href": null,
       "plain_text": "19",
       "text": {
        "content": "19",
        "link": null
       },
       "type": "text"
      }
     ],
     "type": "rich_text"
    },
    "Status": {
     "id": "s%7D%5Ea",
     "status": {
      "color": "green",
      "id": "b6060d48-45e7-42e9-a8a0-8bd803231f7f",
      "name": "Done"
     },
     "type": "status"
    }
   },
   "url": "https://www.notion.so/3-1-8-Train-test-split-e892c132744e48b69e63ed38a08a6c2a"
  }
 },
 "nbformat": 4,
 "nbformat_minor": 5
}
