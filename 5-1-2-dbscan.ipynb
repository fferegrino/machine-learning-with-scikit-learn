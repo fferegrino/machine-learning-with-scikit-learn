{
 "cells": [
  {
   "cell_type": "markdown",
   "id": "425eca0a",
   "metadata": {},
   "source": [
    "# DBSCAN\n",
    "\n",
    "Siguendo con los algoritmos de clústering, existe otro que a diferencia de k-Means no requiere que especifiques de antemano el número de clústers.\n",
    "\n",
    "Este algoritmo es conocido como DBSCAN, o <i>Density-Based Spatial Clustering of Applications with Noise</i>. \n",
    "\n",
    "Este algoritmo agrupa elementos dentro de un conjunto en función de su densidad en el espacio. Puntos que estén cercanos entre si se considerarán parte del mismo cluster, mientras que puntos que estén muy alejados se consideararán como ruido.\n",
    "\n",
    "La implementación de <code>DBSCAN</code> está dentro del módulo <code>sklearn.cluster</code>:"
   ]
  },
  {
   "cell_type": "code",
   "execution_count": null,
   "id": "8d1d6ef0",
   "metadata": {},
   "outputs": [],
   "source": [
    "from sklearn.cluster import DBSCAN"
   ]
  },
  {
   "cell_type": "markdown",
   "id": "733ae788",
   "metadata": {},
   "source": [
    "Vamos a generar un dataset con 5 blobs de datos, 5 clusters originalmente:"
   ]
  },
  {
   "cell_type": "code",
   "execution_count": null,
   "id": "4c4a72c0",
   "metadata": {},
   "outputs": [],
   "source": [
    "from sklearn.datasets import make_blobs\n",
    "\n",
    "X, y_true = make_blobs(n_samples=500, centers=5, cluster_std=0.8, random_state=0)"
   ]
  },
  {
   "cell_type": "markdown",
   "id": "4bc36c21",
   "metadata": {},
   "source": [
    "Como con <code>DBSCAN</code> no requiere que se especifique el número de clusters, podemos inicializarlo con sus valores por default – y luego usaremos <code>fit_predict</code> para conseguir los clusters asignados:"
   ]
  },
  {
   "cell_type": "code",
   "execution_count": null,
   "id": "dd8a753e",
   "metadata": {},
   "outputs": [],
   "source": [
    "dbscan = DBSCAN()\n",
    "labels = dbscan.fit_predict(X)"
   ]
  },
  {
   "cell_type": "markdown",
   "id": "c55c034d",
   "metadata": {},
   "source": [
    "Si revisamos las etiquetas, verás que hay algunas con el valor <code>-1</code>, estas son las que fueron identificadas como ruido:"
   ]
  },
  {
   "cell_type": "code",
   "execution_count": null,
   "id": "b9f70ce7",
   "metadata": {},
   "outputs": [],
   "source": [
    "labels"
   ]
  },
  {
   "cell_type": "markdown",
   "id": "d6a2bb71",
   "metadata": {},
   "source": [
    "Podemos visualizar los clusters con la siguiente función."
   ]
  },
  {
   "cell_type": "code",
   "execution_count": null,
   "id": "26150ad6",
   "metadata": {},
   "outputs": [],
   "source": [
    "from utils import view_dbscan\n",
    "\n",
    "view_dbscan(X, y_true, [(\"Etiquetas predichas\", dbscan)])"
   ]
  },
  {
   "cell_type": "markdown",
   "id": "4c26b550",
   "metadata": {},
   "source": [
    "## Argumentos de <code>DBSCAN</code>\n",
    "\n",
    "DBSCAN tiene varios argumentos, pero los más importantes a considerar son:\n",
    "\n",
    " - <code>eps</code>: El radio de vecindad que define la distancia máxima entre dos puntos para que se consideren vecinos. \n",
    "\n",
    " - <code>min_samples</code>: El número mínimo de puntos requeridos para formar un clúster. Valores de <code>min_samples</code> demasiado pequeños pueden resultar en clústeres muy pequeños y ruido no deseado, mientras que valores demasiado grandes pueden hacer que se agrupen menos puntos."
   ]
  },
  {
   "cell_type": "markdown",
   "id": "7bbb76c6",
   "metadata": {},
   "source": [
    "## Visualización de los argumentos"
   ]
  },
  {
   "cell_type": "markdown",
   "id": "98c09d2e",
   "metadata": {},
   "source": [
    "### <code>eps</code>\n",
    "\n",
    "El radio de vecindad que define la distancia máxima entre dos puntos para que se consideren vecinos. Valores de <code>eps</code> demasiado pequeños pueden hacer que se agrupen menos puntos o incluso que todos los puntos sean clasificados como ruido, mientras que valores demasiado grandes pueden agrupar puntos que no deberían estar juntos."
   ]
  },
  {
   "cell_type": "code",
   "execution_count": null,
   "id": "8da432fa",
   "metadata": {},
   "outputs": [],
   "source": [
    "dbscan = DBSCAN()\n",
    "labels = dbscan.fit_predict(X)\n",
    "\n",
    "eps_list = [0.01, 0.1, 0.3, 0.5, 1]\n",
    "\n",
    "trained_dbscans = []\n",
    "for eps_value in eps_list:\n",
    "    dbscan = DBSCAN(eps = eps_value)\n",
    "    dbscan.fit(X)\n",
    "    trained_dbscans.append((f\"eps = {eps_value}\", dbscan))\n",
    "\n",
    "view_dbscan(X, y_true, trained_dbscans)"
   ]
  },
  {
   "cell_type": "markdown",
   "id": "f43b588b",
   "metadata": {},
   "source": [
    "### <code>min_samples</code>\n",
    "\n",
    "El número mínimo de puntos requeridos para formar un clúster. Valores de <code>min_samples</code> demasiado pequeños pueden resultar en clústeres muy pequeños y ruido no deseado, mientras que valores demasiado grandes pueden hacer que se agrupen menos puntos."
   ]
  },
  {
   "cell_type": "code",
   "execution_count": null,
   "id": "3e9d1e3e",
   "metadata": {},
   "outputs": [],
   "source": [
    "dbscan = DBSCAN()\n",
    "labels = dbscan.fit_predict(X)\n",
    "\n",
    "min_samples_list = [1, 3, 5, 20, 50]\n",
    "\n",
    "trained_dbscans = []\n",
    "for min_samples_value in min_samples_list:\n",
    "    dbscan = DBSCAN(min_samples = min_samples_value)\n",
    "    dbscan.fit(X)\n",
    "    trained_dbscans.append((f\"min_samples = {min_samples_value}\", dbscan))\n",
    "\n",
    "view_dbscan(X, y_true, trained_dbscans)"
   ]
  },
  {
   "cell_type": "markdown",
   "id": "3ddce004",
   "metadata": {},
   "source": [
    "## Para elegir los hiperparámetros\n",
    "\n",
    "Para medir la calidad de nuestra elección de hiperparámetros en dbscan podemos utilizar las métricas que ya vimos previamente como el coeficiente de Silhouette, el índice de Calinski-Harabasz o el índice de Davies-Bouldin para encontrar la mejor configuración de hiperparámetros.\n",
    "\n",
    "También puedes usar métricas secundarias, de negocio, para definir los mejores valores."
   ]
  },
  {
   "cell_type": "markdown",
   "id": "f87660f9",
   "metadata": {},
   "source": [
    "## En comparación con k-Means\n",
    "\n",
    "DBSCAN es más adecuado que K-means en situaciones donde el número de clusters es desconocido, los clusters tienen formas no convexas o diferentes densidades, y los datos contienen ruido o valores atípicos. En general, DBSCAN es una buena opción cuando se desea una solución más automatizada y menos sensible a suposiciones ad-hoc acerca del número de clusters y la forma de los datos.\n",
    "\n",
    "Ahora ya conoces dos algoritmos de clústering disponibles en Scikit Learn."
   ]
  }
 ],
 "metadata": {
  "kernelspec": {
   "display_name": "Python 3 (ipykernel)",
   "language": "python",
   "name": "python3"
  },
  "language_info": {
   "codemirror_mode": {
    "name": "ipython",
    "version": 3
   },
   "file_extension": ".py",
   "mimetype": "text/x-python",
   "name": "python",
   "nbconvert_exporter": "python",
   "pygments_lexer": "ipython3",
   "version": "3.8.11"
  },
  "notion_metadata": {
   "archived": false,
   "cover": null,
   "created_by": {
    "id": "84951847-6e2b-487e-acba-6838f60f1102",
    "object": "user"
   },
   "created_time": "2023-04-19T20:17:00.000Z",
   "icon": null,
   "id": "03e9caa7-3f2a-47b2-a9da-3a515c58d3dd",
   "last_edited_by": {
    "id": "84951847-6e2b-487e-acba-6838f60f1102",
    "object": "user"
   },
   "last_edited_time": "2023-04-23T09:31:00.000Z",
   "object": "page",
   "parent": {
    "database_id": "97ecfa4e-50d1-4827-8791-2199c709d680",
    "type": "database_id"
   },
   "properties": {
    "Assign": {
     "id": "%5DtZZ",
     "people": [],
     "type": "people"
    },
    "Code name": {
     "id": "PT%5CP",
     "rich_text": [],
     "type": "rich_text"
    },
    "Name": {
     "id": "title",
     "title": [
      {
       "annotations": {
        "bold": false,
        "code": false,
        "color": "default",
        "italic": false,
        "strikethrough": false,
        "underline": false
       },
       "href": null,
       "plain_text": "5.1.2 DBSCAN",
       "text": {
        "content": "5.1.2 DBSCAN",
        "link": null
       },
       "type": "text"
      }
     ],
     "type": "title"
    },
    "Order": {
     "id": "k_Cb",
     "number": 6.12,
     "type": "number"
    },
    "Real order": {
     "id": "%7Dn_k",
     "rich_text": [],
     "type": "rich_text"
    },
    "Status": {
     "id": "s%7D%5Ea",
     "status": {
      "color": "green",
      "id": "b6060d48-45e7-42e9-a8a0-8bd803231f7f",
      "name": "Done"
     },
     "type": "status"
    }
   },
   "url": "https://www.notion.so/5-1-2-DBSCAN-03e9caa73f2a47b2a9da3a515c58d3dd"
  }
 },
 "nbformat": 4,
 "nbformat_minor": 5
}
