{
 "cells": [
  {
   "cell_type": "markdown",
   "id": "80af35b8",
   "metadata": {},
   "source": [
    "# Escalamiento de números\n",
    "\n",
    "Cuando trabajamos con datos, es común encontrarnos con variables que tienen diferentes escalas o magnitudes. Por ejemplo, imagina un dataset de datos médicos en donde podemos encontrar información relacionada con el peso y altura de las personas. En este dataset el peso varía entre 50 y 150 kilogramos, mientras que la altura varía entre 1.50 y 1.90 metros.\n",
    "\n"
   ]
  },
  {
   "cell_type": "code",
   "execution_count": null,
   "id": "8737654d",
   "metadata": {},
   "outputs": [],
   "source": [
    "import numpy as np\n",
    "import matplotlib.pyplot as plt\n",
    "import pandas as pd\n",
    "\n",
    "def make_dataset(n):\n",
    "    min_w, max_w = 50, 150\n",
    "    noise_w = np.random.normal(0, 10, n)\n",
    "    weights = np.random.uniform(min_w, max_w, n)\n",
    "    \n",
    "    min_h, max_h = 1.50, 1.90\n",
    "    noise_h = np.random.normal(0, 10, n)\n",
    "    heights = np.random.uniform(min_h, max_h, n)\n",
    "    return np.vstack([weights, heights]).T\n",
    "    \n",
    "def plot(ax, dataset, title):\n",
    "    weights, heights = dataset[:,0], dataset[:,1]\n",
    "    noise = np.random.uniform(-0.2, 0.2, len(weights))\n",
    "    ax.scatter(\n",
    "        weights,\n",
    "        np.full(len(weights), 1) + noise,\n",
    "    )\n",
    "    ax.scatter(\n",
    "        heights,\n",
    "        np.full(len(heights), 2) + noise,\n",
    "    )\n",
    "    ax.set_ylim(0.5, 2.5)\n",
    "    ax.set_yticks([1, 2], ['Weight','Height'])\n",
    "    ax.set_title(title)\n",
    "    return ax\n",
    "\n",
    "def show_dataframe(dataset):\n",
    "    return pd.DataFrame(dataset, columns=['Weight', 'Height'])\n",
    "\n",
    "def plot_dataset(*objects):\n",
    "    objects = [(objects[i], objects[i+1]) for i in range(0, len(objects) -1, 2)]\n",
    "    plots = len(objects)\n",
    "    fig, axs = plt.subplots(1, plots, figsize=(5 * plots, 5))\n",
    "    if len(objects) == 1:\n",
    "        axs = [axs]\n",
    "    for (dataset, title), ax in zip(objects, axs):\n",
    "        plot(ax, dataset, title)\n",
    "    fig.tight_layout()"
   ]
  },
  {
   "cell_type": "code",
   "execution_count": null,
   "id": "f3d8a4a1",
   "metadata": {},
   "outputs": [],
   "source": [
    "original_dataset = make_dataset(100)\n",
    "show_dataframe(original_dataset)"
   ]
  },
  {
   "cell_type": "code",
   "execution_count": null,
   "id": "38b4b32a",
   "metadata": {},
   "outputs": [],
   "source": [
    "fig = plt.figure()\n",
    "ax = fig.gca()\n",
    "plot(ax, original_dataset, \"Original data\")"
   ]
  },
  {
   "cell_type": "markdown",
   "id": "26aa98ef",
   "metadata": {},
   "source": [
    "Nuestro modelo de machine learning no tiene noción de que unas cosas están medidas en kilogramos y otras en metros y si los datos no están escalados, algunos atributos pueden tener más peso que otros debido a sus escalas, lo que puede llevar a decisiones incorrectas del modelo.\n",
    "\n",
    "Volviendo a nuestro ejemplo, puede que el algoritmo “se fije” más en el peso puesto que es la que tiene un rango de varianza mayor, 100, mientras que el peso de solo 0.4. Es aquí en donde entra la importancia de escalar nuestras variables."
   ]
  },
  {
   "cell_type": "markdown",
   "id": "ec57c8e3",
   "metadata": {},
   "source": [
    "## ¿Por qué es importante?\n",
    "\n",
    "En concreto, podemos pensar en tres razones por las cuales vale la pena escalar los valores:\n",
    "\n",
    " 1. Facilita el entrenamiento: Al tener todas las características en la misma escala, los algoritmos de Machine Learning convergen más rápido hacia un mínimo en la función de pérdida.\n",
    "\n",
    " 1. Mejora el rendimiento: Algunos algoritmos, como SVM o KNN, que se basan en distancias, son muy sensibles a la escala de los datos y pueden dar resultados incorrectos si las características no están estandarizadas.\n",
    "\n",
    " 1. Permite una interpretación más fácil: Al estandarizar, podemos comparar la importancia relativa de las características en nuestro modelo."
   ]
  },
  {
   "cell_type": "markdown",
   "id": "d2e5ed76",
   "metadata": {},
   "source": [
    "## ¿Cómo realizarlo?\n",
    "\n",
    "Existen diversas técnicas para lograr el escalado de variables, y podemos usar las más comunes con scikit-learn."
   ]
  },
  {
   "cell_type": "markdown",
   "id": "9e18bbaa",
   "metadata": {},
   "source": [
    "### Estandarización\n",
    "\n",
    "La estandarziación es tal vez la más común de las transformaciones de escalamiento, consiste en centrar todos los datos de un atributo dado del conjunto en 0 y hacer que su varianza sea 1.\n",
    "\n"
   ]
  },
  {
   "cell_type": "code",
   "execution_count": null,
   "id": "606d674a",
   "metadata": {},
   "outputs": [],
   "source": [
    "from sklearn.preprocessing import StandardScaler\n",
    "scaler = StandardScaler()\n",
    "standard_scaled = scaler.fit_transform(original_dataset)\n",
    "\n",
    "plot_dataset(\n",
    "    original_dataset, \"Original data\",\n",
    "    standard_scaled, \"Standardized data\")"
   ]
  },
  {
   "cell_type": "markdown",
   "id": "3e8972a2",
   "metadata": {},
   "source": [
    "Este escalador se es utilizado comúnmente cuando tienes datos que están distribuidos normalmente y quieres que todos tus datos tengan escalas similares. También ten en cuenta que el rango de las características es variable. Es también usado cuando estás preparando datos para una regresión o redes neuronales."
   ]
  },
  {
   "cell_type": "markdown",
   "id": "033eb5f5",
   "metadata": {},
   "source": [
    "### Escalamiento min-max\n",
    "\n",
    "Esta técnica de escalamiento nos ayuda a transformar los valores de nuestro dataset de tal forma que queden dentro de un rango conocido.\n",
    "\n"
   ]
  },
  {
   "cell_type": "code",
   "execution_count": null,
   "id": "b22cf083",
   "metadata": {},
   "outputs": [],
   "source": [
    "from sklearn.preprocessing import MinMaxScaler\n",
    "scaler = MinMaxScaler()\n",
    "minmax_dataset = scaler.fit_transform(original_dataset)\n",
    "\n",
    "plot_dataset(\n",
    "    original_dataset, \"Original data\",\n",
    "    minmax_dataset, \"Min-max scaled data\")"
   ]
  },
  {
   "cell_type": "markdown",
   "id": "a111c909",
   "metadata": {},
   "source": [
    "Utiliza este escalador cuando quieras que los datos queden entre un rango determinado, en este caso, entre 0 y 1 por default - especialmente útil para modelos basados en distancia, como el modelo de k-Nearest neighbours o SVM. En este caso, no importa mucho que tus características estén distribuidas normalmente."
   ]
  },
  {
   "cell_type": "markdown",
   "id": "321f53c5",
   "metadata": {},
   "source": [
    "### Escalamiento máximo absoluto\n",
    "\n",
    "Este escalador transforma los datos dividiéndolos por el valor máximo absoluto de cada variable. Esto es útil cuando se trabaja con datos que tienen valores muy grandes o muy pequeños.\n",
    "\n"
   ]
  },
  {
   "cell_type": "code",
   "execution_count": null,
   "id": "2fe147d1",
   "metadata": {},
   "outputs": [],
   "source": [
    "from sklearn.preprocessing import MaxAbsScaler\n",
    "scaler = MaxAbsScaler()\n",
    "maxabs_scaled = scaler.fit_transform(original_dataset)\n",
    "\n",
    "plot_dataset(\n",
    "    original_dataset, \"Original data\",\n",
    "    maxabs_scaled, \"Max-abs scaled data\")"
   ]
  },
  {
   "cell_type": "markdown",
   "id": "43279b8a",
   "metadata": {},
   "source": [
    "<code>MaxAbsScaler</code> es una buena opción cuando las características son dispersas o en su mayoría cero y tienen escalas variables. También es útil cuando se utilizan redes neuronales o modelos lineales dispersos como Logistic Regression o SVM."
   ]
  },
  {
   "cell_type": "markdown",
   "id": "3563c06e",
   "metadata": {},
   "source": [
    "### Otras formas de escalar valores\n",
    "\n",
    "Scikit-learn cuenta además con otros escaladores que no podremos cubrir aquí, pero que son más especializados para trabajar con datos con otras distribuciones que ayudan a transformar datos a valores escalados y con distribuciones normales para ser procesados.\n",
    "\n",
    "from sklearn.preprocessing import QuantileTransformer\n",
    "from sklearn.preprocessing import RobustScaler\n",
    "from sklearn.preprocessing import PowerTransform\n",
    "\n",
    "Y pues ahí lo tienes, espero que hayas entendido el valor de escalar tus datos y que de ahora en adelante hagas uso de esta técnica en tus proyectos. "
   ]
  }
 ],
 "metadata": {
  "kernelspec": {
   "display_name": "Python 3 (ipykernel)",
   "language": "python",
   "name": "python3"
  },
  "language_info": {
   "codemirror_mode": {
    "name": "ipython",
    "version": 3
   },
   "file_extension": ".py",
   "mimetype": "text/x-python",
   "name": "python",
   "nbconvert_exporter": "python",
   "pygments_lexer": "ipython3",
   "version": "3.8.11"
  },
  "notion_metadata": {
   "archived": false,
   "cover": null,
   "created_by": {
    "id": "84951847-6e2b-487e-acba-6838f60f1102",
    "object": "user"
   },
   "created_time": "2023-03-14T20:00:00.000Z",
   "icon": null,
   "id": "32a8af92-d8c6-421f-a4e7-23a5e5cd3f64",
   "last_edited_by": {
    "id": "84951847-6e2b-487e-acba-6838f60f1102",
    "object": "user"
   },
   "last_edited_time": "2023-04-21T17:05:00.000Z",
   "object": "page",
   "parent": {
    "database_id": "97ecfa4e-50d1-4827-8791-2199c709d680",
    "type": "database_id"
   },
   "properties": {
    "Assign": {
     "id": "%5DtZZ",
     "people": [],
     "type": "people"
    },
    "Code name": {
     "id": "PT%5CP",
     "rich_text": [],
     "type": "rich_text"
    },
    "Name": {
     "id": "title",
     "title": [
      {
       "annotations": {
        "bold": false,
        "code": false,
        "color": "default",
        "italic": false,
        "strikethrough": false,
        "underline": false
       },
       "href": null,
       "plain_text": "2.2.1 Escalamiento de números",
       "text": {
        "content": "2.2.1 Escalamiento de números",
        "link": null
       },
       "type": "text"
      }
     ],
     "type": "title"
    },
    "Order": {
     "id": "k_Cb",
     "number": 3.21,
     "type": "number"
    },
    "Real order": {
     "id": "%7Dn_k",
     "rich_text": [
      {
       "annotations": {
        "bold": false,
        "code": false,
        "color": "default",
        "italic": false,
        "strikethrough": false,
        "underline": false
       },
       "href": null,
       "plain_text": "09",
       "text": {
        "content": "09",
        "link": null
       },
       "type": "text"
      }
     ],
     "type": "rich_text"
    },
    "Status": {
     "id": "s%7D%5Ea",
     "status": {
      "color": "green",
      "id": "b6060d48-45e7-42e9-a8a0-8bd803231f7f",
      "name": "Done"
     },
     "type": "status"
    }
   },
   "url": "https://www.notion.so/2-2-1-Escalamiento-de-n-meros-32a8af92d8c6421fa4e723a5e5cd3f64"
  }
 },
 "nbformat": 4,
 "nbformat_minor": 5
}
