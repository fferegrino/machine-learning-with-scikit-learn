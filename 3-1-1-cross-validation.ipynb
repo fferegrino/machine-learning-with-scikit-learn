{
 "cells": [
  {
   "cell_type": "markdown",
   "id": "42cdf0ca",
   "metadata": {},
   "source": [
    "# Validación cruzada\n",
    "\n",
    "La validación cruzada o cross-validation es una técnica que permite evaluar el desempeño de un modelo de aprendizaje automático.\n",
    "\n",
    "Ya sabemos que el entrenar un modelo con un conjunto de datos y probarlos en el mismo conjunto de datos es un error, es por eso que usualmente dividimos los datos en dos conjuntos: entrenamiento y prueba.\n",
    "\n",
    "Es útil porque en lugar de dividir los datos en dos conjuntos estáticos de entrenamiento y prueba como normalmente estamos acostumbrados, esta técnica divide los datos en múltiples conjuntos llamados “<i>folds”</i> en inglés. \n",
    "\n",
    "Supongamos que tienes estos datos. Lo que hace crossvalidation es dividirlos en N grupos de tamaño más o menos similar.\n",
    "\n",
    "Entonces la distribución de los datos queda así:\n",
    "\n",
    "Después se va iterando sobre todas las combinaciones de estos datos, utilizando un conjunto de entrenamiento diferente para cada iteración y evaluando también sobre un conjunto diferente a cada vez. Esto nos va a dar como resultado N medidas de qué tan bueno es nuestro algoritmo.\n",
    "\n",
    "Este método de entrenamiento es útil para tener una mejor estimación del modelo en datos no vistos, esto cobra mayor relevancia cuando no tenemos un conjunto de datos de gran tamaño.\n",
    "\n",
    "El método por excelencia para aplicar y calcular la validación cruzada en scikit-learn es la función <code>cross_val_score</code>."
   ]
  },
  {
   "cell_type": "markdown",
   "id": "24c60287",
   "metadata": {},
   "source": [
    "## La función <code><b>cross_val_score</b></code>\n",
    "\n",
    "Una de las formas más fáciles de utilizar la validación cruzada es a través de la función <code>cross_val_score</code>. Esta es una función que entrena y prueba un modelo en todos y cada uno de los folds generados por la validación cruzada.\n",
    "\n",
    "Lo que sucede dentro de la función es que a cada iteración se crea un y se entrena un nuevo modelo, luego se evalúa y la calificación que recibe se guarda en un arreglo. Arreglo que será regresado como resultado de la función.\n",
    "\n",
    "Para verlo con un ejemplo, vamos a cargar un dataset y un modelo de machine learning. En una lección a futuro vamos a ver modelos mas a detalle, por ahora, simplemente ejecuta el código:"
   ]
  },
  {
   "cell_type": "code",
   "execution_count": null,
   "id": "876ac4bb",
   "metadata": {},
   "outputs": [],
   "source": [
    "from sklearn.datasets import load_iris\n",
    "from sklearn.ensemble import RandomForestClassifier"
   ]
  },
  {
   "cell_type": "code",
   "execution_count": null,
   "id": "8d3c469a",
   "metadata": {},
   "outputs": [],
   "source": [
    "\n",
    "\n",
    "iris_dataset = load_iris()\n",
    "X, y = iris_dataset.data, iris_dataset.target\n",
    "\n",
    "X[:10]"
   ]
  },
  {
   "cell_type": "markdown",
   "id": "384c7eb0",
   "metadata": {},
   "source": [
    "Ahora si, para usar <code>cross_val_score</code> hay que importar la función de <code>sklearn.model_selection</code>:"
   ]
  },
  {
   "cell_type": "code",
   "execution_count": null,
   "id": "4a764a8b",
   "metadata": {},
   "outputs": [],
   "source": [
    "from sklearn.model_selection import cross_val_score"
   ]
  },
  {
   "cell_type": "markdown",
   "id": "c75e0786",
   "metadata": {},
   "source": [
    "Y procedemos a usarla pasando como argumentos el modelo sin entrenar, los datos de entrada y la etiqueta:"
   ]
  },
  {
   "cell_type": "code",
   "execution_count": null,
   "id": "1b1310f7",
   "metadata": {},
   "outputs": [],
   "source": [
    "model = RandomForestClassifier()\n",
    "\n",
    "scores = cross_val_score(model, X, y, cv=5)"
   ]
  },
  {
   "cell_type": "markdown",
   "id": "1b8a373b",
   "metadata": {},
   "source": [
    "Dependiendo del tamaño de tus datos la función se puede tardar un poco de tiempo.\n",
    "\n",
    "Recuerda lo que está sucediendo internamente, tus datos están siendo divididos en 5 segmentos, valor que en este caso estamos estableciendo con el argumento <code>cv</code>. Cada uno de estos segmentos será usado para probar el desempeño de un modelo entrenado en los segmentos restantes.\n",
    "\n",
    "Si visualizamos el resultado de la función verás 5 valores."
   ]
  },
  {
   "cell_type": "code",
   "execution_count": null,
   "id": "b29ed3ba",
   "metadata": {},
   "outputs": [],
   "source": [
    "scores"
   ]
  },
  {
   "cell_type": "markdown",
   "id": "8ec115a9",
   "metadata": {},
   "source": [
    "Cada uno de estos valores representa el puntaje del modelo en cada uno de estos segmentos de validación cruzada. En este caso, el modelo obtuvo un puntaje alto en la mayoría de los segmentos, lo que sugiere que el modelo que le pasamos a la función tiene un desempeño aceptable."
   ]
  },
  {
   "cell_type": "markdown",
   "id": "18eabb78",
   "metadata": {},
   "source": [
    "### ¿Cómo le hago para entrenar un modelo con <code>cross_val_score</code>?\n",
    "\n",
    "Si bien la función entrena modelos, solamente lo realiza con la finalidad de evaluar el desempeño. Si todas las puntuaciones que te devolvió la función son aceptables, puedes proceder a entrenar un modelo final utilizando todos tus datos de entrenamiento, ese sería el modelo que tendrías que probar con tu conjunto de pruebas y posteriormente pasar a producción."
   ]
  },
  {
   "cell_type": "code",
   "execution_count": null,
   "id": "3d0daa64",
   "metadata": {},
   "outputs": [],
   "source": [
    "model.fit(X, y)"
   ]
  },
  {
   "cell_type": "markdown",
   "id": "58ae67de",
   "metadata": {},
   "source": [
    "## Otros argumentos\n",
    "\n",
    "Los argumentos base de la función son el estimador, o el modelo a probar, las variables de entrada y la etiqueta. Opcionalmente podemos especificar cuántos segmentos queremos utilizando el argumento <code>cv</code> pasándole un número entero.\n",
    "\n",
    "Te estarás preguntando, ¿qué métrica está utilizando para medir el desempeño? – por default, <code>cross_val_score</code>\n",
    " utiliza una métrica de evaluación específica del estimador en cuestión. Por ejemplo, para un clasificador de regresión logística, la métrica predeterminada es la exactitud (<code>accuracy</code>), mientras que para un modelo de regresión, la métrica predeterminada es el coeficiente de determinación R-cuadrado (<code>R^2</code>). Sin embargo, se puede especificar una métrica diferente a través del argumento <code>scoring</code> si se desea utilizar una medida de evaluación diferente a la predeterminada.\n",
    "\n",
    "Por ejemplo, digamos que quieres utilizar 6 segmentos y en lugar de utilizar <code>accuracy</code>, nos interesa más saber la precisión del modelo. Tendríamos que llamar a <code>cross_val_score</code> así:"
   ]
  },
  {
   "cell_type": "code",
   "execution_count": null,
   "id": "cce6f5de",
   "metadata": {},
   "outputs": [],
   "source": [
    "model = RandomForestClassifier()\n",
    "\n",
    "scores = cross_val_score(model, X, y, cv = 6, scoring='precision_macro', verbose = 3)"
   ]
  },
  {
   "cell_type": "markdown",
   "id": "999c53a7",
   "metadata": {},
   "source": [
    "Si te das cuenta, también estoy especificando <code>verbose</code> igual a 3, que controla la cantidad de información que se imprime durante la validación cruzada. Un valor mayor de <code>verbose</code> imprime más información, mientras que un valor menor imprime menos información. Útil para cuando quieres saber qué es lo que está sucediendo."
   ]
  },
  {
   "cell_type": "markdown",
   "id": "f41006ed",
   "metadata": {},
   "source": [
    "## La función <code><b>cross_validate</b></code>\n",
    "\n",
    "Existe otra función aún más genérica que <code>cross_val_score</code> pero que recibe los mismos argumentos. La gran diferencia entre ellos es que <code>cross_validate</code> permite especificar varias métricas para evaluar y regresa más información:"
   ]
  },
  {
   "cell_type": "code",
   "execution_count": null,
   "id": "4b196ed7",
   "metadata": {},
   "outputs": [],
   "source": [
    "from sklearn.model_selection import cross_validate"
   ]
  },
  {
   "cell_type": "code",
   "execution_count": null,
   "id": "d817d789",
   "metadata": {},
   "outputs": [],
   "source": [
    "model = RandomForestClassifier()\n",
    "\n",
    "scores = cross_validate(model, X, y, cv = 6, \n",
    "\tscoring=[\n",
    "\t\t'precision_macro', \n",
    "\t\t'precision_micro',\n",
    "\t\t'accuracy'\n",
    "\t],\n",
    "\tverbose = 3)"
   ]
  },
  {
   "cell_type": "markdown",
   "id": "3a3dca4d",
   "metadata": {},
   "source": [
    "Y el resultado es un diccionario con más información:"
   ]
  },
  {
   "cell_type": "code",
   "execution_count": null,
   "id": "2febd538",
   "metadata": {},
   "outputs": [],
   "source": [
    "for key, values in scores.items():\n",
    "    print(key)\n",
    "    print(values)"
   ]
  },
  {
   "cell_type": "markdown",
   "id": "16e89955",
   "metadata": {},
   "source": [
    "Y pues ahí lo tienen, esta lección se trató sobre la validación cruzada y cómo es que se puede usar en scikit-learn, recuerda que esta es una técnica importante en aprendizaje automático y se recomienda utilizarla siempre que sea posible. Sin embargo, es importante tener en cuenta la complejidad computacional y los recursos que se consumirían cuando estemos trabajando con una gran cantidad de información. \n",
    "\n",
    "Es por eso que la validación cruzada es especialmente útil cuando se dispone de un conjunto de datos pequeño y se desea estimar el rendimiento de un modelo de forma fiable."
   ]
  }
 ],
 "metadata": {
  "kernelspec": {
   "display_name": "Python 3 (ipykernel)",
   "language": "python",
   "name": "python3"
  },
  "language_info": {
   "codemirror_mode": {
    "name": "ipython",
    "version": 3
   },
   "file_extension": ".py",
   "mimetype": "text/x-python",
   "name": "python",
   "nbconvert_exporter": "python",
   "pygments_lexer": "ipython3",
   "version": "3.8.11"
  },
  "notion_metadata": {
   "archived": false,
   "cover": null,
   "created_by": {
    "id": "84951847-6e2b-487e-acba-6838f60f1102",
    "object": "user"
   },
   "created_time": "2023-03-14T20:34:00.000Z",
   "icon": null,
   "id": "84756db3-1a8f-48c7-bbaf-6eff93f0d749",
   "last_edited_by": {
    "id": "84951847-6e2b-487e-acba-6838f60f1102",
    "object": "user"
   },
   "last_edited_time": "2023-04-21T17:05:00.000Z",
   "object": "page",
   "parent": {
    "database_id": "97ecfa4e-50d1-4827-8791-2199c709d680",
    "type": "database_id"
   },
   "properties": {
    "Assign": {
     "id": "%5DtZZ",
     "people": [],
     "type": "people"
    },
    "Code name": {
     "id": "PT%5CP",
     "rich_text": [],
     "type": "rich_text"
    },
    "Name": {
     "id": "title",
     "title": [
      {
       "annotations": {
        "bold": false,
        "code": false,
        "color": "default",
        "italic": false,
        "strikethrough": false,
        "underline": false
       },
       "href": null,
       "plain_text": "3.1.1 Cross-validation",
       "text": {
        "content": "3.1.1 Cross-validation",
        "link": null
       },
       "type": "text"
      }
     ],
     "type": "title"
    },
    "Order": {
     "id": "k_Cb",
     "number": 4.1,
     "type": "number"
    },
    "Real order": {
     "id": "%7Dn_k",
     "rich_text": [
      {
       "annotations": {
        "bold": false,
        "code": false,
        "color": "default",
        "italic": false,
        "strikethrough": false,
        "underline": false
       },
       "href": null,
       "plain_text": "13",
       "text": {
        "content": "13",
        "link": null
       },
       "type": "text"
      }
     ],
     "type": "rich_text"
    },
    "Status": {
     "id": "s%7D%5Ea",
     "status": {
      "color": "green",
      "id": "b6060d48-45e7-42e9-a8a0-8bd803231f7f",
      "name": "Done"
     },
     "type": "status"
    }
   },
   "url": "https://www.notion.so/3-1-1-Cross-validation-84756db31a8f48c7bbaf6eff93f0d749"
  }
 },
 "nbformat": 4,
 "nbformat_minor": 5
}
