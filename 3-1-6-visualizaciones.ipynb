{
 "cells": [
  {
   "cell_type": "markdown",
   "id": "fd22bbd2",
   "metadata": {},
   "source": [
    "# Visualización de resultados\n",
    "\n",
    "Las visualización de los datos no solamente se realiza antes de entrenar un modelo durante el análisis exploratorio de datos, sino que también son es herramienta muy útil para entender el desempeño de nuestros modelos de una manera más intuitiva y fácil de interpretar. Afortunadamente, scikit-learn también nos ofrece varias funciones para visualizar los resultados de nuestros modelos.\n",
    "\n",
    "Las visualizaciones de las que te voy a hablar aplican específicamente para modelos de clasificación.\n",
    "\n",
    "Para crear estas visualizaciones necesitas tener un modelo ya entrenado, así que eso es lo que estoy haciendo en esta celda."
   ]
  },
  {
   "cell_type": "code",
   "execution_count": null,
   "id": "8b457208",
   "metadata": {},
   "outputs": [],
   "source": [
    "# Crea un dataset\n",
    "from sklearn.datasets import make_moons\n",
    "from sklearn.model_selection import train_test_split\n",
    "\n",
    "X, y = make_moons(n_samples=1000, random_state=42, noise=0.40)\n",
    "X_train, X_test, y_train, y_test = train_test_split(X, y, random_state=42)\n",
    "\n",
    "print(f\"Total number of samples: {len(X)}\")\n",
    "print(f\"Samples on the test set {len(X_test)}\")"
   ]
  },
  {
   "cell_type": "code",
   "execution_count": null,
   "id": "4f47f9cb",
   "metadata": {},
   "outputs": [],
   "source": [
    "# Visualización del dataset\n",
    "import matplotlib.pyplot as plt\n",
    "\n",
    "plt.scatter(X[:, 0], X[:, 1], c=y, edgecolor=\"k\")"
   ]
  },
  {
   "cell_type": "code",
   "execution_count": null,
   "id": "4da1f745",
   "metadata": {},
   "outputs": [],
   "source": [
    "# Creamos un clasificador básico para esta lección\n",
    "from sklearn.ensemble import RandomForestClassifier\n",
    "\n",
    "model = RandomForestClassifier()\n",
    "model.fit(X_train, y_train)"
   ]
  },
  {
   "cell_type": "markdown",
   "id": "a6b0160d",
   "metadata": {},
   "source": [
    "## Matriz de confusión\n",
    "\n",
    "Una matriz de confusión se utiliza para evaluar el desempeño de un modelo de clasificación. Es una matriz cuadrada que muestra la cantidad de verdaderos positivos (TP), falsos positivos (FP), verdaderos negativos (TN) y falsos negativos (FN) para cada clase en un conjunto de datos de prueba."
   ]
  },
  {
   "cell_type": "code",
   "execution_count": null,
   "id": "ebf397c9",
   "metadata": {},
   "outputs": [],
   "source": [
    "from sklearn.metrics import ConfusionMatrixDisplay\n",
    "\n",
    "ConfusionMatrixDisplay.from_estimator(model, X_test, y_test)"
   ]
  },
  {
   "cell_type": "markdown",
   "id": "95dda091",
   "metadata": {},
   "source": [
    "TP | FP\n",
    "-------\n",
    "FN | TN\n",
    "\n",
    "La matriz de confusión funciona comparando las predicciones del modelo con las etiquetas de clase reales en el conjunto de datos de prueba. La diagonal principal de la matriz de confusión muestra los verdaderos positivos y verdaderos negativos, que son las predicciones correctas del modelo. Las otras entradas de la matriz muestran los falsos positivos y falsos negativos, que son las predicciones incorrectas del modelo.\n",
    "\n",
    "Es recomendable usarla para ver en qué tipo de predicciones está fallando tu modelo, si en los falsos positivos o en los falsos negativos. Estos errores pueden tener consecuencias importantes dependiendo del problema que se esté resolviendo, por lo que es importante utilizar la matriz de confusión para entender y evaluar el desempeño del modelo."
   ]
  },
  {
   "cell_type": "markdown",
   "id": "48dc290f",
   "metadata": {},
   "source": [
    "## Visualización de las fronteras de decisión\n",
    "\n",
    "La función <code>DecisionBoundaryDisplay</code> de scikit-learn es una herramienta útil para visualizar las fronteras de decisión de un modelo de clasificación. Esta función nos permite visualizar las regiones del espacio de características donde el modelo predice cada clase, lo que nos ayuda a entender mejor cómo el modelo está haciendo las clasificaciones.\n",
    "\n",
    "La visualización de las fronteras de decisión es particularmente útil en casos en los que las clases no se pueden separar perfectamente en el espacio de características. En estos casos, el modelo puede tener dificultades para hacer clasificaciones precisas, y las fronteras de decisión pueden ser irregulares o complejas."
   ]
  },
  {
   "cell_type": "code",
   "execution_count": null,
   "id": "9b264c04",
   "metadata": {},
   "outputs": [],
   "source": [
    "from sklearn.inspection import DecisionBoundaryDisplay\n",
    "\n",
    "DecisionBoundaryDisplay.from_estimator(\n",
    "    estimator = model, \n",
    "    X = X,\n",
    "    alpha=0.5,\n",
    ")\n",
    "\n",
    "plt.scatter(X[:, 0], X[:, 1], c=y, edgecolor=\"k\")"
   ]
  },
  {
   "cell_type": "markdown",
   "id": "2d143687",
   "metadata": {},
   "source": [
    "## Curva de precisión-recall\n",
    "\n",
    "La curva de precisión-recall es una herramienta útil para evaluar el desempeño de un modelo de clasificación en términos de precisión y recall para diferentes umbrales de clasificación. La curva se genera trazando la precisión en el eje <i>y</i> y el recall en el eje <i>x</i> para diferentes umbrales de clasificación."
   ]
  },
  {
   "cell_type": "code",
   "execution_count": null,
   "id": "a7d534d0",
   "metadata": {},
   "outputs": [],
   "source": [
    "from sklearn.metrics import PrecisionRecallDisplay\n",
    "\n",
    "PrecisionRecallDisplay.from_estimator(model, X_test, y_test)"
   ]
  },
  {
   "cell_type": "markdown",
   "id": "a5b7678e",
   "metadata": {},
   "source": [
    "En otras palabras, muestra el <i>tradeoff</i> entre la precisión y el recall, un área grande debajo de la curva representa tanto un alto recall como una alta precisión, donde una alta precisión se relaciona con una baja tasa de falsos positivos, y un alto recall se relaciona con una baja tasa de falsos negativos.\n",
    "\n",
    "Esta gráfica es particularmente útil cuando nuestro dataset está desbalanceado."
   ]
  },
  {
   "cell_type": "markdown",
   "id": "2cadd8b5",
   "metadata": {},
   "source": [
    "## ROC Curve\n",
    "\n",
    "La curva ROC (Receiver Operating Characteristic) es una visualización útil para evaluar el desempeño de un modelo de clasificación en términos de su capacidad para distinguir entre clases. \n",
    "\n",
    "La curva se genera trazando la tasa de verdaderos positivos (TPR) en el eje <i>y</i> y la tasa de falsos positivos (FPR) en el eje <i>x</i> para diferentes umbrales de clasificación."
   ]
  },
  {
   "cell_type": "code",
   "execution_count": null,
   "id": "52bc0ae7",
   "metadata": {},
   "outputs": [],
   "source": [
    "from sklearn.metrics import RocCurveDisplay\n",
    "\n",
    "RocCurveDisplay.from_estimator(model, X_test, y_test)"
   ]
  },
  {
   "cell_type": "markdown",
   "id": "75234f0d",
   "metadata": {},
   "source": [
    "Esta permite evaluar la capacidad de un modelo de clasificación para distinguir entre las clases, incluso cuando las distribuciones de clase son desiguales. Es útil porque representa el trade-off entre la tasa de verdaderos positivos y la tasa de falsos positivos. Un clasificador ideal se sitúa en la esquina superior izquierda del gráfico, lo que indica una alta tasa de verdaderos positivos y una baja tasa de falsos positivos. En este caso, el modelo puede distinguir perfectamente entre las dos clases."
   ]
  },
  {
   "cell_type": "markdown",
   "id": "855306a2",
   "metadata": {},
   "source": [
    "## Conclusión\n",
    "\n",
    "En resumen, las visualizaciones son una herramienta poderosa para entender y comunicar los resultados de nuestros modelos de una manera más efectiva. Scikit-learn nos ofrece varias funciones para visualizar los resultados de nuestros modelos de clasificación y regresión, y es importante considerar estas herramientas al evaluar y presentar los resultados de nuestros modelos."
   ]
  }
 ],
 "metadata": {
  "kernelspec": {
   "display_name": "Python 3 (ipykernel)",
   "language": "python",
   "name": "python3"
  },
  "language_info": {
   "codemirror_mode": {
    "name": "ipython",
    "version": 3
   },
   "file_extension": ".py",
   "mimetype": "text/x-python",
   "name": "python",
   "nbconvert_exporter": "python",
   "pygments_lexer": "ipython3",
   "version": "3.8.11"
  },
  "notion_metadata": {
   "archived": false,
   "cover": null,
   "created_by": {
    "id": "84951847-6e2b-487e-acba-6838f60f1102",
    "object": "user"
   },
   "created_time": "2023-03-14T20:36:00.000Z",
   "icon": null,
   "id": "e8b073bd-cd10-4a43-9e7b-560b5fdc100b",
   "last_edited_by": {
    "id": "84951847-6e2b-487e-acba-6838f60f1102",
    "object": "user"
   },
   "last_edited_time": "2023-04-21T17:26:00.000Z",
   "object": "page",
   "parent": {
    "database_id": "97ecfa4e-50d1-4827-8791-2199c709d680",
    "type": "database_id"
   },
   "properties": {
    "Assign": {
     "id": "%5DtZZ",
     "people": [],
     "type": "people"
    },
    "Code name": {
     "id": "PT%5CP",
     "rich_text": [],
     "type": "rich_text"
    },
    "Name": {
     "id": "title",
     "title": [
      {
       "annotations": {
        "bold": false,
        "code": false,
        "color": "default",
        "italic": false,
        "strikethrough": false,
        "underline": false
       },
       "href": null,
       "plain_text": "3.1.6 Visualizaciones",
       "text": {
        "content": "3.1.6 Visualizaciones",
        "link": null
       },
       "type": "text"
      }
     ],
     "type": "title"
    },
    "Order": {
     "id": "k_Cb",
     "number": 4.4,
     "type": "number"
    },
    "Real order": {
     "id": "%7Dn_k",
     "rich_text": [
      {
       "annotations": {
        "bold": false,
        "code": false,
        "color": "default",
        "italic": false,
        "strikethrough": false,
        "underline": false
       },
       "href": null,
       "plain_text": "18 - Visualizaciones",
       "text": {
        "content": "18 - Visualizaciones",
        "link": null
       },
       "type": "text"
      }
     ],
     "type": "rich_text"
    },
    "Status": {
     "id": "s%7D%5Ea",
     "status": {
      "color": "green",
      "id": "b6060d48-45e7-42e9-a8a0-8bd803231f7f",
      "name": "Done"
     },
     "type": "status"
    }
   },
   "url": "https://www.notion.so/3-1-6-Visualizaciones-e8b073bdcd104a439e7b560b5fdc100b"
  }
 },
 "nbformat": 4,
 "nbformat_minor": 5
}
