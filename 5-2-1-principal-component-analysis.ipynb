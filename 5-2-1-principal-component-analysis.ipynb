{
 "cells": [
  {
   "cell_type": "markdown",
   "id": "f5488846",
   "metadata": {},
   "source": [
    "# Principal Component Analysis\n",
    "\n",
    "El PCA, por sus siglas en inglés, es una técnica de reducción que se utiliza para preparar datos para ser visualizados o para ser utilizados en análisis y modelado.\n",
    "\n",
    "PCA busca reducir la dimensionalidad de los datos al proyectarlos en un nuevo espacio de características que esté compuesto por las direcciones de máxima varianza de los datos originales.\n",
    "\n",
    "El objetivo de PCA es encontrar una nueva representación de los datos que permita preservar la mayor cantidad de información posible a pesar de reducir el número de variables. Esto se logra mediante la identificación de las componentes principales, que son combinaciones lineales de las variables originales que explican la mayor cantidad de varianza en los datos.\n",
    "\n",
    "Vamos a trabajar con el dataset de las flores Iris, este dataset tiene 4 dimensiones en donde cada una de ellas tiene una relación con el mundo real:"
   ]
  },
  {
   "cell_type": "code",
   "execution_count": null,
   "id": "594b11a6",
   "metadata": {},
   "outputs": [],
   "source": [
    "from sklearn.datasets import load_iris\n",
    "\n",
    "iris = load_iris()\n",
    "X = iris.data\n",
    "labels = iris.target\n",
    "\n",
    "print(X.shape)\n",
    "X[:10]"
   ]
  },
  {
   "cell_type": "markdown",
   "id": "960ac68a",
   "metadata": {},
   "source": [
    "Los puedes visualizar con la siguiente función:"
   ]
  },
  {
   "cell_type": "code",
   "execution_count": null,
   "id": "103f1471",
   "metadata": {},
   "outputs": [],
   "source": [
    "from utils import visualize_iris_pairplot\n",
    "\n",
    "visualize_iris_pairplot(iris)"
   ]
  },
  {
   "cell_type": "markdown",
   "id": "fc47914a",
   "metadata": {},
   "source": [
    "En Scikit-learn, para aplicar PCA a un conjunto de datos, se crea una instancia de la clase <code><b>PCA</b></code><b> </b>la cual hay que importar del módulo <code>sklearn.decomposition</code>:"
   ]
  },
  {
   "cell_type": "code",
   "execution_count": null,
   "id": "59333c53",
   "metadata": {},
   "outputs": [],
   "source": [
    "from sklearn.decomposition import PCA"
   ]
  },
  {
   "cell_type": "markdown",
   "id": "3730aa28",
   "metadata": {},
   "source": [
    "Uno de los hiperparámetros más importantes de PCA es la cantidad de componentes que queremos, este número, dado por el argumento <code>n_components</code> que te recomiendo especificar en la mayoría de los casos. Digamos que queremos reducir nuestro dataset a dos dimensiones únicamente:"
   ]
  },
  {
   "cell_type": "code",
   "execution_count": null,
   "id": "9f6cb31a",
   "metadata": {},
   "outputs": [],
   "source": [
    "pca = PCA(n_components=2)"
   ]
  },
  {
   "cell_type": "markdown",
   "id": "6695f368",
   "metadata": {},
   "source": [
    "Esto significa que de 4 dimensiones, vamos a convertirlo a dos – llamando al método <code>fit</code> y luego <code>transform</code>:"
   ]
  },
  {
   "cell_type": "code",
   "execution_count": null,
   "id": "6ef35a27",
   "metadata": {},
   "outputs": [],
   "source": [
    "pca.fit(X)\n",
    "X_reduced = pca.transform(X)\n",
    "\n",
    "print(X_reduced.shape)\n",
    "X_reduced[:10]"
   ]
  },
  {
   "cell_type": "markdown",
   "id": "522b860a",
   "metadata": {},
   "source": [
    "Y ahora podemos visualizar este nuevo dataset, que es una versión en baja dimension pero que captura las diferencias de los datos originales:"
   ]
  },
  {
   "cell_type": "code",
   "execution_count": null,
   "id": "823b0669",
   "metadata": {},
   "outputs": [],
   "source": [
    "import matplotlib.pyplot as plt\n",
    "\n",
    "# Graficar los datos transformados\n",
    "plt.scatter(X_reduced[:, 0], X_reduced[:, 1], c=labels)\n",
    "plt.xlabel('Componente Principal 1')\n",
    "plt.ylabel('Componente Principal 2')\n",
    "plt.show()"
   ]
  },
  {
   "cell_type": "markdown",
   "id": "835cb8e2",
   "metadata": {},
   "source": [
    "Algo importante a señalar es que después de las transformaciones, estas dos nuevas dimensiones, estos valores no tienen relación alguna con ninguna propiedad física. Son solo “componentes”, aquí no podemos hablar de centímetros o pétalos, nada de eso."
   ]
  },
  {
   "cell_type": "markdown",
   "id": "cabb832f",
   "metadata": {},
   "source": [
    "## ¿Cómo medir qué tan bueno es PCA?\n",
    "\n",
    "Es difícil por si solo poder cuantificar qué tan bueno es nuestra elección de hiperparámetros de PCA. A veces se suele medir el desempeño de PCA en conjunto con que tan bien es capaz de ayudar a mejorar el rendimiento de un modelo de aprendizaje automático que se entrena con los datos que salen de PCA, o si las gráficas que generamos con este son buenas o no.\n",
    "\n",
    "Y pues ahí lo tienen el algoritmo de PCA es útil cuando necesitamso reducir la dimensión de nuestros datos ya sea para entrenar un nuevo modelo o simplemente visualizar datos.\n",
    "\n",
    "Y pues ahí lo tienen, PCA es un algoritmo que tal vez por si mismo su utilidad no es tan evidente, pero cuando lo pones en conjunto con una gráfica o un modelo de machine learning, comienza a cobrar más importancia y su utilidad se hace evidente."
   ]
  }
 ],
 "metadata": {
  "kernelspec": {
   "display_name": "Python 3 (ipykernel)",
   "language": "python",
   "name": "python3"
  },
  "language_info": {
   "codemirror_mode": {
    "name": "ipython",
    "version": 3
   },
   "file_extension": ".py",
   "mimetype": "text/x-python",
   "name": "python",
   "nbconvert_exporter": "python",
   "pygments_lexer": "ipython3",
   "version": "3.8.11"
  },
  "notion_metadata": {
   "archived": false,
   "cover": null,
   "created_by": {
    "id": "84951847-6e2b-487e-acba-6838f60f1102",
    "object": "user"
   },
   "created_time": "2023-03-14T20:32:00.000Z",
   "icon": null,
   "id": "a95c216a-2ca7-4a9b-b823-2afca9ef9840",
   "last_edited_by": {
    "id": "84951847-6e2b-487e-acba-6838f60f1102",
    "object": "user"
   },
   "last_edited_time": "2023-05-14T06:33:00.000Z",
   "object": "page",
   "parent": {
    "database_id": "97ecfa4e-50d1-4827-8791-2199c709d680",
    "type": "database_id"
   },
   "properties": {
    "Assign": {
     "id": "%5DtZZ",
     "people": [],
     "type": "people"
    },
    "Code name": {
     "id": "PT%5CP",
     "rich_text": [],
     "type": "rich_text"
    },
    "Name": {
     "id": "title",
     "title": [
      {
       "annotations": {
        "bold": false,
        "code": false,
        "color": "default",
        "italic": false,
        "strikethrough": false,
        "underline": false
       },
       "href": null,
       "plain_text": "5.2.1 Principal Component Analysis",
       "text": {
        "content": "5.2.1 Principal Component Analysis",
        "link": null
       },
       "type": "text"
      }
     ],
     "type": "title"
    },
    "Order": {
     "id": "k_Cb",
     "number": 6.21,
     "type": "number"
    },
    "Real order": {
     "id": "%7Dn_k",
     "rich_text": [
      {
       "annotations": {
        "bold": false,
        "code": false,
        "color": "default",
        "italic": false,
        "strikethrough": false,
        "underline": false
       },
       "href": null,
       "plain_text": "28",
       "text": {
        "content": "28",
        "link": null
       },
       "type": "text"
      }
     ],
     "type": "rich_text"
    },
    "Status": {
     "id": "s%7D%5Ea",
     "status": {
      "color": "green",
      "id": "b6060d48-45e7-42e9-a8a0-8bd803231f7f",
      "name": "Done"
     },
     "type": "status"
    }
   },
   "url": "https://www.notion.so/5-2-1-Principal-Component-Analysis-a95c216a2ca74a9bb8232afca9ef9840"
  }
 },
 "nbformat": 4,
 "nbformat_minor": 5
}
