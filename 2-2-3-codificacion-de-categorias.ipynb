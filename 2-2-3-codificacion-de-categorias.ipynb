{
 "cells": [
  {
   "cell_type": "markdown",
   "id": "a1c3ceb2",
   "metadata": {},
   "source": [
    "# Codificación de categorías\n",
    "\n",
    "Las características de nuestros datos a veces se encuentran en forma de etiquetas o categorías. Por ejemplo, la demarcación estatal en donde viven, el nivel educativo o el estado civil. Y recuerda que, a riesgo de sonar repetitivo, los algoritmos de machine learning funcionan con valores numéricos."
   ]
  },
  {
   "cell_type": "code",
   "execution_count": null,
   "id": "69f19664",
   "metadata": {},
   "outputs": [],
   "source": [
    "import pandas as pd\n",
    "import numpy as np\n",
    "\n",
    "dataset = pd.DataFrame([\n",
    " (\"Mexico\", \"Married\", \"High school\"),\n",
    " (\"Colombia\", \"Single\", \"Undergraduate\"),\n",
    " (\"Guinea Equatorial\", \"Divorced\", \"College\"),\n",
    " (\"Mexico\", \"Single\", \"Primary\"),\n",
    " (\"Colombia\", \"Single\", \"Primary\"),\n",
    "], columns=[\"Country\", \"Marital status\", \"Education\" ])\n",
    "\n",
    "dataset"
   ]
  },
  {
   "cell_type": "markdown",
   "id": "83f08cd1",
   "metadata": {},
   "source": [
    "En esta sesión te hablaré de diversas formas en las que podemos codificar valores categóricos para que sean utilizables por algoritmos de machine learning."
   ]
  },
  {
   "cell_type": "markdown",
   "id": "78adb021",
   "metadata": {},
   "source": [
    "## One-hot encoding\n",
    "\n",
    "Un primer intento de representar las variables categóricas como valores numéricos es usando la codificación <i>One-hot</i> <i>encoding.</i>\n",
    "\n",
    "En términos simples, el one hot encoding convierte una variable categórica en una matriz de ceros y unos. Cada columna en la matriz representa una un valor único que puede tomar dentro de la categorías de la variable y cada fila representa una observación o muestra. Si una muestra pertenece a una categoría específica, la entrada correspondiente en la matriz será un 1, mientras que todas las demás entradas serán ceros. \n",
    "\n",
    "Por ejemplo, tomando nuestro dataset de muestra, vamos a codificar el país utilizando el <i>One-hot encoder</i> de scikit-learn:\n",
    "\n",
    "Importamos de <code>sklearn.preprocessing</code> y creamos una instancia:"
   ]
  },
  {
   "cell_type": "code",
   "execution_count": null,
   "id": "954c2da1",
   "metadata": {},
   "outputs": [],
   "source": [
    "from sklearn.preprocessing import OneHotEncoder\n",
    "encoder = OneHotEncoder()"
   ]
  },
  {
   "cell_type": "markdown",
   "id": "922dfb6e",
   "metadata": {},
   "source": [
    "Y entrenamos nuestro codificador utilizando <code>fit</code> pasándole la columna que queremos codificar:"
   ]
  },
  {
   "cell_type": "code",
   "execution_count": null,
   "id": "9fe0ef2e",
   "metadata": {},
   "outputs": [],
   "source": [
    "encoder.fit(dataset[['Country']])"
   ]
  },
  {
   "cell_type": "markdown",
   "id": "731b2668",
   "metadata": {},
   "source": [
    "Y después podemos transformar con <code>transform</code>, por defecto, <code>OneHotEncoder</code> regresa una matriz dispersa, porque en One-hot encoding la matriz resultante está repleta de ceros, así que la convertimos en una matriz densa con <code>todense</code>:"
   ]
  },
  {
   "cell_type": "code",
   "execution_count": null,
   "id": "81bb88f7",
   "metadata": {},
   "outputs": [],
   "source": [
    "country_transformed = encoder.transform(dataset[['Country']])\n",
    "country_transformed.todense()"
   ]
  },
  {
   "cell_type": "markdown",
   "id": "3a75203a",
   "metadata": {},
   "source": [
    "Puedes ver el orden de las columnas inspeccionando la propiedad <code>categories_</code>:"
   ]
  },
  {
   "cell_type": "code",
   "execution_count": null,
   "id": "855047a4",
   "metadata": {},
   "outputs": [],
   "source": [
    "encoder.categories_"
   ]
  },
  {
   "cell_type": "markdown",
   "id": "d8054473",
   "metadata": {},
   "source": [
    "Y si te das cuenta, estos coinciden con el orden en el que los valores aparecen en la matriz."
   ]
  },
  {
   "cell_type": "markdown",
   "id": "b707d687",
   "metadata": {},
   "source": [
    "### Transformación inversa\n",
    "\n",
    "Al igual que muchos otros transformadores, <code>OneHotEncoder</code> también tiene el método <code>inverse_transform</code>:"
   ]
  },
  {
   "cell_type": "code",
   "execution_count": null,
   "id": "665fef90",
   "metadata": {},
   "outputs": [],
   "source": [
    "encoder.inverse_transform(\n",
    "    np.asarray(country_transformed.todense())\n",
    ")"
   ]
  },
  {
   "cell_type": "markdown",
   "id": "1697281e",
   "metadata": {},
   "source": [
    "### Argumentos extra\n",
    "\n",
    "La clase <code>OneHotEncoder</code> tiene varios argumentos extra, pero solo considero que hay un par que son importantes para mencionar.\n",
    "\n",
    "Es comun que entrenes tu codificador con un conjunto de datos, en nuestro caso solamente teníamos tres países en el dataset de entrenamiento, pero ¿qué es lo que va a pasar cuando en el futuro tu modelo reciba otro país? eso es justamente lo que nosotros podemos controlar con el argumento <code>handle_unknown</code>.\n",
    "\n",
    "Vamos a crear dos codificadores, estableciendo un comportamiento diferente para cada uno. Y de paso vamos a especificar que queremos que nuestro codificador nos entregue por defecto una matriz densa con <code>sparse_output</code>:"
   ]
  },
  {
   "cell_type": "code",
   "execution_count": null,
   "id": "50ff3a7e",
   "metadata": {},
   "outputs": [],
   "source": [
    "error_encoder = OneHotEncoder(handle_unknown='error', sparse_output=False)\n",
    "ignore_encoder = OneHotEncoder(handle_unknown='ignore', sparse_output=False)"
   ]
  },
  {
   "cell_type": "markdown",
   "id": "8996531d",
   "metadata": {},
   "source": [
    "Después los entrenamos con nuestros datos existentes"
   ]
  },
  {
   "cell_type": "code",
   "execution_count": null,
   "id": "d3a626b4",
   "metadata": {},
   "outputs": [],
   "source": [
    "error_encoder.fit(dataset[['Country']])\n",
    "ignore_encoder.fit(dataset[['Country']])"
   ]
  },
  {
   "cell_type": "markdown",
   "id": "eb5a4b85",
   "metadata": {},
   "source": [
    "Y veamos qué es lo que sucede cuando intentamos probarlos con datos nuevos:"
   ]
  },
  {
   "cell_type": "code",
   "execution_count": null,
   "id": "5949387e",
   "metadata": {},
   "outputs": [],
   "source": [
    "new_data = pd.DataFrame(['Costa Rica'], columns=['Country'])"
   ]
  },
  {
   "cell_type": "markdown",
   "id": "7ca1a973",
   "metadata": {},
   "source": [
    "Primero hay que intentar el del error. Y de hecho lo voy a poner en un bloque <i>try-except</i> para agarrar el error – es importante destacar que este es el comportamiento por defecto."
   ]
  },
  {
   "cell_type": "code",
   "execution_count": null,
   "id": "1653ac08",
   "metadata": {},
   "outputs": [],
   "source": [
    "try:\n",
    "\terror_encoder.transform(new_data)\n",
    "except ValueError as ve:\n",
    "\tprint(ve)"
   ]
  },
  {
   "cell_type": "markdown",
   "id": "12c2f16f",
   "metadata": {},
   "source": [
    "Si intentamos con el que le hemos dicho que lo ignore, nos regresará puros ceros puesto que lo ignora:"
   ]
  },
  {
   "cell_type": "code",
   "execution_count": null,
   "id": "ec29f65e",
   "metadata": {},
   "outputs": [],
   "source": [
    "ignore_encoder.transform(new_data)"
   ]
  },
  {
   "cell_type": "markdown",
   "id": "0ba1d6ea",
   "metadata": {},
   "source": [
    "### ¿Cuándo utilizar <code>OneHotEncoder</code>?\n",
    "\n",
    "Es bueno utilizar esta herramienta cuando nuestras categorías no tienen un orden predefinido, como el caso de los países, no podemos definir cuál es mayor que el otro, ni por más patrióticos que nos pongamos."
   ]
  },
  {
   "cell_type": "markdown",
   "id": "29ae92c3",
   "metadata": {},
   "source": [
    "## Ordinal encoding\n",
    "\n",
    "Hay otro tipo de variables que si nos permiten codificar cierta noción de orden y jerarquía, como es el caso de las variables categóricas ordinales. Piensa en el grado de estudio dentro de nuestro dataset.\n",
    "\n",
    "Dependiendo del problema que estemos enfrentando, podemos definir que el haber cursado la primaria es menos que haber cursado la educación superior.\n",
    "\n",
    "Para reflejar este tipo de relaciones podemos utilizar el <code>OrdinalEncoder</code>:"
   ]
  },
  {
   "cell_type": "code",
   "execution_count": null,
   "id": "b026eea7",
   "metadata": {},
   "outputs": [],
   "source": [
    "from sklearn.preprocessing import OrdinalEncoder"
   ]
  },
  {
   "cell_type": "markdown",
   "id": "40472711",
   "metadata": {},
   "source": [
    "Y creamos un objeto de la clase, pasándole como argumento las categorías que puede tomar nuestra variable en el orden que queramos que sean tomadas en cuenta – si no se establecen, los números serán asigandos al azar:"
   ]
  },
  {
   "cell_type": "code",
   "execution_count": null,
   "id": "1fc96f93",
   "metadata": {},
   "outputs": [],
   "source": [
    "ordinal_encoder = OrdinalEncoder(categories=[[\n",
    " \"Primary\", \"Secondary\", \"High school\", \"Undergraduate\", \"College\"\n",
    "]])"
   ]
  },
  {
   "cell_type": "markdown",
   "id": "ef87c7d6",
   "metadata": {},
   "source": [
    "Y ahora entonces podemos entrenar el codificador:"
   ]
  },
  {
   "cell_type": "code",
   "execution_count": null,
   "id": "2842cebc",
   "metadata": {},
   "outputs": [],
   "source": [
    "ordinal_encoder.fit(dataset[['Education']])"
   ]
  },
  {
   "cell_type": "markdown",
   "id": "accb7586",
   "metadata": {},
   "source": [
    "Y al transformar el dataset obtenemos lo esperado:"
   ]
  },
  {
   "cell_type": "code",
   "execution_count": null,
   "id": "92cc1d15",
   "metadata": {},
   "outputs": [],
   "source": [
    "ordinal_encoder.transform(dataset[['Education']])"
   ]
  },
  {
   "cell_type": "markdown",
   "id": "5e83d36a",
   "metadata": {},
   "source": [
    "### Argumentos extra\n",
    "\n",
    "Al igual que el codificador <i>one-hot</i>, <code>OrdinalEncoder</code> tiene varios argumentos extra, pero quizá el más importante es el que especifica cómo comportarse ante información no vista antes.\n",
    "\n",
    "Vamos a experimentar con los dos valores posibles, <code>error</code> y <code>use_encoded_value</code>:"
   ]
  },
  {
   "cell_type": "code",
   "execution_count": null,
   "id": "33036597",
   "metadata": {},
   "outputs": [],
   "source": [
    "error_encoder = OrdinalEncoder(categories=[[\n",
    " \"Primary\", \"Secondary\", \"High school\", \"Undergraduate\", \"College\"\n",
    "]], handle_unknown='error')\n",
    "\n",
    "error_encoder.fit(dataset[['Education']])"
   ]
  },
  {
   "cell_type": "markdown",
   "id": "00b0917b",
   "metadata": {},
   "source": [
    "De nuevo, para manejar el error hay que ponerlo en un bloque <i>try-except</i>:"
   ]
  },
  {
   "cell_type": "code",
   "execution_count": null,
   "id": "b06c52a1",
   "metadata": {},
   "outputs": [],
   "source": [
    "try:\n",
    "\terror_encoder.transform([[\"Kindergarten\"]])\n",
    "except ValueError as ve:\n",
    "\tprint(ve)"
   ]
  },
  {
   "cell_type": "markdown",
   "id": "87454e46",
   "metadata": {},
   "source": [
    "Por otro lado, si creamos uno que utilize el valor por defecto, podemos utilizar <code>handle_unknown</code> a <code>use_encoded_value</code>, para el caso, también es necesario establecer el argumento <code>unknown_value</code>:"
   ]
  },
  {
   "cell_type": "code",
   "execution_count": null,
   "id": "e32c0eee",
   "metadata": {},
   "outputs": [],
   "source": [
    "default_encoder = OrdinalEncoder(categories=[[\n",
    " \"Primary\", \"Secondary\", \"High school\", \"Undergraduate\", \"College\"\n",
    "]],\n",
    " handle_unknown='use_encoded_value',\n",
    "unknown_value=np.nan)\n",
    "\n",
    "default_encoder.fit(dataset[['Education']])"
   ]
  },
  {
   "cell_type": "markdown",
   "id": "552d658b",
   "metadata": {},
   "source": [
    "Y si intentamos transformar un valor que no existía previamente:"
   ]
  },
  {
   "cell_type": "code",
   "execution_count": null,
   "id": "1ed389af",
   "metadata": {},
   "outputs": [],
   "source": [
    "default_encoder.transform([[\"Kindergarten\"]])"
   ]
  },
  {
   "cell_type": "markdown",
   "id": "45129cf8",
   "metadata": {},
   "source": [
    "En donde recibirá el valor de <code>np.nan</code> por defecto en lugar de fallar."
   ]
  },
  {
   "cell_type": "markdown",
   "id": "a3ad2ff8",
   "metadata": {},
   "source": [
    "### ¿Cuándo es mejor utilizar <code>OrdinalEncoder</code>?\n",
    "\n",
    "Utiliza ordinal encoder cuando tus variables tengan un sentido de orden entre ellas, así podrás preservarlo para cuando conviertas de cadenas a números.\n",
    "\n",
    " > 📚 Tanto <code>OrdinalEncoder</code> como <code>OneHotEncoder</code> permiten ser entrenados en más de una columna a la vez, ¿qué te parece si codificas el estado civil de los datos al mismo tiempo que cualquiera de los otros dos? mejor aún, ¿qué codificador hace más sentido usar para ese atributo de nuestros datos?"
   ]
  }
 ],
 "metadata": {
  "kernelspec": {
   "display_name": "Python 3 (ipykernel)",
   "language": "python",
   "name": "python3"
  },
  "language_info": {
   "codemirror_mode": {
    "name": "ipython",
    "version": 3
   },
   "file_extension": ".py",
   "mimetype": "text/x-python",
   "name": "python",
   "nbconvert_exporter": "python",
   "pygments_lexer": "ipython3",
   "version": "3.8.11"
  },
  "notion_metadata": {
   "archived": false,
   "cover": null,
   "created_by": {
    "id": "84951847-6e2b-487e-acba-6838f60f1102",
    "object": "user"
   },
   "created_time": "2023-03-14T20:06:00.000Z",
   "icon": null,
   "id": "7c3dc589-d99c-46a9-9b04-a82d2a28d861",
   "last_edited_by": {
    "id": "84951847-6e2b-487e-acba-6838f60f1102",
    "object": "user"
   },
   "last_edited_time": "2023-04-21T17:05:00.000Z",
   "object": "page",
   "parent": {
    "database_id": "97ecfa4e-50d1-4827-8791-2199c709d680",
    "type": "database_id"
   },
   "properties": {
    "Assign": {
     "id": "%5DtZZ",
     "people": [],
     "type": "people"
    },
    "Code name": {
     "id": "PT%5CP",
     "rich_text": [],
     "type": "rich_text"
    },
    "Name": {
     "id": "title",
     "title": [
      {
       "annotations": {
        "bold": false,
        "code": false,
        "color": "default",
        "italic": false,
        "strikethrough": false,
        "underline": false
       },
       "href": null,
       "plain_text": "2.2.3 Codificación de categorías",
       "text": {
        "content": "2.2.3 Codificación de categorías",
        "link": null
       },
       "type": "text"
      }
     ],
     "type": "title"
    },
    "Order": {
     "id": "k_Cb",
     "number": 3.24,
     "type": "number"
    },
    "Real order": {
     "id": "%7Dn_k",
     "rich_text": [
      {
       "annotations": {
        "bold": false,
        "code": false,
        "color": "default",
        "italic": false,
        "strikethrough": false,
        "underline": false
       },
       "href": null,
       "plain_text": "11",
       "text": {
        "content": "11",
        "link": null
       },
       "type": "text"
      }
     ],
     "type": "rich_text"
    },
    "Status": {
     "id": "s%7D%5Ea",
     "status": {
      "color": "green",
      "id": "b6060d48-45e7-42e9-a8a0-8bd803231f7f",
      "name": "Done"
     },
     "type": "status"
    }
   },
   "url": "https://www.notion.so/2-2-3-Codificaci-n-de-categor-as-7c3dc589d99c46a99b04a82d2a28d861"
  }
 },
 "nbformat": 4,
 "nbformat_minor": 5
}
