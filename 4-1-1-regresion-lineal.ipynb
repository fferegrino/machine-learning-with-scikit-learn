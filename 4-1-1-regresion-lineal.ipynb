{
 "cells": [
  {
   "cell_type": "markdown",
   "id": "fb35764c",
   "metadata": {},
   "source": [
    "# Regresión lineal\n",
    "\n",
    "La regresión lineal es tal vez uno de los algoritmos más básicos que se utilizan en el mundo del machine learning – como el nombre mismo nos indica, nos ayuda a resolver tareas de regresión, predecir un valor numérico continuo.\n",
    "\n",
    "La clase <code>LinearRegression</code> es a su vez una de las más sencillas de usar en cuanto a cantidad de atributos.\n",
    "\n",
    "Vamos a crear un conjunto de datos sintéticos para practicar nuestra regresión:"
   ]
  },
  {
   "cell_type": "code",
   "execution_count": null,
   "id": "5288c7ca",
   "metadata": {},
   "outputs": [],
   "source": [
    "from sklearn.datasets import make_regression\n",
    "from sklearn.model_selection import train_test_split\n",
    "\n",
    "X, y = make_regression(n_samples=100, n_features=10, bias=2.0, noise=5.0, random_state=42)\n",
    "X_train, X_test, y_train, y_test = train_test_split(X, y)"
   ]
  },
  {
   "cell_type": "markdown",
   "id": "bd47f7bc",
   "metadata": {},
   "source": [
    "Este es un dataset genérico, que contiene 10 features, en este caso es un arreglo de datos numéricos listo para ser usado en la regresión. Recuerda que normalmente tienes que hacer feature engineering, pero como eso ya lo vimos, me lo voy a saltar aquí."
   ]
  },
  {
   "cell_type": "code",
   "execution_count": null,
   "id": "6eef6d95",
   "metadata": {},
   "outputs": [],
   "source": [
    "print(X)"
   ]
  },
  {
   "cell_type": "markdown",
   "id": "84ae8d61",
   "metadata": {},
   "source": [
    "Los pasos básicos implican importar la clase del módulo <code>linear_model</code>:"
   ]
  },
  {
   "cell_type": "code",
   "execution_count": null,
   "id": "d6381b5f",
   "metadata": {},
   "outputs": [],
   "source": [
    "from sklearn.linear_model import LinearRegression"
   ]
  },
  {
   "cell_type": "markdown",
   "id": "95bd2cb3",
   "metadata": {},
   "source": [
    "Crear una instancia:"
   ]
  },
  {
   "cell_type": "code",
   "execution_count": null,
   "id": "b703cde1",
   "metadata": {},
   "outputs": [],
   "source": [
    "linear_regression = LinearRegression()"
   ]
  },
  {
   "cell_type": "markdown",
   "id": "e5e45a2e",
   "metadata": {},
   "source": [
    "Y llamar al método <code>fit</code> para entrenar el modelo en los datos de entrenamiento:"
   ]
  },
  {
   "cell_type": "code",
   "execution_count": null,
   "id": "5fb46167",
   "metadata": {},
   "outputs": [],
   "source": [
    "linear_regression.fit(X_train, y_train)"
   ]
  },
  {
   "cell_type": "markdown",
   "id": "9fb3c83c",
   "metadata": {},
   "source": [
    "Por último, basta con llamar al método predict, pasándole los datos de prueba:"
   ]
  },
  {
   "cell_type": "code",
   "execution_count": null,
   "id": "8ab507f7",
   "metadata": {},
   "outputs": [],
   "source": [
    "y_pred = linear_regression.predict(X_test)"
   ]
  },
  {
   "cell_type": "markdown",
   "id": "faf21d37",
   "metadata": {},
   "source": [
    "En <code>y_pred</code> tenemos nuestros valores predichos que después podemos usar para evaluar el desempeño del modelo:"
   ]
  },
  {
   "cell_type": "code",
   "execution_count": null,
   "id": "8096becb",
   "metadata": {},
   "outputs": [],
   "source": [
    "from sklearn.metrics import mean_absolute_error\n",
    "\n",
    "mean_absolute_error(y_test, y_pred)"
   ]
  },
  {
   "cell_type": "markdown",
   "id": "8689f6f7",
   "metadata": {},
   "source": [
    "O si quieres, puedes ver esto de forma más gráfica con esta función que cree para el curso:"
   ]
  },
  {
   "cell_type": "code",
   "execution_count": null,
   "id": "2b2fdf56",
   "metadata": {},
   "outputs": [],
   "source": [
    "from utils import plot_regression_results\n",
    "\n",
    "plot_regression_results(y_test, y_pred)"
   ]
  },
  {
   "cell_type": "markdown",
   "id": "2d5cc40a",
   "metadata": {},
   "source": [
    "## Argumentos de <code>LinearRegression</code>\n",
    "\n",
    "Como lo mencioné, la regresión lineal en scikit-learn es bastante simple, los argumentos que tiene son pocos e influencian en poco al comportamiento del modelo, tenemos:\n",
    "\n",
    " - <code>fit_intercept</code> (booleano, opcional): indica si se debe calcular el intercepto (también llamado \"ordenada al origen\"). Por defecto, el valor es <code>True</code>.\n",
    "\n",
    " - <code>normalize</code> (booleano, opcional): indica si las variables predictoras (también llamadas \"características\" o \"features\") deben ser normalizadas. Por defecto, el valor es <code>False</code>.\n",
    "\n",
    " - <code>copy_X</code> (booleano, opcional): indica si se debe hacer una copia de la matriz de variables predictoras (<code>X</code>) antes de realizar el ajuste. Por defecto, el valor es <code>True</code>.\n",
    "\n",
    " - <code>n_jobs</code> (entero, opcional): indica el número de trabajos en paralelo que se deben utilizar para ajustar el modelo. Por defecto, el valor es <code>None</code>, lo que significa que se utiliza un solo trabajo.\n",
    "\n",
    " - <code>positive</code> (booleano, opcional): indica si se deben forzar los coeficientes a ser no negativos. Por defecto, el valor es <code>False</code>.\n",
    "\n",
    "El argumento más importante es <code>fit_intercept</code>, que determina si se debe ajustar un modelo que incluya un “intercept”. El intercepto es el valor de la función cuando todas las variables predictoras son iguales a cero. Si <code>fit_intercept=True</code>, el modelo incluirá un término independiente. Si <code>fit_intercept=False</code>, el modelo no incluirá un término independiente y pasará por el origen.\n",
    "\n",
    "Los otros argumentos tienen efectos menores sobre el modelo ajustado. <code>normalize</code> se utiliza para normalizar las variables predictoras, lo que puede ser útil si las variables tienen diferentes escalas – y no las has normalizado previamente. <code>n_jobs</code> controla el número de trabajos en paralelo que se deben utilizar para ajustar el modelo, lo que puede ser útil si se dispone de múltiples núcleos de CPU – aunque solamente es usado en algunos casos especiales. Finalmente, <code>positive</code> forzará los coeficientes a ser no negativos, lo que puede ser útil en algunos casos."
   ]
  },
  {
   "cell_type": "markdown",
   "id": "4d2e2eb8",
   "metadata": {},
   "source": [
    "## Atributos de la regresión lineal\n",
    "\n",
    "La clase también tiene algunos atributos interesantes que te podrían ser útiles en algunas situaciones. Los más útiles son <code>coef_</code> e <code>intercept_</code>:\n",
    "\n",
    "El atributo <code>coef_</code> es un arreglo unidimensional que contiene los coeficientes de regresión, uno para cada variables de entrada en el conjunto de datos. El orden de los coeficientes corresponde al orden de las variables predictoras en la matriz de datos de entrada utilizada para entrenar el modelo. Esto nos puede servir para determinar, de forma limitada, la importancia o el peso que cada variable tiene dentro del modelo.\n",
    "\n",
    "El atributo <code>intercept_</code> es un escalar que representa el valor de la variable dependiente cuando todas las variables predictoras son cero. Por ejemplo, en un modelo de regresión lineal que predice el precio de una casa a partir de su tamaño en metros cuadrados, el término independiente podría representar el precio base de una casa. En este caso, el valor del término independiente podría ser utilizado para determinar si nuestro algoritmo está estimando correctamente el precio de una casa “base”.\n",
    "\n",
    "Vamos a ver algo sencillo como ejemplo – un pequeño dataset que representa los precios de una casa en relación con sus dimensiones en metros cuadrados."
   ]
  },
  {
   "cell_type": "code",
   "execution_count": null,
   "id": "cc5a9b0c",
   "metadata": {},
   "outputs": [],
   "source": [
    "from utils import load_custom_houses\n",
    "square_meters, price = load_custom_houses()"
   ]
  },
  {
   "cell_type": "markdown",
   "id": "2771d5a6",
   "metadata": {},
   "source": [
    "Podemos nosotros entrenar una regresión linear:"
   ]
  },
  {
   "cell_type": "code",
   "execution_count": null,
   "id": "5a3af0bb",
   "metadata": {},
   "outputs": [],
   "source": [
    "lr = LinearRegression()\n",
    "lr.fit(square_meters, price)"
   ]
  },
  {
   "cell_type": "markdown",
   "id": "6a8151be",
   "metadata": {},
   "source": [
    "Y también podemos revisar sus coeficientes:"
   ]
  },
  {
   "cell_type": "code",
   "execution_count": null,
   "id": "1feea71b",
   "metadata": {},
   "outputs": [],
   "source": [
    "lr.coef_"
   ]
  },
  {
   "cell_type": "markdown",
   "id": "fc017081",
   "metadata": {},
   "source": [
    "Y el intercept:"
   ]
  },
  {
   "cell_type": "code",
   "execution_count": null,
   "id": "72c9558a",
   "metadata": {},
   "outputs": [],
   "source": [
    "lr.intercept_"
   ]
  },
  {
   "cell_type": "markdown",
   "id": "0ff84364",
   "metadata": {},
   "source": [
    "Gracias a esto tenemos que por cada metro que tenga nuestra casa, el precio aumentará por 373.95.\n",
    "\n",
    "Y puedes inclusive calcular el precio total multiplicando:\n",
    "\n"
   ]
  },
  {
   "cell_type": "code",
   "execution_count": null,
   "id": "27592067",
   "metadata": {},
   "outputs": [],
   "source": [
    "y = square_meters[0] * lr.coef_[0] + lr.intercept_"
   ]
  },
  {
   "cell_type": "markdown",
   "id": "22686dcc",
   "metadata": {},
   "source": [
    "\n",
    "\n"
   ]
  },
  {
   "cell_type": "code",
   "execution_count": null,
   "id": "31f384f6",
   "metadata": {},
   "outputs": [],
   "source": [
    "lr.predict(square_meters[:1])"
   ]
  },
  {
   "cell_type": "markdown",
   "id": "04301313",
   "metadata": {},
   "source": [
    "Y pues ahí lo tienen, esta es la regresión lineal, y aunque no lo crean es tal vez el modelo más usado en la industria. Obviamente, con muchas más variables y un montón de feature engineering.\n",
    "\n",
    "Espero te hayan quedado claras las cosas que acá vimos. Recuerda que el notebook y las diapositivas están en los recursos de la lección."
   ]
  }
 ],
 "metadata": {
  "kernelspec": {
   "display_name": "Python 3 (ipykernel)",
   "language": "python",
   "name": "python3"
  },
  "language_info": {
   "codemirror_mode": {
    "name": "ipython",
    "version": 3
   },
   "file_extension": ".py",
   "mimetype": "text/x-python",
   "name": "python",
   "nbconvert_exporter": "python",
   "pygments_lexer": "ipython3",
   "version": "3.8.11"
  },
  "notion_metadata": {
   "archived": false,
   "cover": null,
   "created_by": {
    "id": "84951847-6e2b-487e-acba-6838f60f1102",
    "object": "user"
   },
   "created_time": "2023-03-14T20:27:00.000Z",
   "icon": null,
   "id": "3485c202-4e85-4778-9139-a40a99cfb90e",
   "last_edited_by": {
    "id": "84951847-6e2b-487e-acba-6838f60f1102",
    "object": "user"
   },
   "last_edited_time": "2023-04-21T17:07:00.000Z",
   "object": "page",
   "parent": {
    "database_id": "97ecfa4e-50d1-4827-8791-2199c709d680",
    "type": "database_id"
   },
   "properties": {
    "Assign": {
     "id": "%5DtZZ",
     "people": [],
     "type": "people"
    },
    "Code name": {
     "id": "PT%5CP",
     "rich_text": [],
     "type": "rich_text"
    },
    "Name": {
     "id": "title",
     "title": [
      {
       "annotations": {
        "bold": false,
        "code": false,
        "color": "default",
        "italic": false,
        "strikethrough": false,
        "underline": false
       },
       "href": null,
       "plain_text": "4.1.1 Regresión lineal",
       "text": {
        "content": "4.1.1 Regresión lineal",
        "link": null
       },
       "type": "text"
      }
     ],
     "type": "title"
    },
    "Order": {
     "id": "k_Cb",
     "number": 5.11,
     "type": "number"
    },
    "Real order": {
     "id": "%7Dn_k",
     "rich_text": [
      {
       "annotations": {
        "bold": false,
        "code": false,
        "color": "default",
        "italic": false,
        "strikethrough": false,
        "underline": false
       },
       "href": null,
       "plain_text": "20 - RegresionLineal",
       "text": {
        "content": "20 - RegresionLineal",
        "link": null
       },
       "type": "text"
      }
     ],
     "type": "rich_text"
    },
    "Status": {
     "id": "s%7D%5Ea",
     "status": {
      "color": "green",
      "id": "b6060d48-45e7-42e9-a8a0-8bd803231f7f",
      "name": "Done"
     },
     "type": "status"
    }
   },
   "url": "https://www.notion.so/4-1-1-Regresi-n-lineal-3485c2024e8547789139a40a99cfb90e"
  }
 },
 "nbformat": 4,
 "nbformat_minor": 5
}
