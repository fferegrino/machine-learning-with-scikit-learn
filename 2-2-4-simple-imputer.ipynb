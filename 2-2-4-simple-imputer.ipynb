{
 "cells": [
  {
   "cell_type": "markdown",
   "id": "f19e8ebd",
   "metadata": {},
   "source": [
    "# Imputación de características\n",
    "\n",
    "En <i>machine learning</i> es común el encontrarte con que el dataset que estás utilizando tiene información faltante en algunas de sus columnas. La información faltante en el mundo de Python científico está a veces codificada como <code>NaN</code>s o valores nulos.\n",
    "\n",
    "El hecho de que falte información se puede dar gracias a varios factores: hubo un error en la recolección de datos, los datos se corrompieron en alguna parte o simplemente nunca se recolectaron.\n",
    "\n",
    "Bajo ciertas condiciones es mejor calcular valores para que esos valores faltantes no afecten el desempeño de tu modelo causando predicciones sesgadas o incorrectas. Y de hecho, muchos de los algoritmos que ofrece scikit-learn requieren de que tu dataset no contenga valores nulos.\n",
    "\n",
    "Para esta tarea, scikit-learn nos ofrece una clase llamada <code>SimpleImputer</code> que nos ayuda con la tarea de rellenar los valores faltantes a través de diferentes estrategias.\n",
    "\n",
    "Vamos a crear un dataset con algunos datos faltantes:"
   ]
  },
  {
   "cell_type": "code",
   "execution_count": null,
   "id": "7cce4dc5",
   "metadata": {},
   "outputs": [],
   "source": [
    "import pandas as pd\n",
    "\n",
    "data =pd.DataFrame([\n",
    "    ('red', 1, 1.0, -1), ('blue', 2, None, -3), (None, 3, 3.0, -5),\n",
    "    ('red', 4, 4.0, -2), ('red', None, 5.0, -5), ('blue', 6, 6.0, -1),\n",
    "    ('red', 7, None), ('blue', 8, 8.0, None), ('green', 9, 9.0, None),\n",
    "    ('red', 10, 10.0, None),\n",
    "], columns=['color', 'number', 'value', 'other'])\n",
    "\n",
    "data"
   ]
  },
  {
   "cell_type": "markdown",
   "id": "afc21ced",
   "metadata": {},
   "source": [
    "Para utilizarlo, primero hay que importarlo de <code>sklearn.impute</code>"
   ]
  },
  {
   "cell_type": "code",
   "execution_count": null,
   "id": "5a726e4c",
   "metadata": {},
   "outputs": [],
   "source": [
    "from sklearn.impute import SimpleImputer"
   ]
  },
  {
   "cell_type": "markdown",
   "id": "c91d3adf",
   "metadata": {},
   "source": [
    "Primero vamos a trabajar con valores numéricos, y con los argumentos por default de la clase, que utilizará el promedio:"
   ]
  },
  {
   "cell_type": "code",
   "execution_count": null,
   "id": "d8e88e3a",
   "metadata": {},
   "outputs": [],
   "source": [
    "\n",
    "imputer = SimpleImputer()\n",
    "imputer.fit(data[['value']])\n",
    "data['value'] = imputer.transform(data[['value']])\n",
    "data"
   ]
  },
  {
   "cell_type": "markdown",
   "id": "d0431fd3",
   "metadata": {},
   "source": [
    "Digamos que para otra columna, lo que quieres es utilizar la media, en lugar de el promedio:"
   ]
  },
  {
   "cell_type": "code",
   "execution_count": null,
   "id": "ac479fa6",
   "metadata": {},
   "outputs": [],
   "source": [
    "imputer = SimpleImputer(strategy='median')\n",
    "imputer.fit(data[['number']])\n",
    "data['number'] = imputer.transform(data[['number']])\n",
    "data"
   ]
  },
  {
   "cell_type": "markdown",
   "id": "fc73a01c",
   "metadata": {},
   "source": [
    "También es posible rellenar valores a partir del elemento más frecuente, por ejemplo, para el valor faltante en la columna <code>color</code> podemos elegir esta opción puesto que las dos anteriores solamente funcionan con datos numéricos:"
   ]
  },
  {
   "cell_type": "code",
   "execution_count": null,
   "id": "35efa2ac",
   "metadata": {},
   "outputs": [],
   "source": [
    "imputer = SimpleImputer(missing_values=pd.NA, strategy='most_frequent')\n",
    "imputer.fit(data[['color']])\n",
    "data['color'] = imputer.transform(data[['color']]).squeeze()\n",
    "data"
   ]
  },
  {
   "cell_type": "markdown",
   "id": "074ec7f0",
   "metadata": {},
   "source": [
    "La cuarta y última estrategia es la de establecer un valor constante. Útil cuando tu has calculado este valor de antemano, para esto es ideal utilizar dos argumentos <code>strategy='constant'</code> y <code>fill_value</code> con el valor que quieres poner:"
   ]
  },
  {
   "cell_type": "code",
   "execution_count": null,
   "id": "4106dd63",
   "metadata": {},
   "outputs": [],
   "source": [
    "imputer = SimpleImputer(strategy='constant', fill_value=10)\n",
    "imputer.fit(data[['other']])\n",
    "data['other'] = imputer.transform(data[['other']])\n",
    "data"
   ]
  },
  {
   "cell_type": "markdown",
   "id": "2799b3f2",
   "metadata": {},
   "source": [
    "Y así es como podemos tener un dataset sin valores faltantes, listo para ser procesado y usado para entrenar un modelo de machine learning utilizando scikit-learn."
   ]
  }
 ],
 "metadata": {
  "kernelspec": {
   "display_name": "Python 3 (ipykernel)",
   "language": "python",
   "name": "python3"
  },
  "language_info": {
   "codemirror_mode": {
    "name": "ipython",
    "version": 3
   },
   "file_extension": ".py",
   "mimetype": "text/x-python",
   "name": "python",
   "nbconvert_exporter": "python",
   "pygments_lexer": "ipython3",
   "version": "3.8.11"
  },
  "notion_metadata": {
   "archived": false,
   "cover": null,
   "created_by": {
    "id": "84951847-6e2b-487e-acba-6838f60f1102",
    "object": "user"
   },
   "created_time": "2023-03-14T20:24:00.000Z",
   "icon": null,
   "id": "232c0d13-c3ab-4335-81aa-86b36896e450",
   "last_edited_by": {
    "id": "84951847-6e2b-487e-acba-6838f60f1102",
    "object": "user"
   },
   "last_edited_time": "2023-04-21T17:05:00.000Z",
   "object": "page",
   "parent": {
    "database_id": "97ecfa4e-50d1-4827-8791-2199c709d680",
    "type": "database_id"
   },
   "properties": {
    "Assign": {
     "id": "%5DtZZ",
     "people": [],
     "type": "people"
    },
    "Code name": {
     "id": "PT%5CP",
     "rich_text": [],
     "type": "rich_text"
    },
    "Name": {
     "id": "title",
     "title": [
      {
       "annotations": {
        "bold": false,
        "code": false,
        "color": "default",
        "italic": false,
        "strikethrough": false,
        "underline": false
       },
       "href": null,
       "plain_text": "2.2.4 Simple imputer",
       "text": {
        "content": "2.2.4 Simple imputer",
        "link": null
       },
       "type": "text"
      }
     ],
     "type": "title"
    },
    "Order": {
     "id": "k_Cb",
     "number": 3.31,
     "type": "number"
    },
    "Real order": {
     "id": "%7Dn_k",
     "rich_text": [
      {
       "annotations": {
        "bold": false,
        "code": false,
        "color": "default",
        "italic": false,
        "strikethrough": false,
        "underline": false
       },
       "href": null,
       "plain_text": "12",
       "text": {
        "content": "12",
        "link": null
       },
       "type": "text"
      }
     ],
     "type": "rich_text"
    },
    "Status": {
     "id": "s%7D%5Ea",
     "status": {
      "color": "green",
      "id": "b6060d48-45e7-42e9-a8a0-8bd803231f7f",
      "name": "Done"
     },
     "type": "status"
    }
   },
   "url": "https://www.notion.so/2-2-4-Simple-imputer-232c0d13c3ab433581aa86b36896e450"
  }
 },
 "nbformat": 4,
 "nbformat_minor": 5
}
