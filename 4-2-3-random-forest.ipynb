{
 "cells": [
  {
   "cell_type": "markdown",
   "id": "5020661f",
   "metadata": {},
   "source": [
    "# Random Forest Classifier\n",
    "\n",
    "Cuando de clasificación se trata, otro de los algoritmos populares es <i>random forest classifier</i>, este algoritmo está formado de varios árboles de decisión que a su vez votan para elegir la clasificación de determinado elemento.\n",
    "\n",
    "Los bosques aleatorios están implementados en la clase <code>RandomForestClassifier</code> del módulo <code>sklearn.ensemble</code>, y la forma de usarlo no es diferente de otros modelos en Scikit-learn:"
   ]
  },
  {
   "cell_type": "code",
   "execution_count": null,
   "id": "5fc5e74e",
   "metadata": {},
   "outputs": [],
   "source": [
    "from sklearn.datasets import make_classification\n",
    "from sklearn.model_selection import train_test_split\n",
    "\n",
    "X, y = make_classification(n_samples=500, n_features=15, n_classes=2, random_state=0)\n",
    "\n",
    "X_train, X_test, y_train, y_test = train_test_split(X, y, random_state=0)"
   ]
  },
  {
   "cell_type": "code",
   "execution_count": null,
   "id": "c2c01e32",
   "metadata": {},
   "outputs": [],
   "source": [
    "from sklearn.ensemble import RandomForestClassifier\n",
    "\n",
    "rfc = RandomForestClassifier()"
   ]
  },
  {
   "cell_type": "code",
   "execution_count": null,
   "id": "7aa33364",
   "metadata": {},
   "outputs": [],
   "source": [
    "rfc.fit(X_train, y_train)"
   ]
  },
  {
   "cell_type": "code",
   "execution_count": null,
   "id": "6515f492",
   "metadata": {},
   "outputs": [],
   "source": [
    "print(rfc.predict(X_test))\n",
    "rfc.score(X_test, y_test)"
   ]
  },
  {
   "cell_type": "markdown",
   "id": "344cb326",
   "metadata": {},
   "source": [
    "## Argumentos\n",
    "\n",
    "Lo interesante son los argumentos de la clase:\n",
    "\n",
    " - <code>n_estimators</code>: el número de árboles en el bosque. Un valor mayor puede mejorar la precisión del modelo, pero aumenta el tiempo de entrenamiento y el uso de memoria.\n",
    "\n",
    " - <code>max_depth</code>: la profundidad máxima de cada árbol en el bosque. Un valor mayor puede aumentar la capacidad del modelo para ajustarse a los datos de entrenamiento, pero también puede causar sobreajuste.\n",
    "\n",
    " - <code>min_samples_split</code>: el número mínimo de muestras requeridas para dividir un nodo interno. Un valor menor puede permitir que el modelo capture relaciones más complejas entre las variables, pero también puede aumentar el riesgo de sobreajuste.\n",
    "\n",
    " - <code>min_samples_leaf</code>: el número mínimo de muestras requeridas en cada hoja del árbol. Un valor mayor puede evitar que el modelo se ajuste demasiado a los datos de entrenamiento, pero también puede reducir la capacidad del modelo para capturar relaciones complejas entre las variables.\n",
    "\n",
    " - <code>max_features</code>: el número máximo de variables que se consideran al dividir un nodo. Un valor menor puede reducir el sobreajuste, pero también puede reducir la capacidad del modelo para capturar relaciones complejas entre las variables."
   ]
  },
  {
   "cell_type": "markdown",
   "id": "72a6ed3c",
   "metadata": {},
   "source": [
    "## Comportamiento de algunos argumentos"
   ]
  },
  {
   "cell_type": "code",
   "execution_count": null,
   "id": "bb33af63",
   "metadata": {},
   "outputs": [],
   "source": [
    "from sklearn.datasets import make_moons\n",
    "from sklearn.model_selection import train_test_split\n",
    "\n",
    "X, y = make_moons(n_samples=100, random_state=42, noise=0.10)"
   ]
  },
  {
   "cell_type": "markdown",
   "id": "4f647456",
   "metadata": {},
   "source": [
    "### <code>n_estimators</code> - número de árboles"
   ]
  },
  {
   "cell_type": "code",
   "execution_count": null,
   "id": "6bb59a6d",
   "metadata": {},
   "outputs": [],
   "source": [
    "from utils import plot_boundaries\n",
    "\n",
    "plot_boundaries(\n",
    "    X, y, \n",
    "    [\n",
    "        ('n_estimators = 1', RandomForestClassifier(n_estimators=1)),\n",
    "        ('n_estimators = 10', RandomForestClassifier(n_estimators=10)),\n",
    "        ('n_estimators = 100', RandomForestClassifier(n_estimators=100)),\n",
    "        ('n_estimators = 1000', RandomForestClassifier(n_estimators=1000)),\n",
    "    ])"
   ]
  },
  {
   "cell_type": "markdown",
   "id": "0c192d11",
   "metadata": {},
   "source": [
    "### <code>max_depth</code> - profundidad máxima"
   ]
  },
  {
   "cell_type": "code",
   "execution_count": null,
   "id": "f8d97ea8",
   "metadata": {},
   "outputs": [],
   "source": [
    "plot_boundaries(\n",
    "    X, y, \n",
    "    [\n",
    "        ('max_depth = None', RandomForestClassifier(max_depth=None)),\n",
    "        ('max_depth = 1', RandomForestClassifier(max_depth=1)),\n",
    "        ('max_depth = 10', RandomForestClassifier(max_depth=10)),\n",
    "        ('max_depth = 100', RandomForestClassifier(max_depth=100)),\n",
    "        ('max_depth = 1000', RandomForestClassifier(max_depth=1000)),\n",
    "        ('max_depth = 10000', RandomForestClassifier(max_depth=10000)),\n",
    "    ])"
   ]
  },
  {
   "cell_type": "markdown",
   "id": "52516d76",
   "metadata": {},
   "source": [
    "### <code>min_samples_split</code>"
   ]
  },
  {
   "cell_type": "code",
   "execution_count": null,
   "id": "50aca9c8",
   "metadata": {},
   "outputs": [],
   "source": [
    "plot_boundaries(\n",
    "    X, y, \n",
    "    [\n",
    "        ('min_samples_split = 2', RandomForestClassifier(min_samples_split=2)),\n",
    "        ('min_samples_split = 10', RandomForestClassifier(min_samples_split=10)),\n",
    "        ('min_samples_split = 20', RandomForestClassifier(min_samples_split=20)),\n",
    "        ('min_samples_split = 30', RandomForestClassifier(min_samples_split=30)),\n",
    "        ('min_samples_split = 40', RandomForestClassifier(min_samples_split=40)),\n",
    "        ('min_samples_split = 50', RandomForestClassifier(min_samples_split=50)),\n",
    "    ])"
   ]
  },
  {
   "cell_type": "markdown",
   "id": "2ca96da6",
   "metadata": {},
   "source": [
    "## Número de estimadores\n",
    "\n",
    "Un bosque aleatorio no es más que un conjunto de árboles de decisión, cada uno con pequeñas variaciones. Cuando es momento de clasificar una nueva instancia, cada uno de estos árboles emite su voto y al final gana la clase con más votos."
   ]
  },
  {
   "cell_type": "code",
   "execution_count": null,
   "id": "3e8b4e99",
   "metadata": {},
   "outputs": [],
   "source": [
    "from sklearn.datasets import load_iris\n",
    "\n",
    "iris = load_iris()"
   ]
  },
  {
   "cell_type": "code",
   "execution_count": null,
   "id": "bc26740d",
   "metadata": {},
   "outputs": [],
   "source": [
    "# Crear un RandomForestClassifier con un solo estimador\n",
    "rfc = RandomForestClassifier(n_estimators=100, random_state=42)\n",
    "rfc.fit(iris.data, iris.target)"
   ]
  },
  {
   "cell_type": "markdown",
   "id": "55d7c6ef",
   "metadata": {},
   "source": [
    "Como especificamos que tuviera 100 estimadores esa cantidad es justamente la que tiene en la propiedad <code>estimators_</code>:"
   ]
  },
  {
   "cell_type": "code",
   "execution_count": null,
   "id": "4c0719db",
   "metadata": {},
   "outputs": [],
   "source": [
    "print(len(rfc.estimators_))"
   ]
  },
  {
   "cell_type": "markdown",
   "id": "1007574c",
   "metadata": {},
   "source": [
    "Y lo que es mejor, podemos visualizar cara árbol individualmente utilizando la función <code>plot_tree</code>:"
   ]
  },
  {
   "cell_type": "code",
   "execution_count": null,
   "id": "cd4aa458",
   "metadata": {},
   "outputs": [],
   "source": [
    "from sklearn.tree import plot_tree\n",
    "import matplotlib.pyplot as plt\n",
    "\n",
    "\n",
    "plt.figure(figsize=(10, 10))\n",
    "plot_tree(rfc.estimators_[0], feature_names=iris.feature_names, class_names=iris.target_names, filled=True)\n",
    "plt.show()"
   ]
  },
  {
   "cell_type": "markdown",
   "id": "6bb0dc86",
   "metadata": {},
   "source": [
    "El examinar los árboles uno por uno en realidad no es algo realista, pero aún así es interesante y nos da una perspectiva de lo que está sucediendo dentro del clasificador."
   ]
  },
  {
   "cell_type": "markdown",
   "id": "977ca167",
   "metadata": {},
   "source": [
    "### Importancia de las características\n",
    "\n",
    "Otra de las cosas interesantes que se puede hacer tiene que ver con otro atributo: <code>feature_importances_</code>. "
   ]
  },
  {
   "cell_type": "code",
   "execution_count": null,
   "id": "f7fa379c",
   "metadata": {},
   "outputs": [],
   "source": [
    "rfc.feature_importances_"
   ]
  },
  {
   "cell_type": "markdown",
   "id": "9d854391",
   "metadata": {},
   "source": [
    "Este es un arreglo en donde cada una de las entradas corresponde con las features utilizadas para entrenar el modelo.\n",
    "\n",
    "El arreglo por si mismo no dice mucho, pero podemos graficarlas utilizando una gráfica de barras:"
   ]
  },
  {
   "cell_type": "code",
   "execution_count": null,
   "id": "ff668341",
   "metadata": {},
   "outputs": [],
   "source": [
    "fig, ax = plt.subplots(figsize=(10, 6))\n",
    "ax.bar(iris.feature_names, rfc.feature_importances_)\n",
    "ax.set_title(\"Feature Importances\")\n",
    "plt.show()"
   ]
  },
  {
   "cell_type": "markdown",
   "id": "964473b8",
   "metadata": {},
   "source": [
    "Este arreglo y la gráfica subsecuente nos permite visualizar cuánto contribuye cada variable al modelo para hacer sus predicciones. Esto nos puede ayudar a seleccionar las características más importantes si lo que queremos es reducir la dimensionalidad de nuestro dataset.\n",
    "\n",
    "Y también nos puede dar herramientas para poder interpretar cómo es que el modelo está realizando predicciones y tratar de entender su comportamiento.\n",
    "\n",
    "Y pues ahí lo tienen, vimos algunas de las propiedades y argumentos de los bosques aleatorios.\n",
    "\n"
   ]
  }
 ],
 "metadata": {
  "kernelspec": {
   "display_name": "Python 3 (ipykernel)",
   "language": "python",
   "name": "python3"
  },
  "language_info": {
   "codemirror_mode": {
    "name": "ipython",
    "version": 3
   },
   "file_extension": ".py",
   "mimetype": "text/x-python",
   "name": "python",
   "nbconvert_exporter": "python",
   "pygments_lexer": "ipython3",
   "version": "3.8.11"
  },
  "notion_metadata": {
   "archived": false,
   "cover": null,
   "created_by": {
    "id": "84951847-6e2b-487e-acba-6838f60f1102",
    "object": "user"
   },
   "created_time": "2023-03-14T20:31:00.000Z",
   "icon": null,
   "id": "4e314cf8-185e-429a-b223-5be9ae411e6d",
   "last_edited_by": {
    "id": "84951847-6e2b-487e-acba-6838f60f1102",
    "object": "user"
   },
   "last_edited_time": "2023-04-23T09:31:00.000Z",
   "object": "page",
   "parent": {
    "database_id": "97ecfa4e-50d1-4827-8791-2199c709d680",
    "type": "database_id"
   },
   "properties": {
    "Assign": {
     "id": "%5DtZZ",
     "people": [],
     "type": "people"
    },
    "Code name": {
     "id": "PT%5CP",
     "rich_text": [
      {
       "annotations": {
        "bold": false,
        "code": false,
        "color": "default",
        "italic": false,
        "strikethrough": false,
        "underline": false
       },
       "href": null,
       "plain_text": "RandomForest",
       "text": {
        "content": "RandomForest",
        "link": null
       },
       "type": "text"
      }
     ],
     "type": "rich_text"
    },
    "Name": {
     "id": "title",
     "title": [
      {
       "annotations": {
        "bold": false,
        "code": false,
        "color": "default",
        "italic": false,
        "strikethrough": false,
        "underline": false
       },
       "href": null,
       "plain_text": "4.2.3 Random Forest",
       "text": {
        "content": "4.2.3 Random Forest",
        "link": null
       },
       "type": "text"
      }
     ],
     "type": "title"
    },
    "Order": {
     "id": "k_Cb",
     "number": 5.23,
     "type": "number"
    },
    "Real order": {
     "id": "%7Dn_k",
     "rich_text": [
      {
       "annotations": {
        "bold": false,
        "code": false,
        "color": "default",
        "italic": false,
        "strikethrough": false,
        "underline": false
       },
       "href": null,
       "plain_text": "24",
       "text": {
        "content": "24",
        "link": null
       },
       "type": "text"
      }
     ],
     "type": "rich_text"
    },
    "Status": {
     "id": "s%7D%5Ea",
     "status": {
      "color": "green",
      "id": "b6060d48-45e7-42e9-a8a0-8bd803231f7f",
      "name": "Done"
     },
     "type": "status"
    }
   },
   "url": "https://www.notion.so/4-2-3-Random-Forest-4e314cf8185e429ab2235be9ae411e6d"
  }
 },
 "nbformat": 4,
 "nbformat_minor": 5
}
