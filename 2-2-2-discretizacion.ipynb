{
 "cells": [
  {
   "cell_type": "markdown",
   "id": "15ec2bc0",
   "metadata": {},
   "source": [
    "# Descretización\n",
    "\n",
    "Por más extraño que esto te suene, hay ocasiones en las que querrás pasar de una variable con un valor continuo numérico a una variable categórica.\n",
    "\n",
    "Entre las razones por las que querrías hacer algo así están:\n",
    "\n",
    " - Para intentar mejorar las capacidades de generalización del modelo\n",
    "\n",
    " - Reducir la complejidad de los datos\n",
    "\n",
    " - Reducir el impacto de valores extremos (outliers)\n",
    "\n",
    " - Por privacidad, anonimizar un poco más nuestros datos (aunque no es una técnica eficaz por si sola)"
   ]
  },
  {
   "cell_type": "markdown",
   "id": "52224e88",
   "metadata": {},
   "source": [
    "## Bining\n",
    "\n",
    "Una forma de hacerlo es a través de una técnica conocida como <i>binning</i> que nos ayuda a dividir una variable numérica continua en un número fijo de intervalos (o cubetas, que de ahí viene el nombre <i>binning</i>) de tamaño más o menos igual.\n",
    "\n",
    "Vamos a ver este proceso con una variable que represente las edades de algunas personas:"
   ]
  },
  {
   "cell_type": "code",
   "execution_count": null,
   "id": "3e8ae92f",
   "metadata": {},
   "outputs": [],
   "source": [
    "import pandas as pd\n",
    "\n",
    "dataset = pd.DataFrame({\n",
    "    'age': [20, 25, 30, 35, 40, 45, 50, 55, 60, 65],\n",
    "    'savings': [1100, 3000, 5000, 20, 5312, 0, 502, 20, 0, 22000]\n",
    "})\n",
    "\n",
    "dataset"
   ]
  },
  {
   "cell_type": "markdown",
   "id": "aa08f7c8",
   "metadata": {},
   "source": [
    "En scikit-learn podemos llevar a cabo este proceso a través de la clase <code>KBinsDiscretizer</code>.\n",
    "\n",
    "Comenzamos por importarla de <code>sklearn.preprocessing</code>:"
   ]
  },
  {
   "cell_type": "code",
   "execution_count": null,
   "id": "91875454",
   "metadata": {},
   "outputs": [],
   "source": [
    "from sklearn.preprocessing import KBinsDiscretizer"
   ]
  },
  {
   "cell_type": "markdown",
   "id": "9aa36775",
   "metadata": {},
   "source": [
    "Entre los parámetros más importantes, <code>KBinsDiscretizer</code> nos permite establecer el número de cubetas que queremos crear, por default el valor es 5. En este caso vamos a crear tres a través del argumento <code>n_bins</code>.\n",
    "\n",
    "También otra cosa muy importante, como vimos en una sección pasada del curso, es que los valores categóricos, como nuestras cubetas, deben ser convertidos a valores numéricos para ser procesados por un algoritmo. Para especificar qué tipo de codificación queremos, podemos utilizar el argumento <code>encode</code>, en este caso vamos a elegir <code>ordinal</code>, pero también puedes utilizar <code>onehot</code> y <code>onehot-dense</code>:"
   ]
  },
  {
   "cell_type": "code",
   "execution_count": null,
   "id": "5ee3f10b",
   "metadata": {},
   "outputs": [],
   "source": [
    "discretizer = KBinsDiscretizer(n_bins=3, encode='ordinal')\n",
    "discretizer.fit(dataset[['age']])"
   ]
  },
  {
   "cell_type": "code",
   "execution_count": null,
   "id": "63efe5d2",
   "metadata": {},
   "outputs": [],
   "source": [
    "discretizer.transform(dataset[['age']])"
   ]
  },
  {
   "cell_type": "markdown",
   "id": "618b8d6d",
   "metadata": {},
   "source": [
    "### Otros argumentos a la función\n",
    "\n",
    "La clase <code>KBinsDiscretizer</code> también nos permite especificar la estrategia que debe seguir para definir la anchura del intervalo cubierto por cada una de nuestras cubetas.\n",
    "\n",
    "Podemos utilizar el argumento <code>strategy</code> igual a <code>uniform</code> si queremos que los intervalos sean del mismo tamaño. Podemos establecer este valor igual a <code>quantile</code> si queremos que cada cubeta contenga la misma cantidad de elementos y por último podemos utilizar <code>kmeans</code> si queremos que los elementos se acomoden por si solos de acuerdo a un algoritmo similar a <i>k-means</i>."
   ]
  },
  {
   "cell_type": "markdown",
   "id": "e43c995d",
   "metadata": {},
   "source": [
    "### Otros casos para la discretización\n",
    "\n",
    "La discretización se puede aplicar en edades, datos sobre el consumo de energía, niveles de satisfación, precios de hogares... etcétera."
   ]
  },
  {
   "cell_type": "markdown",
   "id": "8b3c3795",
   "metadata": {},
   "source": [
    "## <b>Binarización</b>\n",
    "\n",
    "Otra forma de convertir de valores continuos a valores discretos es a través de un proceso llamado binarización. Como el nombre lo indica, esta técnica consiste en convertir un valor continuo en uno de dos valores a partir de cierto umbral o <i>threshold</i>.\n",
    "\n",
    "Scikit-learn nos ofrece la clase <code>Binarizer</code>:"
   ]
  },
  {
   "cell_type": "code",
   "execution_count": null,
   "id": "4519152c",
   "metadata": {},
   "outputs": [],
   "source": [
    "from sklearn.preprocessing import Binarizer"
   ]
  },
  {
   "cell_type": "markdown",
   "id": "a0e9fcc5",
   "metadata": {},
   "source": [
    "Esta clase toma únicamente un solo argumento, el umbral que queremos que tome en cuenta para la binarización, supon que queremos binarizar la columna <code>savings</code> en nuestro dataset, y establecer el umbral en <code>1000</code>:"
   ]
  },
  {
   "cell_type": "code",
   "execution_count": null,
   "id": "671ecd64",
   "metadata": {},
   "outputs": [],
   "source": [
    "binarizer = Binarizer(threshold=1000)"
   ]
  },
  {
   "cell_type": "markdown",
   "id": "4d3372a4",
   "metadata": {},
   "source": [
    "Llamamos al método <code>fit_transform</code> aunque en este caso no tiene mucho sentido llamar a <code>fit</code> porque en realidad no hay nada que aprender:"
   ]
  },
  {
   "cell_type": "code",
   "execution_count": null,
   "id": "305077f7",
   "metadata": {},
   "outputs": [],
   "source": [
    "savings_binarized = binarizer.fit_transform(dataset[['savings']])\n",
    "savings_binarized"
   ]
  },
  {
   "cell_type": "markdown",
   "id": "535b111c",
   "metadata": {},
   "source": [
    "<b>Otros casos para la binarización</b>\n",
    "\n",
    "La binarización nos ayuda a cuando solamente nos interesa saber si algo pasó o no, y no necesariamente cuantas veces sucedió. Por ejemplo: en lugar de contar cuantas veces un usuario visitó una página, solamente queremos saber si la visitó o no. También nos puede resultar util para diferenciar entre valores extremos y aquellos que no lo son, por ejemplo en edades, podríamos decir que alguien que tenga más de 100 años es un caso extremo y marcarlo con un binarizer.\n",
    "\n",
    "Y pues ahí lo tienes. Ya cuentas con algunas herramientas para pasar de un espacio continuo de valores a uno discreto."
   ]
  }
 ],
 "metadata": {
  "kernelspec": {
   "display_name": "Python 3 (ipykernel)",
   "language": "python",
   "name": "python3"
  },
  "language_info": {
   "codemirror_mode": {
    "name": "ipython",
    "version": 3
   },
   "file_extension": ".py",
   "mimetype": "text/x-python",
   "name": "python",
   "nbconvert_exporter": "python",
   "pygments_lexer": "ipython3",
   "version": "3.8.11"
  },
  "notion_metadata": {
   "archived": false,
   "cover": null,
   "created_by": {
    "id": "84951847-6e2b-487e-acba-6838f60f1102",
    "object": "user"
   },
   "created_time": "2023-03-14T20:07:00.000Z",
   "icon": null,
   "id": "1a658574-6476-4293-b710-0a36ce82a785",
   "last_edited_by": {
    "id": "84951847-6e2b-487e-acba-6838f60f1102",
    "object": "user"
   },
   "last_edited_time": "2023-04-21T17:05:00.000Z",
   "object": "page",
   "parent": {
    "database_id": "97ecfa4e-50d1-4827-8791-2199c709d680",
    "type": "database_id"
   },
   "properties": {
    "Assign": {
     "id": "%5DtZZ",
     "people": [],
     "type": "people"
    },
    "Code name": {
     "id": "PT%5CP",
     "rich_text": [],
     "type": "rich_text"
    },
    "Name": {
     "id": "title",
     "title": [
      {
       "annotations": {
        "bold": false,
        "code": false,
        "color": "default",
        "italic": false,
        "strikethrough": false,
        "underline": false
       },
       "href": null,
       "plain_text": "2.2.2 Discretización",
       "text": {
        "content": "2.2.2 Discretización",
        "link": null
       },
       "type": "text"
      }
     ],
     "type": "title"
    },
    "Order": {
     "id": "k_Cb",
     "number": 3.23,
     "type": "number"
    },
    "Real order": {
     "id": "%7Dn_k",
     "rich_text": [
      {
       "annotations": {
        "bold": false,
        "code": false,
        "color": "default",
        "italic": false,
        "strikethrough": false,
        "underline": false
       },
       "href": null,
       "plain_text": "10",
       "text": {
        "content": "10",
        "link": null
       },
       "type": "text"
      }
     ],
     "type": "rich_text"
    },
    "Status": {
     "id": "s%7D%5Ea",
     "status": {
      "color": "green",
      "id": "b6060d48-45e7-42e9-a8a0-8bd803231f7f",
      "name": "Done"
     },
     "type": "status"
    }
   },
   "url": "https://www.notion.so/2-2-2-Discretizaci-n-1a65857464764293b7100a36ce82a785"
  }
 },
 "nbformat": 4,
 "nbformat_minor": 5
}
