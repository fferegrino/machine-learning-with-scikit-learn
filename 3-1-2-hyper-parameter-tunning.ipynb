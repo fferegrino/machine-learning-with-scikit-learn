{
 "cells": [
  {
   "cell_type": "markdown",
   "id": "c36887c2",
   "metadata": {},
   "source": [
    "# Búsqueda de hiperparámetros\n",
    "\n",
    "Sabes que para entrenar un modelo de machine learning es necesario establecer algunos valores y configuraciones para modificar el comportamiento del entrenamiento, estos son conocidos como hiperparámetros. Por poner un ejemplo de estos hiperparámetros, toma la clase <code>RandomForestRegressor</code> (más adelante veremos los algoritmos de machine learning que sklear nos ofrece, por el momento no te preocupes):"
   ]
  },
  {
   "cell_type": "code",
   "execution_count": null,
   "id": "29d1de95",
   "metadata": {},
   "outputs": [],
   "source": [
    "from sklearn.ensemble import RandomForestRegressor\n",
    "\n",
    "models = RandomForestRegressor(\n",
    "    n_estimators = 10,\n",
    "    criterion = \"gini\",\n",
    "    max_depth = 10,\n",
    "    max_leaf_nodes = 100\n",
    ")"
   ]
  },
  {
   "cell_type": "markdown",
   "id": "bdfecf23",
   "metadata": {},
   "source": [
    "En donde los hiperarámetros son: el número de árboles, el criterio de división, la profundidad máxima y la cantidad mínima de muestras por hoja.\n",
    "\n",
    "Estos valores tienen un impacto significativo en el desempeño del modelo, y pueden ser la diferencia entre un mal modelo y uno que funciona a la perfección.\n",
    "\n",
    "A pesar de que los hiperparámetros por default que las clases de scikit-learn tienen son valores razonables, no son necesariamente óptimos para todos los conjuntos de datos o para todos los problemas de aprendizaje automático. Por lo tanto, es importante hacer una búsqueda de hiperparámetros para encontrar los valores óptimos que maximicen el desempeño del modelo en todos nuestros conjuntos de datos.\n",
    "\n",
    "Realizar esta búsqueda lleva tiempo y esfuerzo, pero es una inversión que vale la pena hacer por la mejora que representan en nuestro modelo estos parámetros.\n",
    "\n",
    "Scikit-learn nos ofrece varias opciones para cuando se trata de hacer la búsqueda de estos hiperparámetros de forma sistemática en lugar de manual.\n",
    "\n",
    "Las técnicas son: <i>grid search</i> o búsqueda en cuadrícula y búsqueda aleatoria o <i>random search</i> en inglés. Cada una tiene sus ventajas y desventajas, en esta lección yo te hablaré de la búsqueda aleatoria:\n",
    "\n",
    "Solo una pequeña nota, en scikit-learn las búsquedas de hiperparámetros están siempre conectadas con al validación cruzada, para garantizar que los valores elegidos sean una elección correcta para el conjunto de datos."
   ]
  },
  {
   "cell_type": "markdown",
   "id": "30da6f91",
   "metadata": {},
   "source": [
    "## Random search\n",
    "\n",
    "Ahora si, vamos a ver un ejemplo en un problema de regresión.\n",
    "\n",
    "Primero, carguemos el dataset y dividámoslo en los conjuntos de entrenamiento y prueba:"
   ]
  },
  {
   "cell_type": "code",
   "execution_count": null,
   "id": "5de22911",
   "metadata": {},
   "outputs": [],
   "source": [
    "from sklearn.datasets import fetch_california_housing\n",
    "from sklearn.model_selection import train_test_split\n",
    "\n",
    "housing_dataset = fetch_california_housing()\n",
    "\n",
    "X_train, X_test, y_train, y_test = train_test_split(\n",
    "\thousing_dataset.data,\n",
    "\thousing_dataset.target,\n",
    "\trandom_state=42\n",
    ")"
   ]
  },
  {
   "cell_type": "markdown",
   "id": "a53fa0e9",
   "metadata": {},
   "source": [
    "Luego vamos a crear un modelo de regresión:"
   ]
  },
  {
   "cell_type": "code",
   "execution_count": null,
   "id": "dcc40d3c",
   "metadata": {},
   "outputs": [],
   "source": [
    "from sklearn.ensemble import RandomForestRegressor\n",
    "\n",
    "model = RandomForestRegressor()"
   ]
  },
  {
   "cell_type": "markdown",
   "id": "eefa3252",
   "metadata": {},
   "source": [
    "Debemos definir el espacio de parámetros en el que vamos a buscar - este espacio de búsqueda será utilizado por Random Search para generar combinaciones de hiperparámetros de forma aleatoria, estas combinaciones serán utilizadas para crear nuevas instancias de nuestro RandomForestRegressor y ejecutar validación cruzada sobre ellos, evaluando así qué tan buenos son para encontrar la mejor combinación."
   ]
  },
  {
   "cell_type": "code",
   "execution_count": null,
   "id": "6cb7f63a",
   "metadata": {},
   "outputs": [],
   "source": [
    "param_distributions = {\n",
    "    # 'n_estimators': [100, 1000, 2000],\n",
    "    # 'criterion': [\"squared_error\", \"absolute_error\", \"friedman_mse\"],\n",
    "    # 'max_depth': [None, 10, 100],\n",
    "    'max_features': [\"sqrt\", \"log2\"],\n",
    "    'max_leaf_nodes': [None, 10, 100, 1000]\n",
    "}"
   ]
  },
  {
   "cell_type": "markdown",
   "id": "1f91b54c",
   "metadata": {},
   "source": [
    "Y finalmente, importamos la clase <code>RandomizedSearchCV</code>:"
   ]
  },
  {
   "cell_type": "code",
   "execution_count": null,
   "id": "800ca2b6",
   "metadata": {},
   "outputs": [],
   "source": [
    "from sklearn.model_selection import RandomizedSearchCV"
   ]
  },
  {
   "cell_type": "markdown",
   "id": "a997cc26",
   "metadata": {},
   "source": [
    "Creamos una instancia, pasándole el modelo, el conjunto de parámetros. Después especificamos el número de iteraciones, recuerda que la búsqueda is aleatoria, el número de iteraciones especifica cuántos intentos haremos para encontrar los mejores hiperparámetros. Con <code>cv</code> especificamos el número de subconjuntos para la validación cruzada y por último, fijamos el estado aleatorio en 42 para que el resultado sea reproducible."
   ]
  },
  {
   "cell_type": "code",
   "execution_count": null,
   "id": "26578951",
   "metadata": {},
   "outputs": [],
   "source": [
    "search = RandomizedSearchCV(model, param_distributions, n_iter=50, cv=5, random_state=42)"
   ]
  },
  {
   "cell_type": "markdown",
   "id": "4ac3a1f8",
   "metadata": {},
   "source": [
    "Por último llamamos a <code>fit</code> para comenzar la búsqueda, este recibe los datos de entrenamiento:"
   ]
  },
  {
   "cell_type": "code",
   "execution_count": null,
   "id": "031b2f0d",
   "metadata": {},
   "outputs": [],
   "source": [
    "search.fit(X_train, y_train)"
   ]
  },
  {
   "cell_type": "markdown",
   "id": "409de42c",
   "metadata": {},
   "source": [
    "Este se va a tardar un poco, pero al terminar vamos a poder acceder a los mejores parámetros utilizando el atributo <code>best_params_</code> y podemos evaluar el mejor modelo conseguido a través del método <code>score</code>:"
   ]
  },
  {
   "cell_type": "code",
   "execution_count": null,
   "id": "d93753c3",
   "metadata": {},
   "outputs": [],
   "source": [
    "print(\"Mejores hiperparámetros: \", search.best_params_)\n",
    "print(\"Puntuación de prueba: \", search.score(X_test, y_test))"
   ]
  },
  {
   "cell_type": "markdown",
   "id": "77bab256",
   "metadata": {},
   "source": [
    "## Entrenando un modelo con los mejores parámetros\n",
    "\n",
    "Para entrenar el modelo final, podemos tomar los mejores hiperparámetros y pasarlos al constructor, esto crea un modelo fresco con la configuración ideal que acabamos de conseguir y lo entrena con la totalidad de nuestros datos de entrenamiento:"
   ]
  },
  {
   "cell_type": "code",
   "execution_count": null,
   "id": "bcffa359",
   "metadata": {},
   "outputs": [],
   "source": [
    "best_model = RandomForestRegressor(**search.best_params_)\n",
    "\n",
    "best_model.fit(X_train, y_train)"
   ]
  },
  {
   "cell_type": "markdown",
   "id": "59b4c1b2",
   "metadata": {},
   "source": [
    " > 📚 De tarea, practica usando una búsqueda en cuadrícula, utilizando <code>GridSearchCV</code>. Cuidado con utilizar muchos parámetros porque <i>grid search</i> toma tiempo para ejecutarse."
   ]
  },
  {
   "cell_type": "markdown",
   "id": "cf33c156",
   "metadata": {},
   "source": [
    "## No garantiza la mejor solución\n",
    "\n",
    "Es importante tener en cuenta que la búsqueda de hiperparámetros no garantiza encontrar el conjunto óptimo de hiperparámetros para un modelo dado. Es posible que la combinación óptima de hiperparámetros no se encuentre en el espacio de búsqueda especificado manualmente. Por lo tanto, es importante considerar la búsqueda de hiperparámetros como un proceso iterativo que puede requerir varias iteraciones para alcanzar un conjunto óptimo de hiperparámetros para un modelo dado."
   ]
  },
  {
   "cell_type": "markdown",
   "id": "4f7ec668",
   "metadata": {},
   "source": [
    "## En conclusión\n",
    "\n",
    "La búsqueda de hiperparámetros es un paso crucial cuando quieres sacarle el máximo provecho a los datos. En scikit-learn esta búsqueda está fuertemente ligada con la validación cruzada aunque en la teoría son dos conceptos independientes el uno del otro.\n",
    "\n",
    "scikit-learn ofrece dos métodos de búsqueda de hiperparámetros: GridSearchCV y RandomizedSearchCV. El primero realiza una búsqueda exhaustiva sobre todas las combinaciones posibles de valores de hiperparámetros especificados, mientras que el segundo realiza una búsqueda aleatoria de un subconjunto de combinaciones. En general, RandomizedSearchCV puede ser más eficiente que GridSearchCV cuando el espacio de búsqueda de hiperparámetros es grande.\n",
    "\n",
    "También recuerda que no es una solución mágica, y que a veces debes iterar en la elección del mejor espacio de búsqueda."
   ]
  }
 ],
 "metadata": {
  "kernelspec": {
   "display_name": "Python 3 (ipykernel)",
   "language": "python",
   "name": "python3"
  },
  "language_info": {
   "codemirror_mode": {
    "name": "ipython",
    "version": 3
   },
   "file_extension": ".py",
   "mimetype": "text/x-python",
   "name": "python",
   "nbconvert_exporter": "python",
   "pygments_lexer": "ipython3",
   "version": "3.8.11"
  },
  "notion_metadata": {
   "archived": false,
   "cover": null,
   "created_by": {
    "id": "84951847-6e2b-487e-acba-6838f60f1102",
    "object": "user"
   },
   "created_time": "2023-03-14T20:34:00.000Z",
   "icon": null,
   "id": "8da91980-e5e1-49cb-8e7a-4b74406ffda5",
   "last_edited_by": {
    "id": "84951847-6e2b-487e-acba-6838f60f1102",
    "object": "user"
   },
   "last_edited_time": "2023-04-21T17:06:00.000Z",
   "object": "page",
   "parent": {
    "database_id": "97ecfa4e-50d1-4827-8791-2199c709d680",
    "type": "database_id"
   },
   "properties": {
    "Assign": {
     "id": "%5DtZZ",
     "people": [],
     "type": "people"
    },
    "Code name": {
     "id": "PT%5CP",
     "rich_text": [],
     "type": "rich_text"
    },
    "Name": {
     "id": "title",
     "title": [
      {
       "annotations": {
        "bold": false,
        "code": false,
        "color": "default",
        "italic": false,
        "strikethrough": false,
        "underline": false
       },
       "href": null,
       "plain_text": "3.1.2 Hyper-parameter tunning",
       "text": {
        "content": "3.1.2 Hyper-parameter tunning",
        "link": null
       },
       "type": "text"
      }
     ],
     "type": "title"
    },
    "Order": {
     "id": "k_Cb",
     "number": 4.2,
     "type": "number"
    },
    "Real order": {
     "id": "%7Dn_k",
     "rich_text": [
      {
       "annotations": {
        "bold": false,
        "code": false,
        "color": "default",
        "italic": false,
        "strikethrough": false,
        "underline": false
       },
       "href": null,
       "plain_text": "14",
       "text": {
        "content": "14",
        "link": null
       },
       "type": "text"
      }
     ],
     "type": "rich_text"
    },
    "Status": {
     "id": "s%7D%5Ea",
     "status": {
      "color": "green",
      "id": "b6060d48-45e7-42e9-a8a0-8bd803231f7f",
      "name": "Done"
     },
     "type": "status"
    }
   },
   "url": "https://www.notion.so/3-1-2-Hyper-parameter-tunning-8da91980e5e149cb8e7a4b74406ffda5"
  }
 },
 "nbformat": 4,
 "nbformat_minor": 5
}
