{
 "cells": [
  {
   "cell_type": "markdown",
   "id": "0d64ba02",
   "metadata": {},
   "source": [
    "# Vectorizando diccionarios\n",
    "\n",
    "Llegó el momento de comenzar a hablar sobre feature engineering y pre-procesamiento de datos. En la gran mayoría de los casos, el pre-procesamiento de datos consiste en transofmar nuestras variables a números para que nuestro modelo los pueda procesar. Vamos a comenzar.\n",
    "\n",
    "No es nada fuera de lo común el trabajar con información contenida en diccionarios de Python, después de todo es uno de los tipos soportados por default en el lenguaje. \n",
    "\n",
    "Para lidiar con este tipo de datos, scikit-learn nos ofrece un transformador de datos, llamado <code>DictVectorizer</code> para convertir diccionarios con características categóricas y numéricas a representaciones vectoriales.\n",
    "\n",
    "Para demostrarte un ejemplo, vamos a crear un conjunto de datos en la forma de una lista de diccionarios:"
   ]
  },
  {
   "cell_type": "code",
   "execution_count": null,
   "id": "7255d8bb",
   "metadata": {},
   "outputs": [],
   "source": [
    "data = [\n",
    "    {'name': 'Hugo', 'age': 25, 'city': 'Bogotá'},\n",
    "    {'name': 'Paco', 'age': 30, 'city': 'Tlaxcala'},\n",
    "    {'name': 'Luis', 'age': 22, 'city': 'Buenos Aires'}\n",
    "]"
   ]
  },
  {
   "cell_type": "markdown",
   "id": "3c969dbc",
   "metadata": {},
   "source": [
    "Importamos la clase:"
   ]
  },
  {
   "cell_type": "code",
   "execution_count": null,
   "id": "7ad98d92",
   "metadata": {},
   "outputs": [],
   "source": [
    "from sklearn.feature_extraction import DictVectorizer"
   ]
  },
  {
   "cell_type": "markdown",
   "id": "b349941b",
   "metadata": {},
   "source": [
    "Inicializamos un objeto:"
   ]
  },
  {
   "cell_type": "code",
   "execution_count": null,
   "id": "b8482deb",
   "metadata": {},
   "outputs": [],
   "source": [
    "vectorizer = DictVectorizer(sparse=False)"
   ]
  },
  {
   "cell_type": "markdown",
   "id": "ce945afc",
   "metadata": {},
   "source": [
    "Y entrenamos el vectorizador con nuestros datos de entrada, e inmediatamente procedemos a transformar el mismo arreglo de entrada:"
   ]
  },
  {
   "cell_type": "code",
   "execution_count": null,
   "id": "1562932d",
   "metadata": {},
   "outputs": [],
   "source": [
    "vectorizer.fit(data)\n",
    "vectorized_data = vectorizer.transform(data)"
   ]
  },
  {
   "cell_type": "markdown",
   "id": "a29f48e7",
   "metadata": {},
   "source": [
    "Al hacer esto, y gracias al argumento <code>sparse=False</code>, obtenemos un arreglo bidimensional en NumPy:"
   ]
  },
  {
   "cell_type": "code",
   "execution_count": null,
   "id": "638b29af",
   "metadata": {},
   "outputs": [],
   "source": [
    "vectorized_data"
   ]
  },
  {
   "cell_type": "markdown",
   "id": "a13c0712",
   "metadata": {},
   "source": [
    "Si tienes curiosidad de conocer el orden de las columnas en este arreglo bidimensional, puedes usar la propiedad <code>feature_names_</code> o la propiedad <code>vocabulary_</code>:"
   ]
  },
  {
   "cell_type": "code",
   "execution_count": null,
   "id": "d2f54bc0",
   "metadata": {},
   "outputs": [],
   "source": [
    "print(vectorizer.feature_names_)\n",
    "print(vectorizer.vocabulary_)"
   ]
  },
  {
   "cell_type": "markdown",
   "id": "87aa21a2",
   "metadata": {},
   "source": [
    "Una te entrega una lista ordenada de las columnas, mientras que la otra te da un diccionario que mapea el nombre de una columna con el número que le corresponde dentro del arreglo bidimiensional resultante.\n",
    "\n",
    "Así podemos ver que las columnas de texto han sido codificadas utilizando la técnica <i>one-hot encoding</i>, es decir, un uno en donde corresponde al valor y cero en el resto de las columnas. Por otro lado, la propiedad “age” ha permanecido como el valor numérico que ya era."
   ]
  },
  {
   "cell_type": "markdown",
   "id": "2c25fd38",
   "metadata": {},
   "source": [
    "## Parámetros extra\n",
    "\n",
    "En cuanto a los parámetros que le pasamos al constructor, el más relevante es uno que ya utilizamos: <code>sparse</code> que por default es igual a <code>True</code>, y cuando este argumento es verdadero, el vectorizador en lugar de regresar un arreglo de NumPy, nos devolverá una matriz dispersa de SciPy:\n",
    "\n",
    "Quizá el argumento más relevante es <code>sparse</code>, que permite especificar el tipo de la salida:"
   ]
  },
  {
   "cell_type": "code",
   "execution_count": null,
   "id": "5bee24c5",
   "metadata": {},
   "outputs": [],
   "source": [
    "vectorizer = DictVectorizer()\n",
    "vectorized_data = vectorizer.fit_transform(data)\n",
    "vectorized_data"
   ]
  },
  {
   "cell_type": "markdown",
   "id": "dc8429c4",
   "metadata": {},
   "source": [
    " > 📚 De tarea, te dejo que experimentes pasándole diccionarios con llaves y valores que no hayas visto antes. Dime en los comentarios, ¿qué es lo que sucede?"
   ]
  },
  {
   "cell_type": "markdown",
   "id": "6cf57c6b",
   "metadata": {},
   "source": [
    "## Conclusión\n",
    "\n",
    "<code>DictVectorizer</code> es una herramienta poderosa, sin embargo, no es siempre la mejor forma de codificar tus datos. \n",
    "\n",
    "Utilízalo cuando tengas que lidiar con datos estructurados en la forma de diccionarios, y cuando las propiedades de estos sean valores categóricos en forma de cadenas o números.\n",
    "\n",
    "También debes tener cuidado de usarlo cuando tienes una alta cardinalidad en valores categóricos, en nuestro ejemplo anterior, podrías considerar la propiedad “name” como una con una alta cardinalidad, después de todo puede existir un número infinito de nombres.\n",
    "\n",
    "Otra cosa que hay que tener en cuenta es que <code>DictVectorizer</code> es un tanto genérico, y hay veces en las que requerirás tener más control sobre cómo es que la transformación entre datos de entrada y características sucede."
   ]
  }
 ],
 "metadata": {
  "kernelspec": {
   "display_name": "Python 3 (ipykernel)",
   "language": "python",
   "name": "python3"
  },
  "language_info": {
   "codemirror_mode": {
    "name": "ipython",
    "version": 3
   },
   "file_extension": ".py",
   "mimetype": "text/x-python",
   "name": "python",
   "nbconvert_exporter": "python",
   "pygments_lexer": "ipython3",
   "version": "3.8.11"
  },
  "notion_metadata": {
   "archived": false,
   "cover": null,
   "created_by": {
    "id": "84951847-6e2b-487e-acba-6838f60f1102",
    "object": "user"
   },
   "created_time": "2023-03-14T19:56:00.000Z",
   "icon": null,
   "id": "286afa10-f5b3-49ae-aae0-5a46da144287",
   "last_edited_by": {
    "id": "84951847-6e2b-487e-acba-6838f60f1102",
    "object": "user"
   },
   "last_edited_time": "2023-04-21T17:04:00.000Z",
   "object": "page",
   "parent": {
    "database_id": "97ecfa4e-50d1-4827-8791-2199c709d680",
    "type": "database_id"
   },
   "properties": {
    "Assign": {
     "id": "%5DtZZ",
     "people": [],
     "type": "people"
    },
    "Code name": {
     "id": "PT%5CP",
     "rich_text": [],
     "type": "rich_text"
    },
    "Name": {
     "id": "title",
     "title": [
      {
       "annotations": {
        "bold": false,
        "code": false,
        "color": "default",
        "italic": false,
        "strikethrough": false,
        "underline": false
       },
       "href": null,
       "plain_text": "2.1.1 DictVectorizer",
       "text": {
        "content": "2.1.1 DictVectorizer",
        "link": null
       },
       "type": "text"
      }
     ],
     "type": "title"
    },
    "Order": {
     "id": "k_Cb",
     "number": 3.11,
     "type": "number"
    },
    "Real order": {
     "id": "%7Dn_k",
     "rich_text": [
      {
       "annotations": {
        "bold": false,
        "code": false,
        "color": "default",
        "italic": false,
        "strikethrough": false,
        "underline": false
       },
       "href": null,
       "plain_text": "06",
       "text": {
        "content": "06",
        "link": null
       },
       "type": "text"
      }
     ],
     "type": "rich_text"
    },
    "Status": {
     "id": "s%7D%5Ea",
     "status": {
      "color": "green",
      "id": "b6060d48-45e7-42e9-a8a0-8bd803231f7f",
      "name": "Done"
     },
     "type": "status"
    }
   },
   "url": "https://www.notion.so/2-1-1-DictVectorizer-286afa10f5b349aeaae05a46da144287"
  }
 },
 "nbformat": 4,
 "nbformat_minor": 5
}
