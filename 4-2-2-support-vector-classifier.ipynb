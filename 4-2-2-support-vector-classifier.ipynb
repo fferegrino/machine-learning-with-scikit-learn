{
 "cells": [
  {
   "cell_type": "markdown",
   "id": "65f8ab8e",
   "metadata": {},
   "source": [
    "# Support Vector Classifiers\n",
    "\n",
    "SVM es un algoritmo que nos sirve para realizar clasificación de datos.  Ya sabes que el funcionamiento básico de SVM consiste en encontrar un hiperplano que pueda separar las diferentes categorías de datos, \n",
    "\n",
    "Scikit-Learn nos ofrece una implementación de SVM para clasificación en la clase <code>SVC</code> dentro del módulo <code>sklearn.svm</code>:"
   ]
  },
  {
   "cell_type": "code",
   "execution_count": null,
   "id": "37f7e085",
   "metadata": {},
   "outputs": [],
   "source": [
    "from sklearn.svm import SVC\n",
    "\n",
    "svc = SVC()"
   ]
  },
  {
   "cell_type": "markdown",
   "id": "1320bfcc",
   "metadata": {},
   "source": [
    "Pero primero, vamos a generar un dataset para probar el clasificador:"
   ]
  },
  {
   "cell_type": "code",
   "execution_count": null,
   "id": "b6bf65ac",
   "metadata": {},
   "outputs": [],
   "source": [
    "from sklearn.datasets import make_classification\n",
    "from sklearn.model_selection import train_test_split\n",
    "\n",
    "X, y = make_classification(n_samples=500, n_features=15, n_classes=2, random_state=0)\n",
    "\n",
    "X_train, X_test, y_train, y_test = train_test_split(X, y, random_state=0)"
   ]
  },
  {
   "cell_type": "markdown",
   "id": "3fced032",
   "metadata": {},
   "source": [
    "Y después podemos entrenar el modelo"
   ]
  },
  {
   "cell_type": "code",
   "execution_count": null,
   "id": "22ec896e",
   "metadata": {},
   "outputs": [],
   "source": [
    "svc.fit(X_train, y_train)\n",
    "y_pred = svc.predict(X_test)"
   ]
  },
  {
   "cell_type": "markdown",
   "id": "bdca8caf",
   "metadata": {},
   "source": [
    "Y podemos evaluar el desmpeño usando la función de precisión:"
   ]
  },
  {
   "cell_type": "code",
   "execution_count": null,
   "id": "cb4a0e00",
   "metadata": {},
   "outputs": [],
   "source": [
    "from sklearn.metrics import accuracy_score\n",
    "\n",
    "accuracy = accuracy_score(y_test, y_pred)\n",
    "print(\"Precisión del modelo SVM: {:.2f}\".format(accuracy))"
   ]
  },
  {
   "cell_type": "markdown",
   "id": "ce648760",
   "metadata": {},
   "source": [
    "## Argumentos de la función\n",
    "\n",
    "La clase SVC tiene una gran cantidad de argumentos, y ya sabes que su importancia varía de problema a problema, sin embargo, los primeros que deberías considerar ajustar son los siguientes:\n",
    "\n",
    " - <code>C</code>: Este parámetro controla la penalización de errores de clasificación. Un valor adecuado de C puede ayudar a evitar tanto el <i>overfitting </i>como el <i>underfitting</i>.\n",
    "\n",
    " - <code>kernel</code>: Este parámetro determina la transformación que se le va a aplicar a los datos antes de ejecutar el algoritmos de SVC. Te recomiendo que intentes con varios para encontrar el mejor para tu modelo - particularmente si no son separables linealmente.\n",
    "\n",
    " - <code>degree</code>: Este parámetro se utiliza con el kernel <code>poly</code> y controla el grado del polinomio que se utiliza para la transformación de los datos, un grado mayor a 1 proporciona una frontera más compleja pero corre el riesgo de sufrir de <i>overfitting</i>.\n",
    "\n",
    " - <code>gamma</code>: Este parámetro se utiliza con los kernels <code>poly</code>, <code>rbf</code> y <code>sigmoid</code> y controla cómo es que se comporta. Un valor adecuado de gamma puede ayudar a evitar tanto el <i>overfitting</i> como el <i>underfitting</i>.\n",
    "\n",
    " - <code>class_weight</code>: Este parámetro se utiliza para abordar el desequilibrio de clases en el conjunto de datos. Si el conjunto de datos tiene clases desequilibradas, el ajuste de los pesos de las clases puede mejorar significativamente el rendimiento del modelo. Ya vimos la importancia que este argumento tiene en problemas de clasificación en la lección sobre la regresión logística."
   ]
  },
  {
   "cell_type": "markdown",
   "id": "13dfbdbf",
   "metadata": {},
   "source": [
    "## Comportamiento de algunos argumentos\n",
    "\n",
    "Vamos a ver el efecto que tienen algunos argumentos sobre SVC, lo que haremos es visualizar la frontera de decisión. \n",
    "\n",
    "Primero necesitamos crear un dataset de juguete, este tendrá dos dimensiones o features:"
   ]
  },
  {
   "cell_type": "code",
   "execution_count": null,
   "id": "61e7739e",
   "metadata": {},
   "outputs": [],
   "source": [
    "from sklearn.datasets import make_moons\n",
    "\n",
    "X, y = make_moons(n_samples=100, random_state=42, noise=0.10)"
   ]
  },
  {
   "cell_type": "markdown",
   "id": "a8115a1d",
   "metadata": {},
   "source": [
    "### <code>C</code> - Regularización\n",
    "\n",
    "En cierto modo podemos pensar en este valor como uno que nos deja elegir qué tan estricto tiene que ser el margen entre la línea y los elementos de nuestro dataset, aquí debes tener en cuenta que entre menor sea el valor, menor será el efecto sobre el margen - por default el valor es 1:"
   ]
  },
  {
   "cell_type": "code",
   "execution_count": null,
   "id": "975617d6",
   "metadata": {},
   "outputs": [],
   "source": [
    "from utils import plot_boundaries\n",
    "\n",
    "C_values = [0.001, 0.01,0.1, 1, 10]\n",
    "svcs = []\n",
    "\n",
    "for C_value in C_values:\n",
    "    svcs.append(\n",
    "        (f\"C = {C_value}\", SVC(kernel='linear', C=C_value))\n",
    "    )\n",
    "\n",
    "plot_boundaries(X, y, svcs)"
   ]
  },
  {
   "cell_type": "markdown",
   "id": "212fc828",
   "metadata": {},
   "source": [
    "## <code>kernel</code>\n",
    "\n",
    "Este argumento controla la transformación interna que se le aplica a los datos para intentar obtener un hiperplano que los separe, por default el valor RBF que proviene de r<i>adial basis function:</i>"
   ]
  },
  {
   "cell_type": "code",
   "execution_count": null,
   "id": "d5204e6a",
   "metadata": {},
   "outputs": [],
   "source": [
    "kernels = ['linear', 'poly', 'rbf', 'sigmoid']\n",
    "\n",
    "svcs = []\n",
    "for kernel in kernels:\n",
    "    svcs.append(\n",
    "        (f\"Kernel = {kernel}\", SVC(kernel=kernel, C=1))\n",
    "    )\n",
    "plot_boundaries(X, y, svcs)"
   ]
  },
  {
   "cell_type": "markdown",
   "id": "e0ff8539",
   "metadata": {},
   "source": [
    "## <code>degree</code>\n",
    "\n",
    "Este controla el grado del polinomio cuando se elige el kernel <code>poly</code>:"
   ]
  },
  {
   "cell_type": "code",
   "execution_count": null,
   "id": "b906afde",
   "metadata": {},
   "outputs": [],
   "source": [
    "degree_values = [1, 2, 3, 4, 5, 6]\n",
    "\n",
    "svcs = [\n",
    "    (f\"Degree = {degree}\", SVC(kernel='poly', degree=degree, C=1))\n",
    "    for degree in degree_values\n",
    "]\n",
    "\n",
    "plot_boundaries(X, y, svcs)"
   ]
  },
  {
   "cell_type": "markdown",
   "id": "2ea13491",
   "metadata": {},
   "source": [
    "## <code>LinearSVC</code>\n",
    "\n",
    "Existe otra clase dentro del módulo <code>svm</code> de Scikit-Learn, llamada <code>LinearSVC</code> que  deberías considerar si tu conjunto de datos es grande o tiene muchas características. <code>LinearSVC</code> es una versión de SVM que utiliza un kernel lineal y está optimizado para la clasificación lineal. Puede ser mucho más rápido en grandes conjuntos de datos que SVC con un kernel no lineal, y consume menos memoria.\n",
    "\n",
    "La diferencia entre <code>SVC</code> y <code>LinearSVC</code> es que <code>SVC</code> puede utilizar cualquier kernel (por ejemplo, lineal, polinómico, RBF), mientras que <code>LinearSVC</code> sólo puede utilizar un kernel lineal. Como resultado, <code>SVC</code> puede ser más potente y preciso que <code>LinearSVC</code> para problemas no lineales, pero también puede ser más lento y consumir más memoria. Por otro lado, <code>LinearSVC</code> es más rápido y consume menos memoria, pero sólo puede resolver problemas lineales.\n",
    "\n",
    "En general es buena idea probar con ambas opciones y diferentes configuraciones para encontrar la mejor combinación que funcione para tus necesidades, siempre y cuando tengas en cuenta el costo beneficio entre ellos. \n",
    "\n",
    "Y pues ahí lo tienes, espero que ahora te queden má claros en qué tipo de problemas puede uno aplicar SVM y cuáles son los argumentos más importantes para comenzar a tunear los hiperparámetros."
   ]
  }
 ],
 "metadata": {
  "kernelspec": {
   "display_name": "Python 3 (ipykernel)",
   "language": "python",
   "name": "python3"
  },
  "language_info": {
   "codemirror_mode": {
    "name": "ipython",
    "version": 3
   },
   "file_extension": ".py",
   "mimetype": "text/x-python",
   "name": "python",
   "nbconvert_exporter": "python",
   "pygments_lexer": "ipython3",
   "version": "3.8.11"
  },
  "notion_metadata": {
   "archived": false,
   "cover": null,
   "created_by": {
    "id": "84951847-6e2b-487e-acba-6838f60f1102",
    "object": "user"
   },
   "created_time": "2023-03-14T20:31:00.000Z",
   "icon": null,
   "id": "6afe71d5-7482-4602-8cda-bc5012843e4a",
   "last_edited_by": {
    "id": "84951847-6e2b-487e-acba-6838f60f1102",
    "object": "user"
   },
   "last_edited_time": "2023-04-23T09:31:00.000Z",
   "object": "page",
   "parent": {
    "database_id": "97ecfa4e-50d1-4827-8791-2199c709d680",
    "type": "database_id"
   },
   "properties": {
    "Assign": {
     "id": "%5DtZZ",
     "people": [],
     "type": "people"
    },
    "Code name": {
     "id": "PT%5CP",
     "rich_text": [
      {
       "annotations": {
        "bold": false,
        "code": false,
        "color": "default",
        "italic": false,
        "strikethrough": false,
        "underline": false
       },
       "href": null,
       "plain_text": "SupportVectorClassifier",
       "text": {
        "content": "SupportVectorClassifier",
        "link": null
       },
       "type": "text"
      }
     ],
     "type": "rich_text"
    },
    "Name": {
     "id": "title",
     "title": [
      {
       "annotations": {
        "bold": false,
        "code": false,
        "color": "default",
        "italic": false,
        "strikethrough": false,
        "underline": false
       },
       "href": null,
       "plain_text": "4.2.2 Support Vector Classifier",
       "text": {
        "content": "4.2.2 Support Vector Classifier",
        "link": null
       },
       "type": "text"
      }
     ],
     "type": "title"
    },
    "Order": {
     "id": "k_Cb",
     "number": 5.22,
     "type": "number"
    },
    "Real order": {
     "id": "%7Dn_k",
     "rich_text": [
      {
       "annotations": {
        "bold": false,
        "code": false,
        "color": "default",
        "italic": false,
        "strikethrough": false,
        "underline": false
       },
       "href": null,
       "plain_text": "23",
       "text": {
        "content": "23",
        "link": null
       },
       "type": "text"
      }
     ],
     "type": "rich_text"
    },
    "Status": {
     "id": "s%7D%5Ea",
     "status": {
      "color": "green",
      "id": "b6060d48-45e7-42e9-a8a0-8bd803231f7f",
      "name": "Done"
     },
     "type": "status"
    }
   },
   "url": "https://www.notion.so/4-2-2-Support-Vector-Classifier-6afe71d5748246028cdabc5012843e4a"
  }
 },
 "nbformat": 4,
 "nbformat_minor": 5
}
